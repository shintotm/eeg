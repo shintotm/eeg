{
 "cells": [
  {
   "cell_type": "code",
   "execution_count": 1,
   "metadata": {
    "collapsed": true
   },
   "outputs": [],
   "source": [
    "import glob\n",
    "import numpy as np"
   ]
  },
  {
   "cell_type": "code",
   "execution_count": 2,
   "metadata": {
    "collapsed": true
   },
   "outputs": [],
   "source": [
    "file_sets = ['O', 'S'] # O-> Set B (Normal ), S-> Set E (Seizure)\n",
    "label_sets = [0,1] # 0->Normal, 1-> Seizure"
   ]
  },
  {
   "cell_type": "code",
   "execution_count": 3,
   "metadata": {},
   "outputs": [],
   "source": [
    "# data is in folders 'input/O, input/S' etc.\n",
    "data=[]\n",
    "labels = []\n",
    "for file_set, label in zip(file_sets, label_sets):\n",
    "    for file in glob.glob('input/'+ file_set +'/*.txt'):\n",
    "        with open(file) as f:\n",
    "            int_list = [int(x) for x in f]\n",
    "            data.append(int_list)\n",
    "            labels.append(label)"
   ]
  },
  {
   "cell_type": "code",
   "execution_count": 4,
   "metadata": {},
   "outputs": [
    {
     "data": {
      "text/plain": [
       "(200, 4097)"
      ]
     },
     "execution_count": 4,
     "metadata": {},
     "output_type": "execute_result"
    }
   ],
   "source": [
    "data = np.asarray(data)\n",
    "data.shape"
   ]
  },
  {
   "cell_type": "code",
   "execution_count": 5,
   "metadata": {},
   "outputs": [
    {
     "name": "stdout",
     "output_type": "stream",
     "text": [
      "(200,)\n"
     ]
    }
   ],
   "source": [
    "labels = np.asarray(labels)\n",
    "print(labels.shape)"
   ]
  },
  {
   "cell_type": "code",
   "execution_count": 6,
   "metadata": {},
   "outputs": [],
   "source": [
    "# randomize the data\n",
    "indices = np.arange(data.shape[0])\n",
    "np.random.shuffle(indices)\n",
    "data = data[indices]\n",
    "labels = labels[indices]"
   ]
  },
  {
   "cell_type": "code",
   "execution_count": 7,
   "metadata": {},
   "outputs": [
    {
     "name": "stdout",
     "output_type": "stream",
     "text": [
      "x_train shape: (160, 4097)\n",
      "y_train shape: (160,)\n",
      "x_val shape: (40, 4097)\n",
      "y_val shape: (40,)\n"
     ]
    }
   ],
   "source": [
    "# split the data into training and validation set\n",
    "training_samples = 160\n",
    "x_train = data[:training_samples]\n",
    "y_train = labels[:training_samples]\n",
    "x_val = data[training_samples:]\n",
    "y_val = labels[training_samples:]\n",
    "print('x_train shape:', x_train.shape)\n",
    "print('y_train shape:', y_train.shape)\n",
    "print('x_val shape:', x_val.shape)\n",
    "print('y_val shape:', y_val.shape)"
   ]
  },
  {
   "cell_type": "code",
   "execution_count": 8,
   "metadata": {},
   "outputs": [
    {
     "name": "stderr",
     "output_type": "stream",
     "text": [
      "Using TensorFlow backend.\n"
     ]
    }
   ],
   "source": [
    "from keras import models\n",
    "from keras import layers\n",
    "\n",
    "model = models.Sequential()\n",
    "model.add(layers.Dense(1000, activation='relu', input_shape=(x_train.shape[1],)))\n",
    "model.add(layers.Dense(500, activation='relu'))\n",
    "model.add(layers.Dense(64, activation='relu'))\n",
    "model.add(layers.Dense(16, activation='relu'))\n",
    "model.add(layers.Dense(1, activation='sigmoid'))"
   ]
  },
  {
   "cell_type": "code",
   "execution_count": 9,
   "metadata": {},
   "outputs": [
    {
     "name": "stdout",
     "output_type": "stream",
     "text": [
      "Train on 160 samples, validate on 40 samples\n",
      "Epoch 1/100\n",
      "160/160 [==============================] - 1s - loss: 6.7878 - acc: 0.5062 - val_loss: 5.9390 - val_acc: 0.5500\n",
      "Epoch 2/100\n",
      "160/160 [==============================] - 0s - loss: 4.8736 - acc: 0.6375 - val_loss: 5.5856 - val_acc: 0.5500\n",
      "Epoch 3/100\n",
      "160/160 [==============================] - 0s - loss: 4.0891 - acc: 0.7125 - val_loss: 4.9859 - val_acc: 0.5750\n",
      "Epoch 4/100\n",
      "160/160 [==============================] - 0s - loss: 3.6493 - acc: 0.7625 - val_loss: 4.9152 - val_acc: 0.6000\n",
      "Epoch 5/100\n",
      "160/160 [==============================] - 0s - loss: 3.6154 - acc: 0.7625 - val_loss: 4.8549 - val_acc: 0.6000\n",
      "Epoch 6/100\n",
      "160/160 [==============================] - 0s - loss: 3.2732 - acc: 0.7875 - val_loss: 4.8516 - val_acc: 0.5750\n",
      "Epoch 7/100\n",
      "160/160 [==============================] - 0s - loss: 3.1946 - acc: 0.8000 - val_loss: 4.9074 - val_acc: 0.5750\n",
      "Epoch 8/100\n",
      "160/160 [==============================] - 0s - loss: 3.1036 - acc: 0.8000 - val_loss: 4.9642 - val_acc: 0.5750\n",
      "Epoch 9/100\n",
      "160/160 [==============================] - 0s - loss: 3.0938 - acc: 0.8063 - val_loss: 4.9757 - val_acc: 0.5750\n",
      "Epoch 10/100\n",
      "160/160 [==============================] - 0s - loss: 3.0937 - acc: 0.8063 - val_loss: 4.9881 - val_acc: 0.5750\n",
      "Epoch 11/100\n",
      "160/160 [==============================] - 0s - loss: 3.0936 - acc: 0.8063 - val_loss: 4.9978 - val_acc: 0.5750\n",
      "Epoch 12/100\n",
      "160/160 [==============================] - 0s - loss: 3.0935 - acc: 0.8063 - val_loss: 5.0106 - val_acc: 0.5750\n",
      "Epoch 13/100\n",
      "160/160 [==============================] - 0s - loss: 3.0935 - acc: 0.8063 - val_loss: 5.0227 - val_acc: 0.5750\n",
      "Epoch 14/100\n",
      "160/160 [==============================] - 0s - loss: 3.0934 - acc: 0.8063 - val_loss: 5.0375 - val_acc: 0.5750\n",
      "Epoch 15/100\n",
      "160/160 [==============================] - 0s - loss: 3.0934 - acc: 0.8063 - val_loss: 5.3607 - val_acc: 0.5750\n",
      "Epoch 16/100\n",
      "160/160 [==============================] - 0s - loss: 2.8942 - acc: 0.8187 - val_loss: 5.3452 - val_acc: 0.5750\n",
      "Epoch 17/100\n",
      "160/160 [==============================] - 0s - loss: 2.7966 - acc: 0.8250 - val_loss: 5.3749 - val_acc: 0.5500\n",
      "Epoch 18/100\n",
      "160/160 [==============================] - 0s - loss: 2.6949 - acc: 0.8312 - val_loss: 5.3726 - val_acc: 0.5500\n",
      "Epoch 19/100\n",
      "160/160 [==============================] - 0s - loss: 2.6948 - acc: 0.8312 - val_loss: 5.3747 - val_acc: 0.5500\n",
      "Epoch 20/100\n",
      "160/160 [==============================] - 0s - loss: 2.6948 - acc: 0.8312 - val_loss: 5.3746 - val_acc: 0.5500\n",
      "Epoch 21/100\n",
      "160/160 [==============================] - 0s - loss: 2.6947 - acc: 0.8312 - val_loss: 5.3752 - val_acc: 0.5500\n",
      "Epoch 22/100\n",
      "160/160 [==============================] - 0s - loss: 2.6947 - acc: 0.8312 - val_loss: 5.3748 - val_acc: 0.5500\n",
      "Epoch 23/100\n",
      "160/160 [==============================] - 0s - loss: 2.6947 - acc: 0.8312 - val_loss: 5.3768 - val_acc: 0.5500\n",
      "Epoch 24/100\n",
      "160/160 [==============================] - 0s - loss: 2.6947 - acc: 0.8312 - val_loss: 5.3805 - val_acc: 0.5500\n",
      "Epoch 25/100\n",
      "160/160 [==============================] - 0s - loss: 2.6947 - acc: 0.8312 - val_loss: 5.3830 - val_acc: 0.5500\n",
      "Epoch 26/100\n",
      "160/160 [==============================] - 0s - loss: 2.6947 - acc: 0.8312 - val_loss: 5.3857 - val_acc: 0.5500\n",
      "Epoch 27/100\n",
      "160/160 [==============================] - 0s - loss: 2.6947 - acc: 0.8312 - val_loss: 5.3888 - val_acc: 0.5500\n",
      "Epoch 28/100\n",
      "160/160 [==============================] - 0s - loss: 2.6947 - acc: 0.8312 - val_loss: 5.3945 - val_acc: 0.5500\n",
      "Epoch 29/100\n",
      "160/160 [==============================] - 0s - loss: 2.6947 - acc: 0.8312 - val_loss: 5.3980 - val_acc: 0.5500\n",
      "Epoch 30/100\n",
      "160/160 [==============================] - 0s - loss: 2.6947 - acc: 0.8312 - val_loss: 5.4020 - val_acc: 0.5500\n",
      "Epoch 31/100\n",
      "160/160 [==============================] - 0s - loss: 2.6947 - acc: 0.8312 - val_loss: 5.6694 - val_acc: 0.5500\n",
      "Epoch 32/100\n",
      "160/160 [==============================] - 0s - loss: 2.4973 - acc: 0.8438 - val_loss: 5.4274 - val_acc: 0.5500\n",
      "Epoch 33/100\n",
      "160/160 [==============================] - 0s - loss: 2.4955 - acc: 0.8438 - val_loss: 5.4341 - val_acc: 0.5500\n",
      "Epoch 34/100\n",
      "160/160 [==============================] - 0s - loss: 2.4955 - acc: 0.8438 - val_loss: 5.4410 - val_acc: 0.5500\n",
      "Epoch 35/100\n",
      "160/160 [==============================] - 0s - loss: 2.4955 - acc: 0.8438 - val_loss: 5.4476 - val_acc: 0.5500\n",
      "Epoch 36/100\n",
      "160/160 [==============================] - 0s - loss: 2.4954 - acc: 0.8438 - val_loss: 5.4531 - val_acc: 0.5500\n",
      "Epoch 37/100\n",
      "160/160 [==============================] - 0s - loss: 2.4954 - acc: 0.8438 - val_loss: 5.4592 - val_acc: 0.5500\n",
      "Epoch 38/100\n",
      "160/160 [==============================] - 0s - loss: 2.4954 - acc: 0.8438 - val_loss: 5.4655 - val_acc: 0.5500\n",
      "Epoch 39/100\n",
      "160/160 [==============================] - 0s - loss: 2.4954 - acc: 0.8438 - val_loss: 5.4735 - val_acc: 0.5500\n",
      "Epoch 40/100\n",
      "160/160 [==============================] - 0s - loss: 2.4954 - acc: 0.8438 - val_loss: 5.4794 - val_acc: 0.5500\n",
      "Epoch 41/100\n",
      "160/160 [==============================] - 0s - loss: 2.4954 - acc: 0.8438 - val_loss: 5.4864 - val_acc: 0.5500\n",
      "Epoch 42/100\n",
      "160/160 [==============================] - 0s - loss: 2.4954 - acc: 0.8438 - val_loss: 5.4921 - val_acc: 0.5500\n",
      "Epoch 43/100\n",
      "160/160 [==============================] - 0s - loss: 2.4954 - acc: 0.8438 - val_loss: 5.5035 - val_acc: 0.5500\n",
      "Epoch 44/100\n",
      "160/160 [==============================] - 0s - loss: 2.4954 - acc: 0.8438 - val_loss: 5.5111 - val_acc: 0.5500\n",
      "Epoch 45/100\n",
      "160/160 [==============================] - 0s - loss: 2.4954 - acc: 0.8438 - val_loss: 5.5162 - val_acc: 0.5500\n",
      "Epoch 46/100\n",
      "160/160 [==============================] - 0s - loss: 2.4954 - acc: 0.8438 - val_loss: 5.5233 - val_acc: 0.5500\n",
      "Epoch 47/100\n",
      "160/160 [==============================] - 0s - loss: 2.4954 - acc: 0.8438 - val_loss: 5.5326 - val_acc: 0.5500\n",
      "Epoch 48/100\n",
      "160/160 [==============================] - 0s - loss: 2.4954 - acc: 0.8438 - val_loss: 5.5251 - val_acc: 0.5500\n",
      "Epoch 49/100\n",
      "160/160 [==============================] - 0s - loss: 2.4954 - acc: 0.8438 - val_loss: 5.5321 - val_acc: 0.5500\n",
      "Epoch 50/100\n",
      "160/160 [==============================] - 0s - loss: 2.4954 - acc: 0.8438 - val_loss: 5.5378 - val_acc: 0.5500\n",
      "Epoch 51/100\n",
      "160/160 [==============================] - 0s - loss: 2.4954 - acc: 0.8438 - val_loss: 5.5427 - val_acc: 0.5500\n",
      "Epoch 52/100\n",
      "160/160 [==============================] - 0s - loss: 2.4954 - acc: 0.8438 - val_loss: 5.4132 - val_acc: 0.5250\n",
      "Epoch 53/100\n",
      "160/160 [==============================] - 0s - loss: 2.1882 - acc: 0.8500 - val_loss: 5.4113 - val_acc: 0.5250\n",
      "Epoch 54/100\n",
      "160/160 [==============================] - 0s - loss: 1.6936 - acc: 0.8875 - val_loss: 5.5835 - val_acc: 0.5000\n",
      "Epoch 55/100\n",
      "160/160 [==============================] - 0s - loss: 1.5596 - acc: 0.9000 - val_loss: 5.4683 - val_acc: 0.5250\n",
      "Epoch 56/100\n",
      "160/160 [==============================] - 0s - loss: 1.4990 - acc: 0.9062 - val_loss: 5.4670 - val_acc: 0.5250\n",
      "Epoch 57/100\n",
      "160/160 [==============================] - 0s - loss: 1.4990 - acc: 0.9062 - val_loss: 5.4687 - val_acc: 0.5250\n",
      "Epoch 58/100\n",
      "160/160 [==============================] - 0s - loss: 1.4990 - acc: 0.9062 - val_loss: 5.4707 - val_acc: 0.5250\n",
      "Epoch 59/100\n",
      "160/160 [==============================] - 0s - loss: 1.4990 - acc: 0.9062 - val_loss: 5.4705 - val_acc: 0.5250\n",
      "Epoch 60/100\n",
      "160/160 [==============================] - 0s - loss: 1.4990 - acc: 0.9062 - val_loss: 5.4726 - val_acc: 0.5250\n",
      "Epoch 61/100\n",
      "160/160 [==============================] - 0s - loss: 1.4990 - acc: 0.9062 - val_loss: 5.4726 - val_acc: 0.5250\n",
      "Epoch 62/100\n",
      "160/160 [==============================] - 0s - loss: 1.4990 - acc: 0.9062 - val_loss: 5.4731 - val_acc: 0.5250\n",
      "Epoch 63/100\n",
      "160/160 [==============================] - 0s - loss: 1.4990 - acc: 0.9062 - val_loss: 5.4755 - val_acc: 0.5250\n",
      "Epoch 64/100\n",
      "160/160 [==============================] - 0s - loss: 1.4990 - acc: 0.9062 - val_loss: 5.4754 - val_acc: 0.5250\n",
      "Epoch 65/100\n",
      "160/160 [==============================] - 0s - loss: 1.4990 - acc: 0.9062 - val_loss: 5.4750 - val_acc: 0.5250\n",
      "Epoch 66/100\n"
     ]
    },
    {
     "name": "stdout",
     "output_type": "stream",
     "text": [
      "160/160 [==============================] - 0s - loss: 1.4990 - acc: 0.9062 - val_loss: 5.4746 - val_acc: 0.5250\n",
      "Epoch 67/100\n",
      "160/160 [==============================] - 0s - loss: 1.4990 - acc: 0.9062 - val_loss: 5.4748 - val_acc: 0.5250\n",
      "Epoch 68/100\n",
      "160/160 [==============================] - 0s - loss: 1.4990 - acc: 0.9062 - val_loss: 5.4739 - val_acc: 0.5250\n",
      "Epoch 69/100\n",
      "160/160 [==============================] - 0s - loss: 1.4990 - acc: 0.9062 - val_loss: 5.4734 - val_acc: 0.5250\n",
      "Epoch 70/100\n",
      "160/160 [==============================] - 0s - loss: 1.4990 - acc: 0.9062 - val_loss: 5.4723 - val_acc: 0.5250\n",
      "Epoch 71/100\n",
      "160/160 [==============================] - 0s - loss: 1.4990 - acc: 0.9062 - val_loss: 5.4752 - val_acc: 0.5250\n",
      "Epoch 72/100\n",
      "160/160 [==============================] - 0s - loss: 1.4990 - acc: 0.9062 - val_loss: 5.4738 - val_acc: 0.5250\n",
      "Epoch 73/100\n",
      "160/160 [==============================] - 0s - loss: 1.4990 - acc: 0.9062 - val_loss: 5.4738 - val_acc: 0.5250\n",
      "Epoch 74/100\n",
      "160/160 [==============================] - 0s - loss: 1.4990 - acc: 0.9062 - val_loss: 5.4707 - val_acc: 0.5250\n",
      "Epoch 75/100\n",
      "160/160 [==============================] - 0s - loss: 1.4990 - acc: 0.9062 - val_loss: 5.4703 - val_acc: 0.5250\n",
      "Epoch 76/100\n",
      "160/160 [==============================] - 0s - loss: 1.4990 - acc: 0.9062 - val_loss: 5.4702 - val_acc: 0.5250\n",
      "Epoch 77/100\n",
      "160/160 [==============================] - 0s - loss: 1.4990 - acc: 0.9062 - val_loss: 5.4685 - val_acc: 0.5250\n",
      "Epoch 78/100\n",
      "160/160 [==============================] - 0s - loss: 1.4990 - acc: 0.9062 - val_loss: 5.4634 - val_acc: 0.5250\n",
      "Epoch 79/100\n",
      "160/160 [==============================] - 0s - loss: 1.4990 - acc: 0.9062 - val_loss: 5.4647 - val_acc: 0.5250\n",
      "Epoch 80/100\n",
      "160/160 [==============================] - 0s - loss: 1.4990 - acc: 0.9062 - val_loss: 5.4633 - val_acc: 0.5250\n",
      "Epoch 81/100\n",
      "160/160 [==============================] - 0s - loss: 1.4990 - acc: 0.9062 - val_loss: 5.4621 - val_acc: 0.5250\n",
      "Epoch 82/100\n",
      "160/160 [==============================] - 0s - loss: 1.4990 - acc: 0.9062 - val_loss: 5.4643 - val_acc: 0.5250\n",
      "Epoch 83/100\n",
      "160/160 [==============================] - 0s - loss: 1.4990 - acc: 0.9062 - val_loss: 5.4621 - val_acc: 0.5250\n",
      "Epoch 84/100\n",
      "160/160 [==============================] - 0s - loss: 1.4990 - acc: 0.9062 - val_loss: 5.4621 - val_acc: 0.5250\n",
      "Epoch 85/100\n",
      "160/160 [==============================] - 0s - loss: 1.4990 - acc: 0.9062 - val_loss: 5.4619 - val_acc: 0.5250\n",
      "Epoch 86/100\n",
      "160/160 [==============================] - 0s - loss: 1.4990 - acc: 0.9062 - val_loss: 5.4619 - val_acc: 0.5250\n",
      "Epoch 87/100\n",
      "160/160 [==============================] - 0s - loss: 1.4990 - acc: 0.9062 - val_loss: 5.4639 - val_acc: 0.5250\n",
      "Epoch 88/100\n",
      "160/160 [==============================] - 0s - loss: 1.4990 - acc: 0.9062 - val_loss: 5.4617 - val_acc: 0.5250\n",
      "Epoch 89/100\n",
      "160/160 [==============================] - 0s - loss: 1.4990 - acc: 0.9062 - val_loss: 5.4613 - val_acc: 0.5250\n",
      "Epoch 90/100\n",
      "160/160 [==============================] - 0s - loss: 1.4990 - acc: 0.9062 - val_loss: 5.4600 - val_acc: 0.5250\n",
      "Epoch 91/100\n",
      "160/160 [==============================] - 0s - loss: 1.4990 - acc: 0.9062 - val_loss: 5.4622 - val_acc: 0.5250\n",
      "Epoch 92/100\n",
      "160/160 [==============================] - 0s - loss: 1.4990 - acc: 0.9062 - val_loss: 5.4592 - val_acc: 0.5250\n",
      "Epoch 93/100\n",
      "160/160 [==============================] - 0s - loss: 1.4990 - acc: 0.9062 - val_loss: 5.4597 - val_acc: 0.5250\n",
      "Epoch 94/100\n",
      "160/160 [==============================] - ETA: 0s - loss: 0.9964 - acc: 0.937 - 0s - loss: 1.4990 - acc: 0.9062 - val_loss: 5.4615 - val_acc: 0.5250\n",
      "Epoch 95/100\n",
      "160/160 [==============================] - 0s - loss: 1.4990 - acc: 0.9062 - val_loss: 5.4643 - val_acc: 0.5500\n",
      "Epoch 96/100\n",
      "160/160 [==============================] - 0s - loss: 1.3994 - acc: 0.9125 - val_loss: 5.4542 - val_acc: 0.5500\n",
      "Epoch 97/100\n",
      "160/160 [==============================] - 0s - loss: 1.3994 - acc: 0.9125 - val_loss: 5.4469 - val_acc: 0.5500\n",
      "Epoch 98/100\n",
      "160/160 [==============================] - 0s - loss: 1.3994 - acc: 0.9125 - val_loss: 5.4400 - val_acc: 0.5500\n",
      "Epoch 99/100\n",
      "160/160 [==============================] - 0s - loss: 1.3994 - acc: 0.9125 - val_loss: 5.4360 - val_acc: 0.5500\n",
      "Epoch 100/100\n",
      "160/160 [==============================] - 0s - loss: 1.3994 - acc: 0.9125 - val_loss: 5.4302 - val_acc: 0.5500\n"
     ]
    }
   ],
   "source": [
    "from keras import optimizers\n",
    "\n",
    "model.compile(optimizer=optimizers.RMSprop(lr=1e-5),\n",
    "              loss='binary_crossentropy',\n",
    "              metrics=['accuracy'])\n",
    "history = model.fit(x_train,\n",
    "                    y_train,\n",
    "                    epochs=100,\n",
    "                    batch_size=32,\n",
    "                    validation_data=(x_val, y_val))"
   ]
  },
  {
   "cell_type": "code",
   "execution_count": 10,
   "metadata": {},
   "outputs": [
    {
     "data": {
      "image/png": "[encoded data removed]",
      "text/plain": [
       "<matplotlib.figure.Figure at 0x7f541e8657b8>"
      ]
     },
     "metadata": {},
     "output_type": "display_data"
    }
   ],
   "source": [
    "import matplotlib.pyplot as plt\n",
    "%matplotlib inline\n",
    "\n",
    "acc = history.history['acc']\n",
    "val_acc = history.history['val_acc']\n",
    "epochs = range(1, len(acc) + 1)\n",
    "\n",
    "plt.plot(epochs, acc, 'bo', label='Training acc')\n",
    "plt.plot(epochs, val_acc, 'b', label='Validation acc')\n",
    "plt.title('Training and Validation accuracy')\n",
    "plt.legend()\n",
    "plt.show()"
   ]
  },
  {
   "cell_type": "code",
   "execution_count": null,
   "metadata": {
    "collapsed": true
   },
   "outputs": [],
   "source": []
  }
 ],
 "metadata": {
  "kernelspec": {
   "display_name": "Python 3",
   "language": "python",
   "name": "python3"
  },
  "language_info": {
   "codemirror_mode": {
    "name": "ipython",
    "version": 3
   },
   "file_extension": ".py",
   "mimetype": "text/x-python",
   "name": "python",
   "nbconvert_exporter": "python",
   "pygments_lexer": "ipython3",
   "version": "3.6.1"
  }
 },
 "nbformat": 4,
 "nbformat_minor": 2
}
