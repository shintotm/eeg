{
 "cells": [
  {
   "cell_type": "markdown",
   "metadata": {},
   "source": [
    "Keras implementaion of 'Deep convolutional neural network for the automated detection and diagnosis of seizure using EEG signals', U. Rajendra Acharya, Shu Lih Oh, Yuki Hagiwara, Jen Hong Tan, Hojjat Adeli.  https://www.ncbi.nlm.nih.gov/pubmed/28974302"
   ]
  },
  {
   "cell_type": "code",
   "execution_count": 1,
   "metadata": {
    "collapsed": true
   },
   "outputs": [],
   "source": [
    "import glob\n",
    "import numpy as np"
   ]
  },
  {
   "cell_type": "markdown",
   "metadata": {},
   "source": [
    "input files:\n",
    "\n",
    "* 'a (1)' to 'a (200)' (Normal )\n",
    "* 'b (1)' to 'b (200)' (Pre-ictal)\n",
    "* 'c (1)' to 'c (100)' (Seizure)\n",
    "\n",
    "sample file listing:\n",
    "\n",
    "a (100).txt,  a (177).txt,  a (71).txt,   b (148).TXT,  b (42).txt,\t c (28).txt\n",
    "\n",
    "a (101).txt,  a (178).txt,  a (72).txt,   b (149).TXT,  b (43).txt,\t c (29).txt\n",
    "\n",
    "a (102).txt,  a (179).txt,  a (73).txt,  b (14).txt,   b (44).txt,\t c (2).txt"
   ]
  },
  {
   "cell_type": "code",
   "execution_count": 2,
   "metadata": {
    "collapsed": true
   },
   "outputs": [],
   "source": [
    "file_sets = ['a', 'b', 'c']\n",
    "label_sets = [1, 2, 3] # 1->Normal, 2->Preictal,  3-> Seizure"
   ]
  },
  {
   "cell_type": "code",
   "execution_count": 3,
   "metadata": {},
   "outputs": [
    {
     "name": "stdout",
     "output_type": "stream",
     "text": [
      "shape of data: (500, 4097)\n",
      "shape of labels: (500,)\n"
     ]
    }
   ],
   "source": [
    "import os\n",
    "\n",
    "data=[]\n",
    "labels = []\n",
    "for file_set, label in zip(file_sets, label_sets):\n",
    "\n",
    "    for file in glob.glob(\"input/all/\" + file_set + \"*.*\"):\n",
    "        with open(file) as f:\n",
    "            int_list = [int(x) for x in f]\n",
    "            data.append(int_list)\n",
    "            labels.append(label)\n",
    "            \n",
    "data = np.asarray(data).astype('float32')\n",
    "labels = np.asarray(labels)\n",
    "print('shape of data:', data.shape)\n",
    "print('shape of labels:', labels.shape)"
   ]
  },
  {
   "cell_type": "code",
   "execution_count": 4,
   "metadata": {},
   "outputs": [
    {
     "data": {
      "text/plain": [
       "(array([1, 2, 3]), array([200, 200, 100]))"
      ]
     },
     "execution_count": 4,
     "metadata": {},
     "output_type": "execute_result"
    }
   ],
   "source": [
    "np.unique(labels, return_counts=True)"
   ]
  },
  {
   "cell_type": "code",
   "execution_count": 5,
   "metadata": {},
   "outputs": [
    {
     "name": "stdout",
     "output_type": "stream",
     "text": [
      "(500, 4097, 1)\n"
     ]
    }
   ],
   "source": [
    "# reshape the data\n",
    "data = data[:,:,np.newaxis]\n",
    "print(data.shape)"
   ]
  },
  {
   "cell_type": "code",
   "execution_count": 6,
   "metadata": {
    "collapsed": true
   },
   "outputs": [],
   "source": [
    "# randomize the data\n",
    "indices = np.arange(data.shape[0])\n",
    "np.random.shuffle(indices)\n",
    "data = data[indices]\n",
    "labels = labels[indices]"
   ]
  },
  {
   "cell_type": "markdown",
   "metadata": {},
   "source": [
    "### Train test split"
   ]
  },
  {
   "cell_type": "code",
   "execution_count": 7,
   "metadata": {},
   "outputs": [
    {
     "name": "stdout",
     "output_type": "stream",
     "text": [
      "x_train shape: (375, 4097, 1)\n",
      "x_val shape: (125, 4097, 1)\n"
     ]
    }
   ],
   "source": [
    "from sklearn.model_selection import train_test_split\n",
    "\n",
    "x_train, x_val, y_train, y_val = train_test_split(data, labels, \n",
    "                                                stratify = labels, random_state = 123)\n",
    "\n",
    "print('x_train shape:', x_train.shape)\n",
    "print('x_val shape:', x_val.shape)"
   ]
  },
  {
   "cell_type": "markdown",
   "metadata": {},
   "source": [
    "### Normalize data"
   ]
  },
  {
   "cell_type": "code",
   "execution_count": 8,
   "metadata": {},
   "outputs": [],
   "source": [
    "mean = x_train.mean()\n",
    "x_train -= mean\n",
    "std = x_train.std()\n",
    "x_train /= std\n",
    "\n",
    "x_val -= mean\n",
    "x_val /= std"
   ]
  },
  {
   "cell_type": "code",
   "execution_count": null,
   "metadata": {
    "collapsed": true
   },
   "outputs": [],
   "source": []
  },
  {
   "cell_type": "markdown",
   "metadata": {},
   "source": [
    "### one-hot encode targets"
   ]
  },
  {
   "cell_type": "code",
   "execution_count": 9,
   "metadata": {
    "collapsed": true
   },
   "outputs": [],
   "source": [
    "def one_hot(labels, n_class = 3):\n",
    "    \"\"\" One-hot encoding \"\"\"\n",
    "    expansion = np.eye(n_class)\n",
    "    y = expansion[:, labels-1].T\n",
    "    assert y.shape[1] == n_class, \"Wrong number of labels!\"\n",
    "\n",
    "    return y"
   ]
  },
  {
   "cell_type": "code",
   "execution_count": 10,
   "metadata": {
    "collapsed": true
   },
   "outputs": [],
   "source": [
    "y_train = one_hot(y_train)\n",
    "y_val = one_hot(y_val)"
   ]
  },
  {
   "cell_type": "code",
   "execution_count": 11,
   "metadata": {},
   "outputs": [
    {
     "name": "stderr",
     "output_type": "stream",
     "text": [
      "Using TensorFlow backend.\n"
     ]
    }
   ],
   "source": [
    "from keras.layers.convolutional import Conv1D, MaxPooling1D\n",
    "from keras.models import Sequential\n",
    "from keras.layers import Dense, Flatten\n",
    "from keras.optimizers import Adam\n",
    "from keras.layers.advanced_activations import LeakyReLU"
   ]
  },
  {
   "cell_type": "code",
   "execution_count": 12,
   "metadata": {},
   "outputs": [
    {
     "name": "stdout",
     "output_type": "stream",
     "text": [
      "_________________________________________________________________\n",
      "Layer (type)                 Output Shape              Param #   \n",
      "=================================================================\n",
      "conv1d_1 (Conv1D)            (None, 4092, 4)           28        \n",
      "_________________________________________________________________\n",
      "max_pooling1d_1 (MaxPooling1 (None, 2046, 4)           0         \n",
      "_________________________________________________________________\n",
      "conv1d_2 (Conv1D)            (None, 2042, 4)           84        \n",
      "_________________________________________________________________\n",
      "leaky_re_lu_1 (LeakyReLU)    (None, 2042, 4)           0         \n",
      "_________________________________________________________________\n",
      "max_pooling1d_2 (MaxPooling1 (None, 1021, 4)           0         \n",
      "_________________________________________________________________\n",
      "conv1d_3 (Conv1D)            (None, 1018, 10)          170       \n",
      "_________________________________________________________________\n",
      "leaky_re_lu_2 (LeakyReLU)    (None, 1018, 10)          0         \n",
      "_________________________________________________________________\n",
      "max_pooling1d_3 (MaxPooling1 (None, 509, 10)           0         \n",
      "_________________________________________________________________\n",
      "conv1d_4 (Conv1D)            (None, 506, 10)           410       \n",
      "_________________________________________________________________\n",
      "leaky_re_lu_3 (LeakyReLU)    (None, 506, 10)           0         \n",
      "_________________________________________________________________\n",
      "max_pooling1d_4 (MaxPooling1 (None, 253, 10)           0         \n",
      "_________________________________________________________________\n",
      "conv1d_5 (Conv1D)            (None, 250, 15)           615       \n",
      "_________________________________________________________________\n",
      "leaky_re_lu_4 (LeakyReLU)    (None, 250, 15)           0         \n",
      "_________________________________________________________________\n",
      "max_pooling1d_5 (MaxPooling1 (None, 125, 15)           0         \n",
      "_________________________________________________________________\n",
      "flatten_1 (Flatten)          (None, 1875)              0         \n",
      "_________________________________________________________________\n",
      "dense_1 (Dense)              (None, 50)                93800     \n",
      "_________________________________________________________________\n",
      "dense_2 (Dense)              (None, 20)                1020      \n",
      "_________________________________________________________________\n",
      "dense_3 (Dense)              (None, 3)                 63        \n",
      "=================================================================\n",
      "Total params: 96,190\n",
      "Trainable params: 96,190\n",
      "Non-trainable params: 0\n",
      "_________________________________________________________________\n"
     ]
    }
   ],
   "source": [
    "model = Sequential()\n",
    "model.add(Conv1D(filters=4, kernel_size=6, input_shape=x_train.shape[1:3],\n",
    "                activation='relu'))\n",
    "model.add(MaxPooling1D(2))\n",
    "\n",
    "model.add(Conv1D(filters=4, kernel_size=5, activation='linear'))\n",
    "model.add(LeakyReLU(alpha=.001))\n",
    "model.add(MaxPooling1D(2))\n",
    "\n",
    "model.add(Conv1D(filters=10, kernel_size=4, activation='linear'))\n",
    "model.add(LeakyReLU(alpha=.001))\n",
    "model.add(MaxPooling1D(2))\n",
    "\n",
    "model.add(Conv1D(filters=10, kernel_size=4, activation='linear'))\n",
    "model.add(LeakyReLU(alpha=.001))\n",
    "model.add(MaxPooling1D(2))\n",
    "\n",
    "model.add(Conv1D(filters=15, kernel_size=4, activation='linear'))\n",
    "model.add(LeakyReLU(alpha=.001))\n",
    "model.add(MaxPooling1D(2))\n",
    "\n",
    "model.add(Flatten())\n",
    "model.add(Dense(50, activation='relu'))\n",
    "model.add(Dense(20, activation='relu'))\n",
    "\n",
    "model.add(Dense(3, activation='softmax'))\n",
    "\n",
    "model.compile(loss='categorical_crossentropy', optimizer=Adam(lr=0.0001),\n",
    "            metrics=['accuracy'])\n",
    "model.summary()"
   ]
  },
  {
   "cell_type": "code",
   "execution_count": 13,
   "metadata": {},
   "outputs": [
    {
     "name": "stdout",
     "output_type": "stream",
     "text": [
      "Train on 375 samples, validate on 125 samples\n",
      "Epoch 1/150\n",
      "375/375 [==============================] - 2s - loss: 1.0420 - acc: 0.3253 - val_loss: 0.9805 - val_acc: 0.4240\n",
      "Epoch 2/150\n",
      "375/375 [==============================] - 0s - loss: 0.9197 - acc: 0.5147 - val_loss: 0.8739 - val_acc: 0.5840\n",
      "Epoch 3/150\n",
      "375/375 [==============================] - 0s - loss: 0.7782 - acc: 0.5787 - val_loss: 0.7442 - val_acc: 0.5600\n",
      "Epoch 4/150\n",
      "375/375 [==============================] - 0s - loss: 0.6729 - acc: 0.5760 - val_loss: 0.6821 - val_acc: 0.5600\n",
      "Epoch 5/150\n",
      "375/375 [==============================] - 0s - loss: 0.6167 - acc: 0.6800 - val_loss: 0.6300 - val_acc: 0.7680\n",
      "Epoch 6/150\n",
      "375/375 [==============================] - 0s - loss: 0.5551 - acc: 0.8027 - val_loss: 0.5826 - val_acc: 0.8560\n",
      "Epoch 7/150\n",
      "375/375 [==============================] - 0s - loss: 0.4892 - acc: 0.8853 - val_loss: 0.5107 - val_acc: 0.8640\n",
      "Epoch 8/150\n",
      "375/375 [==============================] - 0s - loss: 0.4249 - acc: 0.8880 - val_loss: 0.4422 - val_acc: 0.8640\n",
      "Epoch 9/150\n",
      "375/375 [==============================] - 0s - loss: 0.3467 - acc: 0.9440 - val_loss: 0.3715 - val_acc: 0.8800\n",
      "Epoch 10/150\n",
      "375/375 [==============================] - 0s - loss: 0.2841 - acc: 0.9493 - val_loss: 0.3017 - val_acc: 0.9200\n",
      "Epoch 11/150\n",
      "375/375 [==============================] - 0s - loss: 0.2294 - acc: 0.9520 - val_loss: 0.2615 - val_acc: 0.9280\n",
      "Epoch 12/150\n",
      "375/375 [==============================] - 0s - loss: 0.1901 - acc: 0.9680 - val_loss: 0.2357 - val_acc: 0.9280\n",
      "Epoch 13/150\n",
      "375/375 [==============================] - 0s - loss: 0.1625 - acc: 0.9573 - val_loss: 0.2218 - val_acc: 0.9200\n",
      "Epoch 14/150\n",
      "375/375 [==============================] - 0s - loss: 0.1401 - acc: 0.9653 - val_loss: 0.1777 - val_acc: 0.9440\n",
      "Epoch 15/150\n",
      "375/375 [==============================] - 0s - loss: 0.1241 - acc: 0.9733 - val_loss: 0.2096 - val_acc: 0.9360\n",
      "Epoch 16/150\n",
      "375/375 [==============================] - 0s - loss: 0.1147 - acc: 0.9680 - val_loss: 0.1513 - val_acc: 0.9600\n",
      "Epoch 17/150\n",
      "375/375 [==============================] - 0s - loss: 0.1024 - acc: 0.9680 - val_loss: 0.2570 - val_acc: 0.8880\n",
      "Epoch 18/150\n",
      "375/375 [==============================] - 0s - loss: 0.0953 - acc: 0.9680 - val_loss: 0.1490 - val_acc: 0.9600\n",
      "Epoch 19/150\n",
      "375/375 [==============================] - 0s - loss: 0.0830 - acc: 0.9787 - val_loss: 0.1463 - val_acc: 0.9600\n",
      "Epoch 20/150\n",
      "375/375 [==============================] - 0s - loss: 0.0865 - acc: 0.9733 - val_loss: 0.1445 - val_acc: 0.9600\n",
      "Epoch 21/150\n",
      "375/375 [==============================] - 0s - loss: 0.0692 - acc: 0.9840 - val_loss: 0.1500 - val_acc: 0.9440\n",
      "Epoch 22/150\n",
      "375/375 [==============================] - 0s - loss: 0.0721 - acc: 0.9787 - val_loss: 0.1401 - val_acc: 0.9600\n",
      "Epoch 23/150\n",
      "375/375 [==============================] - 0s - loss: 0.0646 - acc: 0.9867 - val_loss: 0.2081 - val_acc: 0.9040\n",
      "Epoch 24/150\n",
      "375/375 [==============================] - 0s - loss: 0.0661 - acc: 0.9787 - val_loss: 0.1356 - val_acc: 0.9680\n",
      "Epoch 25/150\n",
      "375/375 [==============================] - 0s - loss: 0.0618 - acc: 0.9787 - val_loss: 0.1772 - val_acc: 0.9440\n",
      "Epoch 26/150\n",
      "375/375 [==============================] - 0s - loss: 0.0747 - acc: 0.9733 - val_loss: 0.1757 - val_acc: 0.9280\n",
      "Epoch 27/150\n",
      "375/375 [==============================] - 0s - loss: 0.0529 - acc: 0.9893 - val_loss: 0.1582 - val_acc: 0.9440\n",
      "Epoch 28/150\n",
      "375/375 [==============================] - 0s - loss: 0.0489 - acc: 0.9840 - val_loss: 0.1503 - val_acc: 0.9440\n",
      "Epoch 29/150\n",
      "375/375 [==============================] - 0s - loss: 0.0435 - acc: 0.9867 - val_loss: 0.1388 - val_acc: 0.9600\n",
      "Epoch 30/150\n",
      "375/375 [==============================] - 0s - loss: 0.0371 - acc: 0.9920 - val_loss: 0.1419 - val_acc: 0.9600\n",
      "Epoch 31/150\n",
      "375/375 [==============================] - 0s - loss: 0.0455 - acc: 0.9787 - val_loss: 0.1448 - val_acc: 0.9600\n",
      "Epoch 32/150\n",
      "375/375 [==============================] - 0s - loss: 0.0385 - acc: 0.9893 - val_loss: 0.1397 - val_acc: 0.9680\n",
      "Epoch 33/150\n",
      "375/375 [==============================] - 0s - loss: 0.0378 - acc: 0.9840 - val_loss: 0.1691 - val_acc: 0.9360\n",
      "Epoch 34/150\n",
      "375/375 [==============================] - 0s - loss: 0.0305 - acc: 0.9920 - val_loss: 0.1829 - val_acc: 0.9360\n",
      "Epoch 35/150\n",
      "375/375 [==============================] - 0s - loss: 0.0316 - acc: 0.9920 - val_loss: 0.1332 - val_acc: 0.9600\n",
      "Epoch 36/150\n",
      "375/375 [==============================] - 0s - loss: 0.0239 - acc: 0.9947 - val_loss: 0.1509 - val_acc: 0.9600\n",
      "Epoch 37/150\n",
      "375/375 [==============================] - 0s - loss: 0.0247 - acc: 0.9947 - val_loss: 0.1642 - val_acc: 0.9360\n",
      "Epoch 38/150\n",
      "375/375 [==============================] - 0s - loss: 0.0205 - acc: 0.9973 - val_loss: 0.1481 - val_acc: 0.9520\n",
      "Epoch 39/150\n",
      "375/375 [==============================] - 0s - loss: 0.0197 - acc: 0.9973 - val_loss: 0.1851 - val_acc: 0.9360\n",
      "Epoch 40/150\n",
      "375/375 [==============================] - 0s - loss: 0.0152 - acc: 0.9973 - val_loss: 0.2026 - val_acc: 0.9360\n",
      "Epoch 41/150\n",
      "375/375 [==============================] - 0s - loss: 0.0179 - acc: 0.9973 - val_loss: 0.2073 - val_acc: 0.9360\n",
      "Epoch 42/150\n",
      "375/375 [==============================] - 0s - loss: 0.0129 - acc: 1.0000 - val_loss: 0.1489 - val_acc: 0.9360\n",
      "Epoch 43/150\n",
      "375/375 [==============================] - 0s - loss: 0.0213 - acc: 0.9973 - val_loss: 0.1411 - val_acc: 0.9680\n",
      "Epoch 44/150\n",
      "375/375 [==============================] - 0s - loss: 0.0194 - acc: 0.9947 - val_loss: 0.1875 - val_acc: 0.9280\n",
      "Epoch 45/150\n",
      "375/375 [==============================] - 0s - loss: 0.0107 - acc: 1.0000 - val_loss: 0.1686 - val_acc: 0.9360\n",
      "Epoch 46/150\n",
      "375/375 [==============================] - 0s - loss: 0.0090 - acc: 1.0000 - val_loss: 0.1672 - val_acc: 0.9360\n",
      "Epoch 47/150\n",
      "375/375 [==============================] - 0s - loss: 0.0080 - acc: 1.0000 - val_loss: 0.1524 - val_acc: 0.9680\n",
      "Epoch 48/150\n",
      "375/375 [==============================] - 0s - loss: 0.0086 - acc: 1.0000 - val_loss: 0.1606 - val_acc: 0.9520\n",
      "Epoch 49/150\n",
      "375/375 [==============================] - 0s - loss: 0.0075 - acc: 0.9973 - val_loss: 0.1685 - val_acc: 0.9440\n",
      "Epoch 50/150\n",
      "375/375 [==============================] - 0s - loss: 0.0073 - acc: 1.0000 - val_loss: 0.1936 - val_acc: 0.9280\n",
      "Epoch 51/150\n",
      "375/375 [==============================] - 0s - loss: 0.0053 - acc: 1.0000 - val_loss: 0.1753 - val_acc: 0.9600\n",
      "Epoch 52/150\n",
      "375/375 [==============================] - 0s - loss: 0.0172 - acc: 0.9973 - val_loss: 0.1668 - val_acc: 0.9600\n",
      "Epoch 53/150\n",
      "375/375 [==============================] - 0s - loss: 0.0064 - acc: 1.0000 - val_loss: 0.2024 - val_acc: 0.9440\n",
      "Epoch 54/150\n",
      "375/375 [==============================] - 0s - loss: 0.0046 - acc: 1.0000 - val_loss: 0.2101 - val_acc: 0.9360\n",
      "Epoch 55/150\n",
      "375/375 [==============================] - 0s - loss: 0.0043 - acc: 1.0000 - val_loss: 0.1805 - val_acc: 0.9440\n",
      "Epoch 56/150\n",
      "375/375 [==============================] - 0s - loss: 0.0037 - acc: 1.0000 - val_loss: 0.1850 - val_acc: 0.9440\n",
      "Epoch 57/150\n",
      "375/375 [==============================] - 0s - loss: 0.0039 - acc: 1.0000 - val_loss: 0.2120 - val_acc: 0.9360\n",
      "Epoch 58/150\n",
      "375/375 [==============================] - 0s - loss: 0.0033 - acc: 1.0000 - val_loss: 0.2096 - val_acc: 0.9360\n",
      "Epoch 59/150\n",
      "375/375 [==============================] - 0s - loss: 0.0028 - acc: 1.0000 - val_loss: 0.1829 - val_acc: 0.9520\n",
      "Epoch 60/150\n",
      "375/375 [==============================] - 0s - loss: 0.0025 - acc: 1.0000 - val_loss: 0.1767 - val_acc: 0.9520\n",
      "Epoch 61/150\n",
      "375/375 [==============================] - 0s - loss: 0.0028 - acc: 1.0000 - val_loss: 0.2283 - val_acc: 0.9280\n",
      "Epoch 62/150\n",
      "375/375 [==============================] - 0s - loss: 0.0028 - acc: 1.0000 - val_loss: 0.2031 - val_acc: 0.9360\n",
      "Epoch 63/150\n",
      "375/375 [==============================] - 0s - loss: 0.0022 - acc: 1.0000 - val_loss: 0.1894 - val_acc: 0.9520\n",
      "Epoch 64/150\n",
      "375/375 [==============================] - 0s - loss: 0.0021 - acc: 1.0000 - val_loss: 0.1942 - val_acc: 0.9440\n",
      "Epoch 65/150\n",
      "375/375 [==============================] - 0s - loss: 0.0017 - acc: 1.0000 - val_loss: 0.2222 - val_acc: 0.9280\n",
      "Epoch 66/150\n"
     ]
    },
    {
     "name": "stdout",
     "output_type": "stream",
     "text": [
      "375/375 [==============================] - 0s - loss: 0.0016 - acc: 1.0000 - val_loss: 0.1950 - val_acc: 0.9520\n",
      "Epoch 67/150\n",
      "375/375 [==============================] - 0s - loss: 0.0016 - acc: 1.0000 - val_loss: 0.2066 - val_acc: 0.9440\n",
      "Epoch 68/150\n",
      "375/375 [==============================] - 0s - loss: 0.0013 - acc: 1.0000 - val_loss: 0.2053 - val_acc: 0.9360\n",
      "Epoch 69/150\n",
      "375/375 [==============================] - 0s - loss: 0.0012 - acc: 1.0000 - val_loss: 0.2051 - val_acc: 0.9440\n",
      "Epoch 70/150\n",
      "375/375 [==============================] - 0s - loss: 0.0011 - acc: 1.0000 - val_loss: 0.2262 - val_acc: 0.9360\n",
      "Epoch 71/150\n",
      "375/375 [==============================] - 0s - loss: 8.8969e-04 - acc: 1.0000 - val_loss: 0.2078 - val_acc: 0.9520\n",
      "Epoch 72/150\n",
      "375/375 [==============================] - 0s - loss: 8.3053e-04 - acc: 1.0000 - val_loss: 0.2151 - val_acc: 0.9520\n",
      "Epoch 73/150\n",
      "375/375 [==============================] - 0s - loss: 7.7774e-04 - acc: 1.0000 - val_loss: 0.2110 - val_acc: 0.9440\n",
      "Epoch 74/150\n",
      "375/375 [==============================] - 0s - loss: 6.6196e-04 - acc: 1.0000 - val_loss: 0.2134 - val_acc: 0.9520\n",
      "Epoch 75/150\n",
      "375/375 [==============================] - 0s - loss: 6.0486e-04 - acc: 1.0000 - val_loss: 0.2342 - val_acc: 0.9360\n",
      "Epoch 76/150\n",
      "375/375 [==============================] - 0s - loss: 5.6840e-04 - acc: 1.0000 - val_loss: 0.2212 - val_acc: 0.9360\n",
      "Epoch 77/150\n",
      "375/375 [==============================] - 0s - loss: 5.2491e-04 - acc: 1.0000 - val_loss: 0.2151 - val_acc: 0.9520\n",
      "Epoch 78/150\n",
      "375/375 [==============================] - 0s - loss: 5.4500e-04 - acc: 1.0000 - val_loss: 0.2394 - val_acc: 0.9360\n",
      "Epoch 79/150\n",
      "375/375 [==============================] - 0s - loss: 5.0966e-04 - acc: 1.0000 - val_loss: 0.2227 - val_acc: 0.9520\n",
      "Epoch 80/150\n",
      "375/375 [==============================] - 0s - loss: 4.2270e-04 - acc: 1.0000 - val_loss: 0.2431 - val_acc: 0.9360\n",
      "Epoch 81/150\n",
      "375/375 [==============================] - 0s - loss: 3.8571e-04 - acc: 1.0000 - val_loss: 0.2589 - val_acc: 0.9280\n",
      "Epoch 82/150\n",
      "375/375 [==============================] - 0s - loss: 3.6072e-04 - acc: 1.0000 - val_loss: 0.2216 - val_acc: 0.9600\n",
      "Epoch 83/150\n",
      "375/375 [==============================] - 0s - loss: 3.3959e-04 - acc: 1.0000 - val_loss: 0.2277 - val_acc: 0.9520\n",
      "Epoch 84/150\n",
      "375/375 [==============================] - 0s - loss: 2.9275e-04 - acc: 1.0000 - val_loss: 0.2470 - val_acc: 0.9440\n",
      "Epoch 85/150\n",
      "375/375 [==============================] - 0s - loss: 2.7993e-04 - acc: 1.0000 - val_loss: 0.2466 - val_acc: 0.9360\n",
      "Epoch 86/150\n",
      "375/375 [==============================] - 0s - loss: 2.6154e-04 - acc: 1.0000 - val_loss: 0.2505 - val_acc: 0.9360\n",
      "Epoch 87/150\n",
      "375/375 [==============================] - 0s - loss: 2.2998e-04 - acc: 1.0000 - val_loss: 0.2316 - val_acc: 0.9520\n",
      "Epoch 88/150\n",
      "375/375 [==============================] - 0s - loss: 2.0783e-04 - acc: 1.0000 - val_loss: 0.2388 - val_acc: 0.9360\n",
      "Epoch 89/150\n",
      "375/375 [==============================] - 0s - loss: 2.9626e-04 - acc: 1.0000 - val_loss: 0.2623 - val_acc: 0.9280\n",
      "Epoch 90/150\n",
      "375/375 [==============================] - 0s - loss: 1.8568e-04 - acc: 1.0000 - val_loss: 0.2374 - val_acc: 0.9520\n",
      "Epoch 91/150\n",
      "375/375 [==============================] - 0s - loss: 1.6613e-04 - acc: 1.0000 - val_loss: 0.2490 - val_acc: 0.9360\n",
      "Epoch 92/150\n",
      "375/375 [==============================] - 0s - loss: 1.6070e-04 - acc: 1.0000 - val_loss: 0.2338 - val_acc: 0.9440\n",
      "Epoch 93/150\n",
      "375/375 [==============================] - 0s - loss: 1.3835e-04 - acc: 1.0000 - val_loss: 0.2330 - val_acc: 0.9520\n",
      "Epoch 94/150\n",
      "375/375 [==============================] - 0s - loss: 1.3756e-04 - acc: 1.0000 - val_loss: 0.2461 - val_acc: 0.9360\n",
      "Epoch 95/150\n",
      "375/375 [==============================] - 0s - loss: 1.2235e-04 - acc: 1.0000 - val_loss: 0.2354 - val_acc: 0.9360\n",
      "Epoch 96/150\n",
      "375/375 [==============================] - 0s - loss: 1.1481e-04 - acc: 1.0000 - val_loss: 0.2557 - val_acc: 0.9280\n",
      "Epoch 97/150\n",
      "375/375 [==============================] - 0s - loss: 1.0575e-04 - acc: 1.0000 - val_loss: 0.2717 - val_acc: 0.9280\n",
      "Epoch 98/150\n",
      "375/375 [==============================] - 0s - loss: 1.1218e-04 - acc: 1.0000 - val_loss: 0.2581 - val_acc: 0.9280\n",
      "Epoch 99/150\n",
      "375/375 [==============================] - 0s - loss: 9.9913e-05 - acc: 1.0000 - val_loss: 0.2656 - val_acc: 0.9280\n",
      "Epoch 100/150\n",
      "375/375 [==============================] - 0s - loss: 9.0515e-05 - acc: 1.0000 - val_loss: 0.2482 - val_acc: 0.9360\n",
      "Epoch 101/150\n",
      "375/375 [==============================] - 0s - loss: 7.4808e-05 - acc: 1.0000 - val_loss: 0.2470 - val_acc: 0.9360\n",
      "Epoch 102/150\n",
      "375/375 [==============================] - 0s - loss: 7.8647e-05 - acc: 1.0000 - val_loss: 0.2540 - val_acc: 0.9360\n",
      "Epoch 103/150\n",
      "375/375 [==============================] - 0s - loss: 6.5821e-05 - acc: 1.0000 - val_loss: 0.2622 - val_acc: 0.9360\n",
      "Epoch 104/150\n",
      "375/375 [==============================] - 0s - loss: 6.0303e-05 - acc: 1.0000 - val_loss: 0.2516 - val_acc: 0.9440\n",
      "Epoch 105/150\n",
      "375/375 [==============================] - 0s - loss: 5.9044e-05 - acc: 1.0000 - val_loss: 0.2854 - val_acc: 0.9280\n",
      "Epoch 106/150\n",
      "375/375 [==============================] - 0s - loss: 5.1250e-05 - acc: 1.0000 - val_loss: 0.2793 - val_acc: 0.9280\n",
      "Epoch 107/150\n",
      "375/375 [==============================] - 0s - loss: 5.1885e-05 - acc: 1.0000 - val_loss: 0.2859 - val_acc: 0.9360\n",
      "Epoch 108/150\n",
      "375/375 [==============================] - 0s - loss: 4.4563e-05 - acc: 1.0000 - val_loss: 0.2765 - val_acc: 0.9360\n",
      "Epoch 109/150\n",
      "375/375 [==============================] - 0s - loss: 4.1905e-05 - acc: 1.0000 - val_loss: 0.2710 - val_acc: 0.9360\n",
      "Epoch 110/150\n",
      "375/375 [==============================] - 0s - loss: 3.8648e-05 - acc: 1.0000 - val_loss: 0.2666 - val_acc: 0.9360\n",
      "Epoch 111/150\n",
      "375/375 [==============================] - 0s - loss: 3.4971e-05 - acc: 1.0000 - val_loss: 0.2653 - val_acc: 0.9360\n",
      "Epoch 112/150\n",
      "375/375 [==============================] - 0s - loss: 3.3360e-05 - acc: 1.0000 - val_loss: 0.2938 - val_acc: 0.9360\n",
      "Epoch 113/150\n",
      "375/375 [==============================] - 0s - loss: 3.8054e-05 - acc: 1.0000 - val_loss: 0.2927 - val_acc: 0.9280\n",
      "Epoch 114/150\n",
      "375/375 [==============================] - 0s - loss: 2.9482e-05 - acc: 1.0000 - val_loss: 0.3044 - val_acc: 0.9280\n",
      "Epoch 115/150\n",
      "375/375 [==============================] - 0s - loss: 2.6376e-05 - acc: 1.0000 - val_loss: 0.2793 - val_acc: 0.9360\n",
      "Epoch 116/150\n",
      "375/375 [==============================] - 0s - loss: 2.6200e-05 - acc: 1.0000 - val_loss: 0.2991 - val_acc: 0.9360\n",
      "Epoch 117/150\n",
      "375/375 [==============================] - 0s - loss: 2.2207e-05 - acc: 1.0000 - val_loss: 0.2799 - val_acc: 0.9360\n",
      "Epoch 118/150\n",
      "375/375 [==============================] - 0s - loss: 2.2294e-05 - acc: 1.0000 - val_loss: 0.2774 - val_acc: 0.9360\n",
      "Epoch 119/150\n",
      "375/375 [==============================] - 0s - loss: 1.9619e-05 - acc: 1.0000 - val_loss: 0.2826 - val_acc: 0.9360\n",
      "Epoch 120/150\n",
      "375/375 [==============================] - 0s - loss: 1.8745e-05 - acc: 1.0000 - val_loss: 0.2963 - val_acc: 0.9360\n",
      "Epoch 121/150\n",
      "375/375 [==============================] - 0s - loss: 1.6516e-05 - acc: 1.0000 - val_loss: 0.2793 - val_acc: 0.9360\n",
      "Epoch 122/150\n",
      "375/375 [==============================] - 0s - loss: 1.6230e-05 - acc: 1.0000 - val_loss: 0.3148 - val_acc: 0.9280\n",
      "Epoch 123/150\n",
      "375/375 [==============================] - 0s - loss: 1.5012e-05 - acc: 1.0000 - val_loss: 0.3191 - val_acc: 0.9280\n",
      "Epoch 124/150\n",
      "375/375 [==============================] - 0s - loss: 1.3834e-05 - acc: 1.0000 - val_loss: 0.3199 - val_acc: 0.9280\n",
      "Epoch 125/150\n",
      "375/375 [==============================] - 0s - loss: 1.1811e-05 - acc: 1.0000 - val_loss: 0.3093 - val_acc: 0.9360\n",
      "Epoch 126/150\n",
      "375/375 [==============================] - 0s - loss: 1.1263e-05 - acc: 1.0000 - val_loss: 0.3049 - val_acc: 0.9360\n",
      "Epoch 127/150\n",
      "375/375 [==============================] - 0s - loss: 1.0739e-05 - acc: 1.0000 - val_loss: 0.3154 - val_acc: 0.9360\n",
      "Epoch 128/150\n",
      "375/375 [==============================] - 0s - loss: 9.9520e-06 - acc: 1.0000 - val_loss: 0.3106 - val_acc: 0.9360\n",
      "Epoch 129/150\n"
     ]
    },
    {
     "name": "stdout",
     "output_type": "stream",
     "text": [
      "375/375 [==============================] - 0s - loss: 9.0649e-06 - acc: 1.0000 - val_loss: 0.2975 - val_acc: 0.9360\n",
      "Epoch 130/150\n",
      "375/375 [==============================] - 0s - loss: 7.8864e-06 - acc: 1.0000 - val_loss: 0.3172 - val_acc: 0.9360\n",
      "Epoch 131/150\n",
      "375/375 [==============================] - 0s - loss: 8.0168e-06 - acc: 1.0000 - val_loss: 0.3058 - val_acc: 0.9360\n",
      "Epoch 132/150\n",
      "375/375 [==============================] - 0s - loss: 7.3078e-06 - acc: 1.0000 - val_loss: 0.3299 - val_acc: 0.9360\n",
      "Epoch 133/150\n",
      "375/375 [==============================] - 0s - loss: 6.4133e-06 - acc: 1.0000 - val_loss: 0.3339 - val_acc: 0.9360\n",
      "Epoch 134/150\n",
      "375/375 [==============================] - 0s - loss: 5.9551e-06 - acc: 1.0000 - val_loss: 0.3441 - val_acc: 0.9280\n",
      "Epoch 135/150\n",
      "375/375 [==============================] - 0s - loss: 5.7542e-06 - acc: 1.0000 - val_loss: 0.3149 - val_acc: 0.9360\n",
      "Epoch 136/150\n",
      "375/375 [==============================] - 0s - loss: 5.2287e-06 - acc: 1.0000 - val_loss: 0.3454 - val_acc: 0.9360\n",
      "Epoch 137/150\n",
      "375/375 [==============================] - 0s - loss: 5.2089e-06 - acc: 1.0000 - val_loss: 0.3198 - val_acc: 0.9360\n",
      "Epoch 138/150\n",
      "375/375 [==============================] - 0s - loss: 4.8270e-06 - acc: 1.0000 - val_loss: 0.3346 - val_acc: 0.9360\n",
      "Epoch 139/150\n",
      "375/375 [==============================] - 0s - loss: 4.3977e-06 - acc: 1.0000 - val_loss: 0.3375 - val_acc: 0.9360\n",
      "Epoch 140/150\n",
      "375/375 [==============================] - 0s - loss: 4.0068e-06 - acc: 1.0000 - val_loss: 0.3556 - val_acc: 0.9280\n",
      "Epoch 141/150\n",
      "375/375 [==============================] - 0s - loss: 3.8300e-06 - acc: 1.0000 - val_loss: 0.3345 - val_acc: 0.9280\n",
      "Epoch 142/150\n",
      "375/375 [==============================] - 0s - loss: 3.3777e-06 - acc: 1.0000 - val_loss: 0.3213 - val_acc: 0.9360\n",
      "Epoch 143/150\n",
      "375/375 [==============================] - 0s - loss: 3.2049e-06 - acc: 1.0000 - val_loss: 0.3533 - val_acc: 0.9360\n",
      "Epoch 144/150\n",
      "375/375 [==============================] - 0s - loss: 2.9494e-06 - acc: 1.0000 - val_loss: 0.3376 - val_acc: 0.9360\n",
      "Epoch 145/150\n",
      "375/375 [==============================] - 0s - loss: 2.8021e-06 - acc: 1.0000 - val_loss: 0.3523 - val_acc: 0.9360\n",
      "Epoch 146/150\n",
      "375/375 [==============================] - 0s - loss: 2.5386e-06 - acc: 1.0000 - val_loss: 0.3622 - val_acc: 0.9360\n",
      "Epoch 147/150\n",
      "375/375 [==============================] - 0s - loss: 2.4017e-06 - acc: 1.0000 - val_loss: 0.3645 - val_acc: 0.9360\n",
      "Epoch 148/150\n",
      "375/375 [==============================] - 0s - loss: 2.2496e-06 - acc: 1.0000 - val_loss: 0.3382 - val_acc: 0.9360\n",
      "Epoch 149/150\n",
      "375/375 [==============================] - 0s - loss: 2.1812e-06 - acc: 1.0000 - val_loss: 0.3514 - val_acc: 0.9360\n",
      "Epoch 150/150\n",
      "375/375 [==============================] - 0s - loss: 1.9245e-06 - acc: 1.0000 - val_loss: 0.3255 - val_acc: 0.9360\n"
     ]
    }
   ],
   "source": [
    "history = model.fit(x_train,y_train, batch_size=3, epochs=150,validation_data=(x_val,y_val) )"
   ]
  },
  {
   "cell_type": "code",
   "execution_count": 14,
   "metadata": {},
   "outputs": [
    {
     "data": {
      "image/png": "[encoded data removed]",
      "text/plain": [
       "<matplotlib.figure.Figure at 0x7f1afa5e7278>"
      ]
     },
     "metadata": {},
     "output_type": "display_data"
    },
    {
     "data": {
      "image/png": "[encoded data removed]",
      "text/plain": [
       "<matplotlib.figure.Figure at 0x7f1a9d7b42e8>"
      ]
     },
     "metadata": {},
     "output_type": "display_data"
    }
   ],
   "source": [
    "import matplotlib.pyplot as plt\n",
    "%matplotlib inline\n",
    "\n",
    "acc = history.history['acc']\n",
    "val_acc = history.history['val_acc']\n",
    "loss = history.history['loss']\n",
    "val_loss = history.history['val_loss']\n",
    "\n",
    "epochs = range(1, len(acc) + 1)\n",
    "\n",
    "plt.plot(epochs, acc, 'bo', label='Training acc')\n",
    "plt.plot(epochs, val_acc, 'b', label='Validation acc')\n",
    "plt.title('Training and Validation accuracy')\n",
    "plt.legend()\n",
    "\n",
    "plt.figure()\n",
    "\n",
    "plt.plot(epochs, loss, 'bo', label='Training loss')\n",
    "plt.plot(epochs, val_loss, 'b', label='Validation loss')\n",
    "plt.title('Training and Validation loss')\n",
    "plt.legend()\n",
    "plt.show()"
   ]
  },
  {
   "cell_type": "code",
   "execution_count": 15,
   "metadata": {
    "collapsed": true
   },
   "outputs": [],
   "source": [
    "#http://scikit-learn.org/stable/auto_examples/model_selection/plot_roc.html\n",
    "\n",
    "from sklearn.metrics import roc_curve, auc\n",
    "from itertools import cycle\n",
    "from scipy import interp\n",
    "\n",
    "n_classes = y_val.shape[1]\n",
    "y_score = model.predict(x_val)\n",
    "\n",
    "# Compute ROC curve and ROC area for each class\n",
    "fpr = dict()\n",
    "tpr = dict()\n",
    "roc_auc = dict()\n",
    "for i in range(n_classes):\n",
    "    fpr[i], tpr[i], _ = roc_curve(y_val[:, i], y_score[:, i])\n",
    "    roc_auc[i] = auc(fpr[i], tpr[i])\n",
    "\n",
    "# Compute micro-average ROC curve and ROC area\n",
    "fpr[\"micro\"], tpr[\"micro\"], _ = roc_curve(y_val.ravel(), y_score.ravel())\n",
    "roc_auc[\"micro\"] = auc(fpr[\"micro\"], tpr[\"micro\"])"
   ]
  },
  {
   "cell_type": "code",
   "execution_count": 16,
   "metadata": {},
   "outputs": [
    {
     "data": {
      "image/png": "[encoded data removed]",
      "text/plain": [
       "<matplotlib.figure.Figure at 0x7f1a9d5fef98>"
      ]
     },
     "metadata": {},
     "output_type": "display_data"
    }
   ],
   "source": [
    "\n",
    "lw = 2\n",
    "# Compute macro-average ROC curve and ROC area\n",
    "\n",
    "# First aggregate all false positive rates\n",
    "all_fpr = np.unique(np.concatenate([fpr[i] for i in range(n_classes)]))\n",
    "\n",
    "# Then interpolate all ROC curves at this points\n",
    "mean_tpr = np.zeros_like(all_fpr)\n",
    "for i in range(n_classes):\n",
    "    mean_tpr += interp(all_fpr, fpr[i], tpr[i])\n",
    "\n",
    "# Finally average it and compute AUC\n",
    "mean_tpr /= n_classes\n",
    "\n",
    "fpr[\"macro\"] = all_fpr\n",
    "tpr[\"macro\"] = mean_tpr\n",
    "roc_auc[\"macro\"] = auc(fpr[\"macro\"], tpr[\"macro\"])\n",
    "\n",
    "# Plot all ROC curves\n",
    "plt.figure()\n",
    "plt.plot(fpr[\"micro\"], tpr[\"micro\"],\n",
    "         label='micro-average ROC curve (area = {0:0.2f})'\n",
    "               ''.format(roc_auc[\"micro\"]),\n",
    "         color='deeppink', linestyle=':', linewidth=4)\n",
    "\n",
    "plt.plot(fpr[\"macro\"], tpr[\"macro\"],\n",
    "         label='macro-average ROC curve (area = {0:0.2f})'\n",
    "               ''.format(roc_auc[\"macro\"]),\n",
    "         color='navy', linestyle=':', linewidth=4)\n",
    "\n",
    "colors = cycle(['aqua', 'darkorange', 'cornflowerblue'])\n",
    "for i, color in zip(range(n_classes), colors):\n",
    "    plt.plot(fpr[i], tpr[i], color=color, lw=lw,\n",
    "             label='ROC curve of class {0} (area = {1:0.2f})'\n",
    "             ''.format(i, roc_auc[i]))\n",
    "\n",
    "plt.plot([0, 1], [0, 1], 'k--', lw=lw)\n",
    "plt.xlim([0.0, 1.0])\n",
    "plt.ylim([0.0, 1.05])\n",
    "plt.xlabel('False Positive Rate')\n",
    "plt.ylabel('True Positive Rate')\n",
    "plt.title('Some extension of Receiver operating characteristic to multi-class')\n",
    "plt.legend(loc=\"lower right\")\n",
    "plt.show()"
   ]
  },
  {
   "cell_type": "code",
   "execution_count": null,
   "metadata": {
    "collapsed": true
   },
   "outputs": [],
   "source": []
  },
  {
   "cell_type": "code",
   "execution_count": null,
   "metadata": {
    "collapsed": true
   },
   "outputs": [],
   "source": []
  },
  {
   "cell_type": "code",
   "execution_count": null,
   "metadata": {
    "collapsed": true
   },
   "outputs": [],
   "source": []
  }
 ],
 "metadata": {
  "kernelspec": {
   "display_name": "Python 3",
   "language": "python",
   "name": "python3"
  },
  "language_info": {
   "codemirror_mode": {
    "name": "ipython",
    "version": 3
   },
   "file_extension": ".py",
   "mimetype": "text/x-python",
   "name": "python",
   "nbconvert_exporter": "python",
   "pygments_lexer": "ipython3",
   "version": "3.6.1"
  }
 },
 "nbformat": 4,
 "nbformat_minor": 2
}
