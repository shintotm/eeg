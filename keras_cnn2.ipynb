{
 "cells": [
  {
   "cell_type": "markdown",
   "metadata": {},
   "source": [
    "Keras implementaion of 'Deep convolutional neural network for the automated detection and diagnosis of seizure using EEG signals', U. Rajendra Acharya, Shu Lih Oh, Yuki Hagiwara, Jen Hong Tan, Hojjat Adeli.  https://www.ncbi.nlm.nih.gov/pubmed/28974302"
   ]
  },
  {
   "cell_type": "code",
   "execution_count": 22,
   "metadata": {
    "collapsed": true
   },
   "outputs": [],
   "source": [
    "import glob\n",
    "import numpy as np"
   ]
  },
  {
   "cell_type": "code",
   "execution_count": 23,
   "metadata": {},
   "outputs": [
    {
     "name": "stdout",
     "output_type": "stream",
     "text": [
      "a (100).txt  a (177).txt  a (71).txt   b (148).TXT  b (42).txt\t c (28).txt\r\n",
      "a (101).txt  a (178).txt  a (72).txt   b (149).TXT  b (43).txt\t c (29).txt\r\n",
      "a (102).txt  a (179).txt  a (73).txt   b (14).txt   b (44).txt\t c (2).txt\r\n",
      "a (103).txt  a (17).txt   a (74).txt   b (150).TXT  b (45).txt\t c (30).txt\r\n",
      "a (104).txt  a (180).txt  a (75).txt   b (151).TXT  b (46).txt\t c (31).txt\r\n",
      "a (105).txt  a (181).txt  a (76).txt   b (152).TXT  b (47).txt\t c (32).txt\r\n",
      "a (106).txt  a (182).txt  a (77).txt   b (153).TXT  b (48).txt\t c (33).txt\r\n",
      "a (107).txt  a (183).txt  a (78).txt   b (154).TXT  b (49).txt\t c (34).txt\r\n",
      "a (108).txt  a (184).txt  a (79).txt   b (155).TXT  b (4).txt\t c (35).txt\r\n",
      "a (109).txt  a (185).txt  a (7).txt    b (156).TXT  b (50).txt\t c (36).txt\r\n",
      "a (10).txt   a (186).txt  a (80).txt   b (157).TXT  b (51).txt\t c (37).txt\r\n",
      "a (110).txt  a (187).txt  a (81).txt   b (158).TXT  b (52).txt\t c (38).txt\r\n",
      "a (111).txt  a (188).txt  a (82).txt   b (159).TXT  b (53).txt\t c (39).txt\r\n",
      "a (112).txt  a (189).txt  a (83).txt   b (15).txt   b (54).txt\t c (3).txt\r\n",
      "a (113).txt  a (18).txt   a (84).txt   b (160).TXT  b (55).txt\t c (40).txt\r\n",
      "a (114).txt  a (190).txt  a (85).txt   b (161).TXT  b (56).txt\t c (41).txt\r\n",
      "a (115).txt  a (191).txt  a (86).txt   b (162).TXT  b (57).txt\t c (42).txt\r\n",
      "a (116).txt  a (192).txt  a (87).txt   b (163).TXT  b (58).txt\t c (43).txt\r\n",
      "a (117).txt  a (193).txt  a (88).txt   b (164).TXT  b (59).txt\t c (44).txt\r\n",
      "a (118).txt  a (194).txt  a (89).txt   b (165).TXT  b (5).txt\t c (45).txt\r\n",
      "a (119).txt  a (195).txt  a (8).txt    b (166).TXT  b (60).txt\t c (46).txt\r\n",
      "a (11).txt   a (196).txt  a (90).txt   b (167).TXT  b (61).txt\t c (47).txt\r\n",
      "a (120).txt  a (197).txt  a (91).txt   b (168).TXT  b (62).txt\t c (48).txt\r\n",
      "a (121).txt  a (198).txt  a (92).txt   b (169).TXT  b (63).txt\t c (49).txt\r\n",
      "a (122).txt  a (199).txt  a (93).txt   b (16).txt   b (64).txt\t c (4).txt\r\n",
      "a (123).txt  a (19).txt   a (94).txt   b (170).TXT  b (65).txt\t c (50).txt\r\n",
      "a (124).txt  a (1).txt\t  a (95).txt   b (171).TXT  b (66).txt\t c (51).txt\r\n",
      "a (125).txt  a (200).txt  a (96).txt   b (172).TXT  b (67).txt\t c (52).txt\r\n",
      "a (126).txt  a (20).txt   a (97).txt   b (173).TXT  b (68).txt\t c (53).txt\r\n",
      "a (127).txt  a (21).txt   a (98).txt   b (174).TXT  b (69).txt\t c (54).txt\r\n",
      "a (128).txt  a (22).txt   a (99).txt   b (175).TXT  b (6).txt\t c (55).txt\r\n",
      "a (129).txt  a (23).txt   a (9).txt    b (176).TXT  b (70).txt\t c (56).txt\r\n",
      "a (12).txt   a (24).txt   b (100).txt  b (177).TXT  b (71).txt\t c (57).txt\r\n",
      "a (130).txt  a (25).txt   b (101).TXT  b (178).TXT  b (72).txt\t c (58).txt\r\n",
      "a (131).txt  a (26).txt   b (102).TXT  b (179).TXT  b (73).txt\t c (59).txt\r\n",
      "a (132).txt  a (27).txt   b (103).TXT  b (17).txt   b (74).txt\t c (5).txt\r\n",
      "a (133).txt  a (28).txt   b (104).TXT  b (180).TXT  b (75).txt\t c (60).txt\r\n",
      "a (134).txt  a (29).txt   b (105).TXT  b (181).TXT  b (76).txt\t c (61).txt\r\n",
      "a (135).txt  a (2).txt\t  b (106).TXT  b (182).TXT  b (77).txt\t c (62).txt\r\n",
      "a (136).txt  a (30).txt   b (107).TXT  b (183).TXT  b (78).txt\t c (63).txt\r\n",
      "a (137).txt  a (31).txt   b (108).TXT  b (184).TXT  b (79).txt\t c (64).txt\r\n",
      "a (138).txt  a (32).txt   b (109).TXT  b (185).TXT  b (7).txt\t c (65).txt\r\n",
      "a (139).txt  a (33).txt   b (10).txt   b (186).TXT  b (80).txt\t c (66).txt\r\n",
      "a (13).txt   a (34).txt   b (110).TXT  b (187).TXT  b (81).txt\t c (67).txt\r\n",
      "a (140).txt  a (35).txt   b (111).TXT  b (188).TXT  b (82).txt\t c (68).txt\r\n",
      "a (141).txt  a (36).txt   b (112).TXT  b (189).TXT  b (83).txt\t c (69).txt\r\n",
      "a (142).txt  a (37).txt   b (113).TXT  b (18).txt   b (84).txt\t c (6).txt\r\n",
      "a (143).txt  a (38).txt   b (114).TXT  b (190).TXT  b (85).txt\t c (70).txt\r\n",
      "a (144).txt  a (39).txt   b (115).TXT  b (191).TXT  b (86).txt\t c (71).txt\r\n",
      "a (145).txt  a (3).txt\t  b (116).TXT  b (192).TXT  b (87).txt\t c (72).txt\r\n",
      "a (146).txt  a (40).txt   b (117).TXT  b (193).TXT  b (88).txt\t c (73).txt\r\n",
      "a (147).txt  a (41).txt   b (118).TXT  b (194).TXT  b (89).txt\t c (74).txt\r\n",
      "a (148).txt  a (42).txt   b (119).TXT  b (195).TXT  b (8).txt\t c (75).txt\r\n",
      "a (149).txt  a (43).txt   b (11).txt   b (196).TXT  b (90).txt\t c (76).txt\r\n",
      "a (14).txt   a (44).txt   b (120).TXT  b (197).TXT  b (91).txt\t c (77).txt\r\n",
      "a (150).txt  a (45).txt   b (121).TXT  b (198).TXT  b (92).txt\t c (78).txt\r\n",
      "a (151).txt  a (46).txt   b (122).TXT  b (199).TXT  b (93).txt\t c (79).txt\r\n",
      "a (152).txt  a (47).txt   b (123).TXT  b (19).txt   b (94).txt\t c (7).txt\r\n",
      "a (153).txt  a (48).txt   b (124).TXT  b (1).txt    b (95).txt\t c (80).txt\r\n",
      "a (154).txt  a (49).txt   b (125).TXT  b (200).TXT  b (96).txt\t c (81).txt\r\n",
      "a (155).txt  a (4).txt\t  b (126).TXT  b (20).txt   b (97).txt\t c (82).txt\r\n",
      "a (156).txt  a (50).txt   b (127).TXT  b (21).txt   b (98).txt\t c (83).txt\r\n",
      "a (157).txt  a (51).txt   b (128).TXT  b (22).txt   b (99).txt\t c (84).txt\r\n",
      "a (158).txt  a (52).txt   b (129).TXT  b (23).txt   b (9).txt\t c (85).txt\r\n",
      "a (159).txt  a (53).txt   b (12).txt   b (24).txt   c (100).txt  c (86).txt\r\n",
      "a (15).txt   a (54).txt   b (130).TXT  b (25).txt   c (10).txt\t c (87).txt\r\n",
      "a (160).txt  a (55).txt   b (131).TXT  b (26).txt   c (11).txt\t c (88).txt\r\n",
      "a (161).txt  a (56).txt   b (132).TXT  b (27).txt   c (12).txt\t c (89).txt\r\n",
      "a (162).txt  a (57).txt   b (133).TXT  b (28).txt   c (13).txt\t c (8).txt\r\n",
      "a (163).txt  a (58).txt   b (134).TXT  b (29).txt   c (14).txt\t c (90).txt\r\n",
      "a (164).txt  a (59).txt   b (135).TXT  b (2).txt    c (15).txt\t c (91).txt\r\n",
      "a (165).txt  a (5).txt\t  b (136).TXT  b (30).txt   c (16).txt\t c (92).txt\r\n",
      "a (166).txt  a (60).txt   b (137).TXT  b (31).txt   c (17).txt\t c (93).txt\r\n",
      "a (167).txt  a (61).txt   b (138).TXT  b (32).txt   c (18).txt\t c (94).txt\r\n",
      "a (168).txt  a (62).txt   b (139).TXT  b (33).txt   c (19).txt\t c (95).txt\r\n",
      "a (169).txt  a (63).txt   b (13).txt   b (34).txt   c (1).txt\t c (96).txt\r\n",
      "a (16).txt   a (64).txt   b (140).TXT  b (35).txt   c (20).txt\t c (97).txt\r\n",
      "a (170).txt  a (65).txt   b (141).TXT  b (36).txt   c (21).txt\t c (98).txt\r\n",
      "a (171).txt  a (66).txt   b (142).TXT  b (37).txt   c (22).txt\t c (99).txt\r\n",
      "a (172).txt  a (67).txt   b (143).TXT  b (38).txt   c (23).txt\t c (9).txt\r\n",
      "a (173).txt  a (68).txt   b (144).TXT  b (39).txt   c (24).txt\r\n",
      "a (174).txt  a (69).txt   b (145).TXT  b (3).txt    c (25).txt\r\n",
      "a (175).txt  a (6).txt\t  b (146).TXT  b (40).txt   c (26).txt\r\n",
      "a (176).txt  a (70).txt   b (147).TXT  b (41).txt   c (27).txt\r\n"
     ]
    }
   ],
   "source": [
    "!ls input/all"
   ]
  },
  {
   "cell_type": "code",
   "execution_count": null,
   "metadata": {
    "collapsed": true
   },
   "outputs": [],
   "source": []
  },
  {
   "cell_type": "code",
   "execution_count": 24,
   "metadata": {
    "collapsed": true
   },
   "outputs": [],
   "source": [
    "# 'a (1)' to 'a (200)' (Normal )\n",
    "# 'b (1)' to 'b (200)' (Pre-ictal)\n",
    "# 'c (1)' to 'c (100)' (Seizure)\n",
    "file_sets = ['a', 'b', 'c']\n",
    "label_sets = [1, 2, 3] # 1->Normal, 2->Preictal,  3-> Seizure"
   ]
  },
  {
   "cell_type": "code",
   "execution_count": 25,
   "metadata": {},
   "outputs": [],
   "source": [
    "import os\n",
    "# data is in folders 'input/O, input/S' etc.\n",
    "data=[]\n",
    "labels = []\n",
    "for file_set, label in zip(file_sets, label_sets):\n",
    "\n",
    "    for file in glob.glob(\"input/all/\" + file_set + \"*.*\"):\n",
    "        with open(file) as f:\n",
    "            int_list = [int(x) for x in f]\n",
    "            data.append(int_list)\n",
    "            labels.append(label)"
   ]
  },
  {
   "cell_type": "code",
   "execution_count": 26,
   "metadata": {},
   "outputs": [
    {
     "name": "stdout",
     "output_type": "stream",
     "text": [
      "(500,)\n"
     ]
    }
   ],
   "source": [
    "labels = np.asarray(labels)\n",
    "print(labels.shape)"
   ]
  },
  {
   "cell_type": "code",
   "execution_count": 27,
   "metadata": {},
   "outputs": [
    {
     "data": {
      "text/plain": [
       "(array([1, 2, 3]), array([200, 200, 100]))"
      ]
     },
     "execution_count": 27,
     "metadata": {},
     "output_type": "execute_result"
    }
   ],
   "source": [
    "np.unique(labels, return_counts=True)"
   ]
  },
  {
   "cell_type": "code",
   "execution_count": 28,
   "metadata": {},
   "outputs": [
    {
     "data": {
      "text/plain": [
       "(500, 4097)"
      ]
     },
     "execution_count": 28,
     "metadata": {},
     "output_type": "execute_result"
    }
   ],
   "source": [
    "data = np.asarray(data)\n",
    "data.shape"
   ]
  },
  {
   "cell_type": "code",
   "execution_count": 29,
   "metadata": {},
   "outputs": [
    {
     "name": "stdout",
     "output_type": "stream",
     "text": [
      "(500, 4097, 1)\n"
     ]
    }
   ],
   "source": [
    "data = data[:,:,np.newaxis]\n",
    "print(data.shape)"
   ]
  },
  {
   "cell_type": "code",
   "execution_count": 30,
   "metadata": {
    "collapsed": true
   },
   "outputs": [],
   "source": [
    "# randomize the data\n",
    "indices = np.arange(data.shape[0])\n",
    "np.random.shuffle(indices)\n",
    "data = data[indices]\n",
    "labels = labels[indices]"
   ]
  },
  {
   "cell_type": "code",
   "execution_count": 31,
   "metadata": {
    "collapsed": true
   },
   "outputs": [],
   "source": [
    "from sklearn.model_selection import train_test_split"
   ]
  },
  {
   "cell_type": "code",
   "execution_count": 32,
   "metadata": {
    "collapsed": true
   },
   "outputs": [],
   "source": [
    "x_train, x_val, y_train, y_val = train_test_split(data, labels, \n",
    "                                                stratify = labels, random_state = 123)"
   ]
  },
  {
   "cell_type": "code",
   "execution_count": 33,
   "metadata": {},
   "outputs": [
    {
     "name": "stdout",
     "output_type": "stream",
     "text": [
      "x_train shape: (375, 4097, 1)\n",
      "x_val shape: (125, 4097, 1)\n"
     ]
    }
   ],
   "source": [
    "print('x_train shape:', x_train.shape)\n",
    "print('x_val shape:', x_val.shape)"
   ]
  },
  {
   "cell_type": "code",
   "execution_count": 34,
   "metadata": {
    "collapsed": true
   },
   "outputs": [],
   "source": [
    "def one_hot(labels, n_class = 3):\n",
    "\t\"\"\" One-hot encoding \"\"\"\n",
    "\texpansion = np.eye(n_class)\n",
    "\ty = expansion[:, labels-1].T\n",
    "\tassert y.shape[1] == n_class, \"Wrong number of labels!\"\n",
    "\n",
    "\treturn y"
   ]
  },
  {
   "cell_type": "code",
   "execution_count": 35,
   "metadata": {
    "collapsed": true
   },
   "outputs": [],
   "source": [
    "y_train = one_hot(y_train)\n",
    "y_val = one_hot(y_val)"
   ]
  },
  {
   "cell_type": "code",
   "execution_count": 36,
   "metadata": {},
   "outputs": [
    {
     "name": "stderr",
     "output_type": "stream",
     "text": [
      "Using TensorFlow backend.\n"
     ]
    }
   ],
   "source": [
    "from keras.layers.convolutional import Conv1D, MaxPooling1D\n",
    "from keras.models import Sequential\n",
    "from keras.layers import Dense, Flatten\n",
    "from keras.optimizers import Adam\n",
    "from keras.layers.advanced_activations import LeakyReLU"
   ]
  },
  {
   "cell_type": "code",
   "execution_count": 37,
   "metadata": {},
   "outputs": [
    {
     "name": "stdout",
     "output_type": "stream",
     "text": [
      "_________________________________________________________________\n",
      "Layer (type)                 Output Shape              Param #   \n",
      "=================================================================\n",
      "conv1d_1 (Conv1D)            (None, 4092, 4)           28        \n",
      "_________________________________________________________________\n",
      "max_pooling1d_1 (MaxPooling1 (None, 2046, 4)           0         \n",
      "_________________________________________________________________\n",
      "conv1d_2 (Conv1D)            (None, 2042, 4)           84        \n",
      "_________________________________________________________________\n",
      "leaky_re_lu_1 (LeakyReLU)    (None, 2042, 4)           0         \n",
      "_________________________________________________________________\n",
      "max_pooling1d_2 (MaxPooling1 (None, 1021, 4)           0         \n",
      "_________________________________________________________________\n",
      "conv1d_3 (Conv1D)            (None, 1018, 10)          170       \n",
      "_________________________________________________________________\n",
      "leaky_re_lu_2 (LeakyReLU)    (None, 1018, 10)          0         \n",
      "_________________________________________________________________\n",
      "max_pooling1d_3 (MaxPooling1 (None, 509, 10)           0         \n",
      "_________________________________________________________________\n",
      "conv1d_4 (Conv1D)            (None, 506, 10)           410       \n",
      "_________________________________________________________________\n",
      "leaky_re_lu_3 (LeakyReLU)    (None, 506, 10)           0         \n",
      "_________________________________________________________________\n",
      "max_pooling1d_4 (MaxPooling1 (None, 253, 10)           0         \n",
      "_________________________________________________________________\n",
      "conv1d_5 (Conv1D)            (None, 250, 15)           615       \n",
      "_________________________________________________________________\n",
      "leaky_re_lu_4 (LeakyReLU)    (None, 250, 15)           0         \n",
      "_________________________________________________________________\n",
      "max_pooling1d_5 (MaxPooling1 (None, 125, 15)           0         \n",
      "_________________________________________________________________\n",
      "flatten_1 (Flatten)          (None, 1875)              0         \n",
      "_________________________________________________________________\n",
      "dense_1 (Dense)              (None, 50)                93800     \n",
      "_________________________________________________________________\n",
      "dense_2 (Dense)              (None, 20)                1020      \n",
      "_________________________________________________________________\n",
      "dense_3 (Dense)              (None, 3)                 63        \n",
      "=================================================================\n",
      "Total params: 96,190\n",
      "Trainable params: 96,190\n",
      "Non-trainable params: 0\n",
      "_________________________________________________________________\n"
     ]
    }
   ],
   "source": [
    "model = Sequential()\n",
    "model.add(Conv1D(filters=4, kernel_size=6, input_shape=x_train.shape[1:3],\n",
    "                activation='relu'))\n",
    "model.add(MaxPooling1D(2))\n",
    "\n",
    "model.add(Conv1D(filters=4, kernel_size=5, activation='linear'))\n",
    "model.add(LeakyReLU(alpha=.001))\n",
    "model.add(MaxPooling1D(2))\n",
    "\n",
    "model.add(Conv1D(filters=10, kernel_size=4, activation='linear'))\n",
    "model.add(LeakyReLU(alpha=.001))\n",
    "model.add(MaxPooling1D(2))\n",
    "\n",
    "model.add(Conv1D(filters=10, kernel_size=4, activation='linear'))\n",
    "model.add(LeakyReLU(alpha=.001))\n",
    "model.add(MaxPooling1D(2))\n",
    "\n",
    "model.add(Conv1D(filters=15, kernel_size=4, activation='linear'))\n",
    "model.add(LeakyReLU(alpha=.001))\n",
    "model.add(MaxPooling1D(2))\n",
    "\n",
    "model.add(Flatten())\n",
    "model.add(Dense(50, activation='relu'))\n",
    "model.add(Dense(20, activation='relu'))\n",
    "\n",
    "model.add(Dense(3, activation='softmax'))\n",
    "\n",
    "model.compile(loss='categorical_crossentropy', optimizer=Adam(lr=0.0001),\n",
    "            metrics=['accuracy'])\n",
    "model.summary()"
   ]
  },
  {
   "cell_type": "code",
   "execution_count": 38,
   "metadata": {},
   "outputs": [
    {
     "name": "stdout",
     "output_type": "stream",
     "text": [
      "Train on 375 samples, validate on 125 samples\n",
      "Epoch 1/150\n",
      "375/375 [==============================] - 1s - loss: 4.2424 - acc: 0.3573 - val_loss: 2.2822 - val_acc: 0.3280\n",
      "Epoch 2/150\n",
      "375/375 [==============================] - 0s - loss: 1.8952 - acc: 0.4133 - val_loss: 1.4556 - val_acc: 0.5040\n",
      "Epoch 3/150\n",
      "375/375 [==============================] - 0s - loss: 1.3490 - acc: 0.5467 - val_loss: 1.6226 - val_acc: 0.4480\n",
      "Epoch 4/150\n",
      "375/375 [==============================] - 0s - loss: 1.0637 - acc: 0.6080 - val_loss: 1.1533 - val_acc: 0.5120\n",
      "Epoch 5/150\n",
      "375/375 [==============================] - 0s - loss: 0.7036 - acc: 0.7173 - val_loss: 0.8809 - val_acc: 0.6080\n",
      "Epoch 6/150\n",
      "375/375 [==============================] - 0s - loss: 0.5466 - acc: 0.7920 - val_loss: 0.9025 - val_acc: 0.6480\n",
      "Epoch 7/150\n",
      "375/375 [==============================] - 0s - loss: 0.4179 - acc: 0.8347 - val_loss: 0.9248 - val_acc: 0.7440\n",
      "Epoch 8/150\n",
      "375/375 [==============================] - 0s - loss: 0.2875 - acc: 0.9013 - val_loss: 0.9752 - val_acc: 0.7520\n",
      "Epoch 9/150\n",
      "375/375 [==============================] - 0s - loss: 0.2643 - acc: 0.9173 - val_loss: 0.7595 - val_acc: 0.7440\n",
      "Epoch 10/150\n",
      "375/375 [==============================] - 0s - loss: 0.2305 - acc: 0.9280 - val_loss: 0.8391 - val_acc: 0.8000\n",
      "Epoch 11/150\n",
      "375/375 [==============================] - 0s - loss: 0.1545 - acc: 0.9680 - val_loss: 0.8745 - val_acc: 0.7920\n",
      "Epoch 12/150\n",
      "375/375 [==============================] - 0s - loss: 0.1518 - acc: 0.9573 - val_loss: 0.5246 - val_acc: 0.7920\n",
      "Epoch 13/150\n",
      "375/375 [==============================] - 0s - loss: 0.2002 - acc: 0.9387 - val_loss: 0.6311 - val_acc: 0.7200\n",
      "Epoch 14/150\n",
      "375/375 [==============================] - 0s - loss: 0.1977 - acc: 0.9333 - val_loss: 1.1607 - val_acc: 0.7200\n",
      "Epoch 15/150\n",
      "375/375 [==============================] - 0s - loss: 0.1052 - acc: 0.9787 - val_loss: 0.7117 - val_acc: 0.8320\n",
      "Epoch 16/150\n",
      "375/375 [==============================] - 0s - loss: 0.0676 - acc: 0.9973 - val_loss: 0.7090 - val_acc: 0.8480\n",
      "Epoch 17/150\n",
      "375/375 [==============================] - 0s - loss: 0.0610 - acc: 0.9893 - val_loss: 0.6041 - val_acc: 0.8640\n",
      "Epoch 18/150\n",
      "375/375 [==============================] - 0s - loss: 0.0443 - acc: 0.9947 - val_loss: 0.7805 - val_acc: 0.8080\n",
      "Epoch 19/150\n",
      "375/375 [==============================] - 0s - loss: 0.0338 - acc: 1.0000 - val_loss: 0.5711 - val_acc: 0.8800\n",
      "Epoch 20/150\n",
      "375/375 [==============================] - 0s - loss: 0.0305 - acc: 1.0000 - val_loss: 0.8250 - val_acc: 0.8640\n",
      "Epoch 21/150\n",
      "375/375 [==============================] - 0s - loss: 0.0245 - acc: 1.0000 - val_loss: 0.8668 - val_acc: 0.8720\n",
      "Epoch 22/150\n",
      "375/375 [==============================] - 0s - loss: 0.0212 - acc: 1.0000 - val_loss: 0.8254 - val_acc: 0.8480\n",
      "Epoch 23/150\n",
      "375/375 [==============================] - 0s - loss: 0.0183 - acc: 1.0000 - val_loss: 0.8915 - val_acc: 0.8400\n",
      "Epoch 24/150\n",
      "375/375 [==============================] - 0s - loss: 0.0156 - acc: 1.0000 - val_loss: 0.9477 - val_acc: 0.8560\n",
      "Epoch 25/150\n",
      "375/375 [==============================] - 0s - loss: 0.0149 - acc: 1.0000 - val_loss: 0.6996 - val_acc: 0.8480\n",
      "Epoch 26/150\n",
      "375/375 [==============================] - 0s - loss: 0.0131 - acc: 1.0000 - val_loss: 0.7828 - val_acc: 0.8480\n",
      "Epoch 27/150\n",
      "375/375 [==============================] - 0s - loss: 0.0109 - acc: 1.0000 - val_loss: 0.6477 - val_acc: 0.8480\n",
      "Epoch 28/150\n",
      "375/375 [==============================] - 0s - loss: 0.0105 - acc: 1.0000 - val_loss: 0.9305 - val_acc: 0.8240\n",
      "Epoch 29/150\n",
      "375/375 [==============================] - 0s - loss: 0.0092 - acc: 1.0000 - val_loss: 0.8797 - val_acc: 0.8720\n",
      "Epoch 30/150\n",
      "375/375 [==============================] - 0s - loss: 0.0075 - acc: 1.0000 - val_loss: 0.9838 - val_acc: 0.8560\n",
      "Epoch 31/150\n",
      "375/375 [==============================] - 0s - loss: 0.0065 - acc: 1.0000 - val_loss: 0.8250 - val_acc: 0.8640\n",
      "Epoch 32/150\n",
      "375/375 [==============================] - 0s - loss: 0.0059 - acc: 1.0000 - val_loss: 1.0072 - val_acc: 0.8400\n",
      "Epoch 33/150\n",
      "375/375 [==============================] - 0s - loss: 0.0052 - acc: 1.0000 - val_loss: 1.0568 - val_acc: 0.8800\n",
      "Epoch 34/150\n",
      "375/375 [==============================] - 0s - loss: 0.0066 - acc: 1.0000 - val_loss: 0.8783 - val_acc: 0.8560\n",
      "Epoch 35/150\n",
      "375/375 [==============================] - 0s - loss: 0.0043 - acc: 1.0000 - val_loss: 0.9057 - val_acc: 0.8560\n",
      "Epoch 36/150\n",
      "375/375 [==============================] - 0s - loss: 0.0036 - acc: 1.0000 - val_loss: 1.0070 - val_acc: 0.8560\n",
      "Epoch 37/150\n",
      "375/375 [==============================] - 0s - loss: 0.0030 - acc: 1.0000 - val_loss: 1.0625 - val_acc: 0.8720\n",
      "Epoch 38/150\n",
      "375/375 [==============================] - 0s - loss: 0.0028 - acc: 1.0000 - val_loss: 1.0434 - val_acc: 0.8480\n",
      "Epoch 39/150\n",
      "375/375 [==============================] - 0s - loss: 0.0025 - acc: 1.0000 - val_loss: 1.0776 - val_acc: 0.8480\n",
      "Epoch 40/150\n",
      "375/375 [==============================] - 0s - loss: 0.0022 - acc: 1.0000 - val_loss: 1.0869 - val_acc: 0.8720\n",
      "Epoch 41/150\n",
      "375/375 [==============================] - 0s - loss: 0.0020 - acc: 1.0000 - val_loss: 1.1211 - val_acc: 0.8560\n",
      "Epoch 42/150\n",
      "375/375 [==============================] - 0s - loss: 0.0023 - acc: 1.0000 - val_loss: 1.0936 - val_acc: 0.8240\n",
      "Epoch 43/150\n",
      "375/375 [==============================] - 0s - loss: 0.0017 - acc: 1.0000 - val_loss: 1.0819 - val_acc: 0.8800\n",
      "Epoch 44/150\n",
      "375/375 [==============================] - 0s - loss: 0.0016 - acc: 1.0000 - val_loss: 1.1236 - val_acc: 0.8640\n",
      "Epoch 45/150\n",
      "375/375 [==============================] - 0s - loss: 0.0014 - acc: 1.0000 - val_loss: 1.1110 - val_acc: 0.8800\n",
      "Epoch 46/150\n",
      "375/375 [==============================] - 0s - loss: 0.0013 - acc: 1.0000 - val_loss: 1.1657 - val_acc: 0.8800\n",
      "Epoch 47/150\n",
      "375/375 [==============================] - 0s - loss: 0.0012 - acc: 1.0000 - val_loss: 1.1541 - val_acc: 0.8720\n",
      "Epoch 48/150\n",
      "375/375 [==============================] - 0s - loss: 0.0011 - acc: 1.0000 - val_loss: 1.1232 - val_acc: 0.8720\n",
      "Epoch 49/150\n",
      "375/375 [==============================] - 0s - loss: 9.6035e-04 - acc: 1.0000 - val_loss: 1.1959 - val_acc: 0.8640\n",
      "Epoch 50/150\n",
      "375/375 [==============================] - 0s - loss: 9.5016e-04 - acc: 1.0000 - val_loss: 1.1631 - val_acc: 0.8560\n",
      "Epoch 51/150\n",
      "375/375 [==============================] - 0s - loss: 8.0239e-04 - acc: 1.0000 - val_loss: 1.1596 - val_acc: 0.8800\n",
      "Epoch 52/150\n",
      "375/375 [==============================] - 0s - loss: 7.3183e-04 - acc: 1.0000 - val_loss: 1.1730 - val_acc: 0.8480\n",
      "Epoch 53/150\n",
      "375/375 [==============================] - 0s - loss: 6.7128e-04 - acc: 1.0000 - val_loss: 1.1840 - val_acc: 0.8720\n",
      "Epoch 54/150\n",
      "375/375 [==============================] - 0s - loss: 6.0421e-04 - acc: 1.0000 - val_loss: 1.2087 - val_acc: 0.8480\n",
      "Epoch 55/150\n",
      "375/375 [==============================] - 0s - loss: 5.8783e-04 - acc: 1.0000 - val_loss: 1.1712 - val_acc: 0.8560\n",
      "Epoch 56/150\n",
      "375/375 [==============================] - 0s - loss: 5.3420e-04 - acc: 1.0000 - val_loss: 1.1802 - val_acc: 0.8720\n",
      "Epoch 57/150\n",
      "375/375 [==============================] - 0s - loss: 4.7407e-04 - acc: 1.0000 - val_loss: 1.2393 - val_acc: 0.8480\n",
      "Epoch 58/150\n",
      "375/375 [==============================] - 0s - loss: 4.4797e-04 - acc: 1.0000 - val_loss: 1.2265 - val_acc: 0.8480\n",
      "Epoch 59/150\n",
      "375/375 [==============================] - 0s - loss: 4.0948e-04 - acc: 1.0000 - val_loss: 1.2278 - val_acc: 0.8560\n",
      "Epoch 60/150\n",
      "375/375 [==============================] - 0s - loss: 3.7212e-04 - acc: 1.0000 - val_loss: 1.1409 - val_acc: 0.8800\n",
      "Epoch 61/150\n",
      "375/375 [==============================] - 0s - loss: 3.4418e-04 - acc: 1.0000 - val_loss: 1.2569 - val_acc: 0.8480\n",
      "Epoch 62/150\n",
      "375/375 [==============================] - 0s - loss: 3.2239e-04 - acc: 1.0000 - val_loss: 1.2266 - val_acc: 0.8640\n",
      "Epoch 63/150\n",
      "375/375 [==============================] - 0s - loss: 2.9028e-04 - acc: 1.0000 - val_loss: 1.1909 - val_acc: 0.8800\n",
      "Epoch 64/150\n",
      "375/375 [==============================] - 0s - loss: 2.6473e-04 - acc: 1.0000 - val_loss: 1.2731 - val_acc: 0.8480\n",
      "Epoch 65/150\n"
     ]
    },
    {
     "name": "stdout",
     "output_type": "stream",
     "text": [
      "375/375 [==============================] - 0s - loss: 2.5617e-04 - acc: 1.0000 - val_loss: 1.2476 - val_acc: 0.8480\n",
      "Epoch 66/150\n",
      "375/375 [==============================] - 0s - loss: 2.2621e-04 - acc: 1.0000 - val_loss: 1.2403 - val_acc: 0.8640\n",
      "Epoch 67/150\n",
      "375/375 [==============================] - 0s - loss: 2.1580e-04 - acc: 1.0000 - val_loss: 1.2298 - val_acc: 0.8800\n",
      "Epoch 68/150\n",
      "375/375 [==============================] - 0s - loss: 1.9354e-04 - acc: 1.0000 - val_loss: 1.1779 - val_acc: 0.8640\n",
      "Epoch 69/150\n",
      "375/375 [==============================] - 0s - loss: 1.7360e-04 - acc: 1.0000 - val_loss: 1.1761 - val_acc: 0.8800\n",
      "Epoch 70/150\n",
      "375/375 [==============================] - 0s - loss: 1.6504e-04 - acc: 1.0000 - val_loss: 1.2026 - val_acc: 0.8720\n",
      "Epoch 71/150\n",
      "375/375 [==============================] - 0s - loss: 1.5194e-04 - acc: 1.0000 - val_loss: 1.2784 - val_acc: 0.8480\n",
      "Epoch 72/150\n",
      "375/375 [==============================] - 0s - loss: 1.3822e-04 - acc: 1.0000 - val_loss: 1.2387 - val_acc: 0.8800\n",
      "Epoch 73/150\n",
      "375/375 [==============================] - 0s - loss: 1.3980e-04 - acc: 1.0000 - val_loss: 1.2412 - val_acc: 0.8720\n",
      "Epoch 74/150\n",
      "375/375 [==============================] - 0s - loss: 1.2456e-04 - acc: 1.0000 - val_loss: 1.1848 - val_acc: 0.8560\n",
      "Epoch 75/150\n",
      "375/375 [==============================] - 0s - loss: 1.1078e-04 - acc: 1.0000 - val_loss: 1.2375 - val_acc: 0.8800\n",
      "Epoch 76/150\n",
      "375/375 [==============================] - 0s - loss: 9.9931e-05 - acc: 1.0000 - val_loss: 1.2681 - val_acc: 0.8640\n",
      "Epoch 77/150\n",
      "375/375 [==============================] - 0s - loss: 9.2442e-05 - acc: 1.0000 - val_loss: 1.2892 - val_acc: 0.8560\n",
      "Epoch 78/150\n",
      "375/375 [==============================] - 0s - loss: 8.7392e-05 - acc: 1.0000 - val_loss: 1.2772 - val_acc: 0.8800\n",
      "Epoch 79/150\n",
      "375/375 [==============================] - 0s - loss: 8.5029e-05 - acc: 1.0000 - val_loss: 1.3781 - val_acc: 0.8320\n",
      "Epoch 80/150\n",
      "375/375 [==============================] - 0s - loss: 8.0723e-05 - acc: 1.0000 - val_loss: 1.2491 - val_acc: 0.8640\n",
      "Epoch 81/150\n",
      "375/375 [==============================] - 0s - loss: 7.0102e-05 - acc: 1.0000 - val_loss: 1.2534 - val_acc: 0.8560\n",
      "Epoch 82/150\n",
      "375/375 [==============================] - 0s - loss: 6.3766e-05 - acc: 1.0000 - val_loss: 1.2942 - val_acc: 0.8640\n",
      "Epoch 83/150\n",
      "375/375 [==============================] - 0s - loss: 5.8589e-05 - acc: 1.0000 - val_loss: 1.2643 - val_acc: 0.8640\n",
      "Epoch 84/150\n",
      "375/375 [==============================] - 0s - loss: 5.3104e-05 - acc: 1.0000 - val_loss: 1.2510 - val_acc: 0.8560\n",
      "Epoch 85/150\n",
      "375/375 [==============================] - 0s - loss: 4.9068e-05 - acc: 1.0000 - val_loss: 1.3389 - val_acc: 0.8400\n",
      "Epoch 86/150\n",
      "375/375 [==============================] - 0s - loss: 4.5988e-05 - acc: 1.0000 - val_loss: 1.3170 - val_acc: 0.8640\n",
      "Epoch 87/150\n",
      "375/375 [==============================] - 0s - loss: 4.2004e-05 - acc: 1.0000 - val_loss: 1.2707 - val_acc: 0.8720\n",
      "Epoch 88/150\n",
      "375/375 [==============================] - 0s - loss: 3.8814e-05 - acc: 1.0000 - val_loss: 1.3169 - val_acc: 0.8640\n",
      "Epoch 89/150\n",
      "375/375 [==============================] - 0s - loss: 3.6669e-05 - acc: 1.0000 - val_loss: 1.2970 - val_acc: 0.8560\n",
      "Epoch 90/150\n",
      "375/375 [==============================] - 0s - loss: 3.3288e-05 - acc: 1.0000 - val_loss: 1.3718 - val_acc: 0.8480\n",
      "Epoch 91/150\n",
      "375/375 [==============================] - 0s - loss: 3.1460e-05 - acc: 1.0000 - val_loss: 1.2779 - val_acc: 0.8640\n",
      "Epoch 92/150\n",
      "375/375 [==============================] - 0s - loss: 2.8638e-05 - acc: 1.0000 - val_loss: 1.2852 - val_acc: 0.8640\n",
      "Epoch 93/150\n",
      "375/375 [==============================] - 0s - loss: 2.7052e-05 - acc: 1.0000 - val_loss: 1.3447 - val_acc: 0.8560\n",
      "Epoch 94/150\n",
      "375/375 [==============================] - 0s - loss: 2.4457e-05 - acc: 1.0000 - val_loss: 1.3153 - val_acc: 0.8640\n",
      "Epoch 95/150\n",
      "375/375 [==============================] - 0s - loss: 2.3213e-05 - acc: 1.0000 - val_loss: 1.3806 - val_acc: 0.8480\n",
      "Epoch 96/150\n",
      "375/375 [==============================] - 0s - loss: 2.1583e-05 - acc: 1.0000 - val_loss: 1.3075 - val_acc: 0.8640\n",
      "Epoch 97/150\n",
      "375/375 [==============================] - 0s - loss: 1.9970e-05 - acc: 1.0000 - val_loss: 1.3270 - val_acc: 0.8720\n",
      "Epoch 98/150\n",
      "375/375 [==============================] - 0s - loss: 1.8339e-05 - acc: 1.0000 - val_loss: 1.3446 - val_acc: 0.8640\n",
      "Epoch 99/150\n",
      "375/375 [==============================] - 0s - loss: 1.7437e-05 - acc: 1.0000 - val_loss: 1.3868 - val_acc: 0.8560\n",
      "Epoch 100/150\n",
      "375/375 [==============================] - 0s - loss: 1.5874e-05 - acc: 1.0000 - val_loss: 1.3180 - val_acc: 0.8640\n",
      "Epoch 101/150\n",
      "375/375 [==============================] - 0s - loss: 1.4706e-05 - acc: 1.0000 - val_loss: 1.3663 - val_acc: 0.8560\n",
      "Epoch 102/150\n",
      "375/375 [==============================] - 0s - loss: 1.3588e-05 - acc: 1.0000 - val_loss: 1.3396 - val_acc: 0.8640\n",
      "Epoch 103/150\n",
      "375/375 [==============================] - 0s - loss: 1.2762e-05 - acc: 1.0000 - val_loss: 1.3507 - val_acc: 0.8640\n",
      "Epoch 104/150\n",
      "375/375 [==============================] - 0s - loss: 1.1613e-05 - acc: 1.0000 - val_loss: 1.3542 - val_acc: 0.8640\n",
      "Epoch 105/150\n",
      "375/375 [==============================] - 0s - loss: 1.0634e-05 - acc: 1.0000 - val_loss: 1.4016 - val_acc: 0.8400\n",
      "Epoch 106/150\n",
      "375/375 [==============================] - 0s - loss: 1.0206e-05 - acc: 1.0000 - val_loss: 1.3817 - val_acc: 0.8480\n",
      "Epoch 107/150\n",
      "375/375 [==============================] - 0s - loss: 9.2001e-06 - acc: 1.0000 - val_loss: 1.2970 - val_acc: 0.8640\n",
      "Epoch 108/150\n",
      "375/375 [==============================] - 0s - loss: 8.6256e-06 - acc: 1.0000 - val_loss: 1.3891 - val_acc: 0.8480\n",
      "Epoch 109/150\n",
      "375/375 [==============================] - 0s - loss: 7.8782e-06 - acc: 1.0000 - val_loss: 1.3695 - val_acc: 0.8640\n",
      "Epoch 110/150\n",
      "375/375 [==============================] - 0s - loss: 7.4805e-06 - acc: 1.0000 - val_loss: 1.4051 - val_acc: 0.8560\n",
      "Epoch 111/150\n",
      "375/375 [==============================] - 0s - loss: 6.9160e-06 - acc: 1.0000 - val_loss: 1.4306 - val_acc: 0.8480\n",
      "Epoch 112/150\n",
      "375/375 [==============================] - 0s - loss: 6.3128e-06 - acc: 1.0000 - val_loss: 1.3981 - val_acc: 0.8640\n",
      "Epoch 113/150\n",
      "375/375 [==============================] - 0s - loss: 5.9086e-06 - acc: 1.0000 - val_loss: 1.3812 - val_acc: 0.8640\n",
      "Epoch 114/150\n",
      "375/375 [==============================] - 0s - loss: 5.5228e-06 - acc: 1.0000 - val_loss: 1.3604 - val_acc: 0.8640\n",
      "Epoch 115/150\n",
      "375/375 [==============================] - 0s - loss: 5.1038e-06 - acc: 1.0000 - val_loss: 1.4311 - val_acc: 0.8560\n",
      "Epoch 116/150\n",
      "375/375 [==============================] - 0s - loss: 0.9423 - acc: 0.8827 - val_loss: 4.5475 - val_acc: 0.5120\n",
      "Epoch 117/150\n",
      "375/375 [==============================] - 0s - loss: 1.1173 - acc: 0.7627 - val_loss: 1.1990 - val_acc: 0.6800\n",
      "Epoch 118/150\n",
      "375/375 [==============================] - 0s - loss: 0.1456 - acc: 0.9733 - val_loss: 0.4546 - val_acc: 0.9040\n",
      "Epoch 119/150\n",
      "375/375 [==============================] - 0s - loss: 0.0406 - acc: 0.9893 - val_loss: 0.4317 - val_acc: 0.8480\n",
      "Epoch 120/150\n",
      "375/375 [==============================] - 0s - loss: 0.0209 - acc: 0.9973 - val_loss: 0.4221 - val_acc: 0.8800\n",
      "Epoch 121/150\n",
      "375/375 [==============================] - 0s - loss: 0.0091 - acc: 1.0000 - val_loss: 0.4270 - val_acc: 0.8960\n",
      "Epoch 122/150\n",
      "375/375 [==============================] - 0s - loss: 0.0067 - acc: 1.0000 - val_loss: 0.4403 - val_acc: 0.9040\n",
      "Epoch 123/150\n",
      "375/375 [==============================] - 0s - loss: 0.0045 - acc: 1.0000 - val_loss: 0.4616 - val_acc: 0.8960\n",
      "Epoch 124/150\n",
      "375/375 [==============================] - 0s - loss: 0.0036 - acc: 1.0000 - val_loss: 0.4693 - val_acc: 0.8880\n",
      "Epoch 125/150\n",
      "375/375 [==============================] - 0s - loss: 0.0030 - acc: 1.0000 - val_loss: 0.4517 - val_acc: 0.8960\n",
      "Epoch 126/150\n",
      "375/375 [==============================] - 0s - loss: 0.0025 - acc: 1.0000 - val_loss: 0.4672 - val_acc: 0.8960\n",
      "Epoch 127/150\n",
      "375/375 [==============================] - 0s - loss: 0.0022 - acc: 1.0000 - val_loss: 0.4655 - val_acc: 0.9040\n",
      "Epoch 128/150\n"
     ]
    },
    {
     "name": "stdout",
     "output_type": "stream",
     "text": [
      "375/375 [==============================] - 0s - loss: 0.0019 - acc: 1.0000 - val_loss: 0.4856 - val_acc: 0.8960\n",
      "Epoch 129/150\n",
      "375/375 [==============================] - 0s - loss: 0.0017 - acc: 1.0000 - val_loss: 0.5110 - val_acc: 0.8880\n",
      "Epoch 130/150\n",
      "375/375 [==============================] - 0s - loss: 0.0015 - acc: 1.0000 - val_loss: 0.5075 - val_acc: 0.8880\n",
      "Epoch 131/150\n",
      "375/375 [==============================] - 0s - loss: 0.0013 - acc: 1.0000 - val_loss: 0.5092 - val_acc: 0.8960\n",
      "Epoch 132/150\n",
      "375/375 [==============================] - 0s - loss: 0.0012 - acc: 1.0000 - val_loss: 0.4993 - val_acc: 0.8960\n",
      "Epoch 133/150\n",
      "375/375 [==============================] - 0s - loss: 0.0011 - acc: 1.0000 - val_loss: 0.5237 - val_acc: 0.8880\n",
      "Epoch 134/150\n",
      "375/375 [==============================] - 0s - loss: 0.0010 - acc: 1.0000 - val_loss: 0.5213 - val_acc: 0.8880\n",
      "Epoch 135/150\n",
      "375/375 [==============================] - 0s - loss: 9.6305e-04 - acc: 1.0000 - val_loss: 0.5105 - val_acc: 0.8960\n",
      "Epoch 136/150\n",
      "375/375 [==============================] - 0s - loss: 8.6390e-04 - acc: 1.0000 - val_loss: 0.5234 - val_acc: 0.8960\n",
      "Epoch 137/150\n",
      "375/375 [==============================] - 0s - loss: 8.3685e-04 - acc: 1.0000 - val_loss: 0.5303 - val_acc: 0.8960\n",
      "Epoch 138/150\n",
      "375/375 [==============================] - 0s - loss: 7.5252e-04 - acc: 1.0000 - val_loss: 0.5426 - val_acc: 0.8960\n",
      "Epoch 139/150\n",
      "375/375 [==============================] - 0s - loss: 7.1156e-04 - acc: 1.0000 - val_loss: 0.5319 - val_acc: 0.8960\n",
      "Epoch 140/150\n",
      "375/375 [==============================] - 0s - loss: 6.7232e-04 - acc: 1.0000 - val_loss: 0.5307 - val_acc: 0.8960\n",
      "Epoch 141/150\n",
      "375/375 [==============================] - 0s - loss: 6.1810e-04 - acc: 1.0000 - val_loss: 0.5319 - val_acc: 0.9040\n",
      "Epoch 142/150\n",
      "375/375 [==============================] - 0s - loss: 5.7283e-04 - acc: 1.0000 - val_loss: 0.5514 - val_acc: 0.8960\n",
      "Epoch 143/150\n",
      "375/375 [==============================] - 0s - loss: 5.3784e-04 - acc: 1.0000 - val_loss: 0.5493 - val_acc: 0.8960\n",
      "Epoch 144/150\n",
      "375/375 [==============================] - 0s - loss: 4.9612e-04 - acc: 1.0000 - val_loss: 0.5535 - val_acc: 0.9040\n",
      "Epoch 145/150\n",
      "375/375 [==============================] - 0s - loss: 4.7649e-04 - acc: 1.0000 - val_loss: 0.5522 - val_acc: 0.9040\n",
      "Epoch 146/150\n",
      "375/375 [==============================] - 0s - loss: 4.3796e-04 - acc: 1.0000 - val_loss: 0.5428 - val_acc: 0.9040\n",
      "Epoch 147/150\n",
      "375/375 [==============================] - 0s - loss: 4.0647e-04 - acc: 1.0000 - val_loss: 0.5570 - val_acc: 0.9120\n",
      "Epoch 148/150\n",
      "375/375 [==============================] - 0s - loss: 3.8570e-04 - acc: 1.0000 - val_loss: 0.5563 - val_acc: 0.9120\n",
      "Epoch 149/150\n",
      "375/375 [==============================] - 0s - loss: 3.5664e-04 - acc: 1.0000 - val_loss: 0.5508 - val_acc: 0.9120\n",
      "Epoch 150/150\n",
      "375/375 [==============================] - 0s - loss: 3.3670e-04 - acc: 1.0000 - val_loss: 0.5668 - val_acc: 0.9040\n"
     ]
    }
   ],
   "source": [
    "history = model.fit(x_train,y_train, batch_size=3, epochs=150,validation_data=(x_val,y_val) )"
   ]
  },
  {
   "cell_type": "code",
   "execution_count": 39,
   "metadata": {},
   "outputs": [
    {
     "data": {
      "image/png": "[encoded data removed]",
      "text/plain": [
       "<matplotlib.figure.Figure at 0x7f90444c8c88>"
      ]
     },
     "metadata": {},
     "output_type": "display_data"
    },
    {
     "data": {
      "image/png": "[encoded data removed]",
      "text/plain": [
       "<matplotlib.figure.Figure at 0x7f902e5d87b8>"
      ]
     },
     "metadata": {},
     "output_type": "display_data"
    }
   ],
   "source": [
    "import matplotlib.pyplot as plt\n",
    "%matplotlib inline\n",
    "\n",
    "acc = history.history['acc']\n",
    "val_acc = history.history['val_acc']\n",
    "loss = history.history['loss']\n",
    "val_loss = history.history['val_loss']\n",
    "\n",
    "epochs = range(1, len(acc) + 1)\n",
    "\n",
    "plt.plot(epochs, acc, 'bo', label='Training acc')\n",
    "plt.plot(epochs, val_acc, 'b', label='Validation acc')\n",
    "plt.title('Training and Validation accuracy')\n",
    "plt.legend()\n",
    "\n",
    "plt.figure()\n",
    "\n",
    "plt.plot(epochs, loss, 'bo', label='Training loss')\n",
    "plt.plot(epochs, val_loss, 'b', label='Validation loss')\n",
    "plt.title('Training and Validation loss')\n",
    "plt.legend()\n",
    "plt.show()"
   ]
  },
  {
   "cell_type": "code",
   "execution_count": 40,
   "metadata": {
    "collapsed": true
   },
   "outputs": [],
   "source": [
    "#http://scikit-learn.org/stable/auto_examples/model_selection/plot_roc.html\n",
    "\n",
    "from sklearn.metrics import roc_curve, auc\n",
    "from itertools import cycle\n",
    "from scipy import interp\n",
    "\n",
    "n_classes = y_val.shape[1]\n",
    "y_score = model.predict(x_val)\n",
    "\n",
    "# Compute ROC curve and ROC area for each class\n",
    "fpr = dict()\n",
    "tpr = dict()\n",
    "roc_auc = dict()\n",
    "for i in range(n_classes):\n",
    "    fpr[i], tpr[i], _ = roc_curve(y_val[:, i], y_score[:, i])\n",
    "    roc_auc[i] = auc(fpr[i], tpr[i])\n",
    "\n",
    "# Compute micro-average ROC curve and ROC area\n",
    "fpr[\"micro\"], tpr[\"micro\"], _ = roc_curve(y_val.ravel(), y_score.ravel())\n",
    "roc_auc[\"micro\"] = auc(fpr[\"micro\"], tpr[\"micro\"])"
   ]
  },
  {
   "cell_type": "code",
   "execution_count": 41,
   "metadata": {},
   "outputs": [
    {
     "data": {
      "image/png": "[encoded data removed]",
      "text/plain": [
       "<matplotlib.figure.Figure at 0x7f902c4aaa90>"
      ]
     },
     "metadata": {},
     "output_type": "display_data"
    }
   ],
   "source": [
    "\n",
    "lw = 2\n",
    "# Compute macro-average ROC curve and ROC area\n",
    "\n",
    "# First aggregate all false positive rates\n",
    "all_fpr = np.unique(np.concatenate([fpr[i] for i in range(n_classes)]))\n",
    "\n",
    "# Then interpolate all ROC curves at this points\n",
    "mean_tpr = np.zeros_like(all_fpr)\n",
    "for i in range(n_classes):\n",
    "    mean_tpr += interp(all_fpr, fpr[i], tpr[i])\n",
    "\n",
    "# Finally average it and compute AUC\n",
    "mean_tpr /= n_classes\n",
    "\n",
    "fpr[\"macro\"] = all_fpr\n",
    "tpr[\"macro\"] = mean_tpr\n",
    "roc_auc[\"macro\"] = auc(fpr[\"macro\"], tpr[\"macro\"])\n",
    "\n",
    "# Plot all ROC curves\n",
    "plt.figure()\n",
    "plt.plot(fpr[\"micro\"], tpr[\"micro\"],\n",
    "         label='micro-average ROC curve (area = {0:0.2f})'\n",
    "               ''.format(roc_auc[\"micro\"]),\n",
    "         color='deeppink', linestyle=':', linewidth=4)\n",
    "\n",
    "plt.plot(fpr[\"macro\"], tpr[\"macro\"],\n",
    "         label='macro-average ROC curve (area = {0:0.2f})'\n",
    "               ''.format(roc_auc[\"macro\"]),\n",
    "         color='navy', linestyle=':', linewidth=4)\n",
    "\n",
    "colors = cycle(['aqua', 'darkorange', 'cornflowerblue'])\n",
    "for i, color in zip(range(n_classes), colors):\n",
    "    plt.plot(fpr[i], tpr[i], color=color, lw=lw,\n",
    "             label='ROC curve of class {0} (area = {1:0.2f})'\n",
    "             ''.format(i, roc_auc[i]))\n",
    "\n",
    "plt.plot([0, 1], [0, 1], 'k--', lw=lw)\n",
    "plt.xlim([0.0, 1.0])\n",
    "plt.ylim([0.0, 1.05])\n",
    "plt.xlabel('False Positive Rate')\n",
    "plt.ylabel('True Positive Rate')\n",
    "plt.title('Some extension of Receiver operating characteristic to multi-class')\n",
    "plt.legend(loc=\"lower right\")\n",
    "plt.show()"
   ]
  },
  {
   "cell_type": "code",
   "execution_count": null,
   "metadata": {
    "collapsed": true
   },
   "outputs": [],
   "source": []
  },
  {
   "cell_type": "code",
   "execution_count": null,
   "metadata": {
    "collapsed": true
   },
   "outputs": [],
   "source": []
  },
  {
   "cell_type": "code",
   "execution_count": null,
   "metadata": {
    "collapsed": true
   },
   "outputs": [],
   "source": []
  }
 ],
 "metadata": {
  "kernelspec": {
   "display_name": "Python 3",
   "language": "python",
   "name": "python3"
  },
  "language_info": {
   "codemirror_mode": {
    "name": "ipython",
    "version": 3
   },
   "file_extension": ".py",
   "mimetype": "text/x-python",
   "name": "python",
   "nbconvert_exporter": "python",
   "pygments_lexer": "ipython3",
   "version": "3.6.1"
  }
 },
 "nbformat": 4,
 "nbformat_minor": 2
}
