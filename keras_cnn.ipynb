{
 "cells": [
  {
   "cell_type": "markdown",
   "metadata": {},
   "source": [
    "Keras implementaion of 'Deep convolutional neural network for the automated detection and diagnosis of seizure using EEG signals', U. Rajendra Acharya, Shu Lih Oh, Yuki Hagiwara, Jen Hong Tan, Hojjat Adeli.  https://www.ncbi.nlm.nih.gov/pubmed/28974302"
   ]
  },
  {
   "cell_type": "code",
   "execution_count": 1,
   "metadata": {
    "collapsed": true
   },
   "outputs": [],
   "source": [
    "import glob\n",
    "import numpy as np"
   ]
  },
  {
   "cell_type": "code",
   "execution_count": 2,
   "metadata": {
    "collapsed": true
   },
   "outputs": [],
   "source": [
    "file_sets = ['O', 'N', 'S'] # O-> Set B (Normal ), N-> Set C (Pre-ictal) S-> Set E (Seizure)\n",
    "label_sets = [1, 2, 3] # 1->Normal, 2->Preictal,  3-> Seizure"
   ]
  },
  {
   "cell_type": "code",
   "execution_count": 3,
   "metadata": {},
   "outputs": [],
   "source": [
    "# data is in folders 'input/O, input/S' etc.\n",
    "data=[]\n",
    "labels = []\n",
    "for file_set, label in zip(file_sets, label_sets):\n",
    "\n",
    "    for file in glob.glob('input/'+ file_set +'/*.*'):\n",
    "        with open(file) as f:\n",
    "            int_list = [int(x) for x in f]\n",
    "            data.append(int_list)\n",
    "            labels.append(label)"
   ]
  },
  {
   "cell_type": "code",
   "execution_count": 4,
   "metadata": {},
   "outputs": [
    {
     "data": {
      "text/plain": [
       "(300, 4097)"
      ]
     },
     "execution_count": 4,
     "metadata": {},
     "output_type": "execute_result"
    }
   ],
   "source": [
    "data = np.asarray(data)\n",
    "data.shape"
   ]
  },
  {
   "cell_type": "code",
   "execution_count": 5,
   "metadata": {
    "collapsed": true
   },
   "outputs": [],
   "source": [
    "data = data.reshape(300, 4097, 1)"
   ]
  },
  {
   "cell_type": "code",
   "execution_count": 6,
   "metadata": {},
   "outputs": [
    {
     "name": "stdout",
     "output_type": "stream",
     "text": [
      "(300,)\n"
     ]
    }
   ],
   "source": [
    "labels = np.asarray(labels)\n",
    "print(labels.shape)"
   ]
  },
  {
   "cell_type": "code",
   "execution_count": 7,
   "metadata": {
    "collapsed": true
   },
   "outputs": [],
   "source": [
    "# randomize the data\n",
    "indices = np.arange(data.shape[0])\n",
    "np.random.shuffle(indices)\n",
    "data = data[indices]\n",
    "labels = labels[indices]"
   ]
  },
  {
   "cell_type": "code",
   "execution_count": 8,
   "metadata": {
    "collapsed": true
   },
   "outputs": [],
   "source": [
    "from sklearn.model_selection import train_test_split"
   ]
  },
  {
   "cell_type": "code",
   "execution_count": 9,
   "metadata": {
    "collapsed": true
   },
   "outputs": [],
   "source": [
    "x_train, x_val, y_train, y_val = train_test_split(data, labels, \n",
    "                                                stratify = labels, random_state = 123)"
   ]
  },
  {
   "cell_type": "code",
   "execution_count": 10,
   "metadata": {},
   "outputs": [
    {
     "name": "stdout",
     "output_type": "stream",
     "text": [
      "x_train shape: (225, 4097, 1)\n",
      "x_val shape: (75, 4097, 1)\n"
     ]
    }
   ],
   "source": [
    "print('x_train shape:', x_train.shape)\n",
    "print('x_val shape:', x_val.shape)"
   ]
  },
  {
   "cell_type": "code",
   "execution_count": 11,
   "metadata": {
    "collapsed": true
   },
   "outputs": [],
   "source": [
    "def one_hot(labels, n_class = 3):\n",
    "\t\"\"\" One-hot encoding \"\"\"\n",
    "\texpansion = np.eye(n_class)\n",
    "\ty = expansion[:, labels-1].T\n",
    "\tassert y.shape[1] == n_class, \"Wrong number of labels!\"\n",
    "\n",
    "\treturn y"
   ]
  },
  {
   "cell_type": "code",
   "execution_count": 12,
   "metadata": {
    "collapsed": true
   },
   "outputs": [],
   "source": [
    "y_train = one_hot(y_train)\n",
    "y_val = one_hot(y_val)"
   ]
  },
  {
   "cell_type": "code",
   "execution_count": 13,
   "metadata": {},
   "outputs": [
    {
     "name": "stderr",
     "output_type": "stream",
     "text": [
      "Using TensorFlow backend.\n"
     ]
    }
   ],
   "source": [
    "from keras.layers.convolutional import Conv1D, MaxPooling1D\n",
    "from keras.models import Sequential\n",
    "from keras.layers import Dense, Flatten\n",
    "from keras.optimizers import Adam\n",
    "from keras.layers.advanced_activations import LeakyReLU"
   ]
  },
  {
   "cell_type": "code",
   "execution_count": 14,
   "metadata": {},
   "outputs": [
    {
     "name": "stdout",
     "output_type": "stream",
     "text": [
      "_________________________________________________________________\n",
      "Layer (type)                 Output Shape              Param #   \n",
      "=================================================================\n",
      "conv1d_1 (Conv1D)            (None, 4092, 4)           28        \n",
      "_________________________________________________________________\n",
      "max_pooling1d_1 (MaxPooling1 (None, 2046, 4)           0         \n",
      "_________________________________________________________________\n",
      "conv1d_2 (Conv1D)            (None, 2042, 4)           84        \n",
      "_________________________________________________________________\n",
      "leaky_re_lu_1 (LeakyReLU)    (None, 2042, 4)           0         \n",
      "_________________________________________________________________\n",
      "max_pooling1d_2 (MaxPooling1 (None, 1021, 4)           0         \n",
      "_________________________________________________________________\n",
      "conv1d_3 (Conv1D)            (None, 1018, 10)          170       \n",
      "_________________________________________________________________\n",
      "leaky_re_lu_2 (LeakyReLU)    (None, 1018, 10)          0         \n",
      "_________________________________________________________________\n",
      "max_pooling1d_3 (MaxPooling1 (None, 509, 10)           0         \n",
      "_________________________________________________________________\n",
      "conv1d_4 (Conv1D)            (None, 506, 10)           410       \n",
      "_________________________________________________________________\n",
      "leaky_re_lu_3 (LeakyReLU)    (None, 506, 10)           0         \n",
      "_________________________________________________________________\n",
      "max_pooling1d_4 (MaxPooling1 (None, 253, 10)           0         \n",
      "_________________________________________________________________\n",
      "conv1d_5 (Conv1D)            (None, 250, 15)           615       \n",
      "_________________________________________________________________\n",
      "leaky_re_lu_4 (LeakyReLU)    (None, 250, 15)           0         \n",
      "_________________________________________________________________\n",
      "max_pooling1d_5 (MaxPooling1 (None, 125, 15)           0         \n",
      "_________________________________________________________________\n",
      "flatten_1 (Flatten)          (None, 1875)              0         \n",
      "_________________________________________________________________\n",
      "dense_1 (Dense)              (None, 50)                93800     \n",
      "_________________________________________________________________\n",
      "dense_2 (Dense)              (None, 20)                1020      \n",
      "_________________________________________________________________\n",
      "dense_3 (Dense)              (None, 3)                 63        \n",
      "=================================================================\n",
      "Total params: 96,190\n",
      "Trainable params: 96,190\n",
      "Non-trainable params: 0\n",
      "_________________________________________________________________\n"
     ]
    }
   ],
   "source": [
    "model = Sequential()\n",
    "model.add(Conv1D(filters=4, kernel_size=6, input_shape=x_train.shape[1:3],\n",
    "                activation='relu'))\n",
    "model.add(MaxPooling1D(2))\n",
    "\n",
    "model.add(Conv1D(filters=4, kernel_size=5, activation='linear'))\n",
    "model.add(LeakyReLU(alpha=.001))\n",
    "model.add(MaxPooling1D(2))\n",
    "\n",
    "model.add(Conv1D(filters=10, kernel_size=4, activation='linear'))\n",
    "model.add(LeakyReLU(alpha=.001))\n",
    "model.add(MaxPooling1D(2))\n",
    "\n",
    "model.add(Conv1D(filters=10, kernel_size=4, activation='linear'))\n",
    "model.add(LeakyReLU(alpha=.001))\n",
    "model.add(MaxPooling1D(2))\n",
    "\n",
    "model.add(Conv1D(filters=15, kernel_size=4, activation='linear'))\n",
    "model.add(LeakyReLU(alpha=.001))\n",
    "model.add(MaxPooling1D(2))\n",
    "\n",
    "model.add(Flatten())\n",
    "model.add(Dense(50, activation='relu'))\n",
    "model.add(Dense(20, activation='relu'))\n",
    "\n",
    "model.add(Dense(3, activation='softmax'))\n",
    "\n",
    "model.compile(loss='categorical_crossentropy', optimizer=Adam(lr=0.0001),\n",
    "            metrics=['accuracy'])\n",
    "model.summary()"
   ]
  },
  {
   "cell_type": "code",
   "execution_count": 15,
   "metadata": {},
   "outputs": [
    {
     "name": "stdout",
     "output_type": "stream",
     "text": [
      "Train on 225 samples, validate on 75 samples\n",
      "Epoch 1/150\n",
      "225/225 [==============================] - 2s - loss: 2.0990 - acc: 0.3511 - val_loss: 1.4139 - val_acc: 0.4133\n",
      "Epoch 2/150\n",
      "225/225 [==============================] - 0s - loss: 1.3210 - acc: 0.4844 - val_loss: 1.2065 - val_acc: 0.4267\n",
      "Epoch 3/150\n",
      "225/225 [==============================] - 0s - loss: 0.9763 - acc: 0.5556 - val_loss: 1.4802 - val_acc: 0.4667\n",
      "Epoch 4/150\n",
      "225/225 [==============================] - 0s - loss: 0.7845 - acc: 0.6489 - val_loss: 1.0803 - val_acc: 0.5200\n",
      "Epoch 5/150\n",
      "225/225 [==============================] - 0s - loss: 0.6740 - acc: 0.7067 - val_loss: 1.0473 - val_acc: 0.6267\n",
      "Epoch 6/150\n",
      "225/225 [==============================] - 0s - loss: 0.7643 - acc: 0.6844 - val_loss: 1.5015 - val_acc: 0.4000\n",
      "Epoch 7/150\n",
      "225/225 [==============================] - 0s - loss: 0.6613 - acc: 0.7511 - val_loss: 0.7977 - val_acc: 0.6400\n",
      "Epoch 8/150\n",
      "225/225 [==============================] - 0s - loss: 0.4741 - acc: 0.8178 - val_loss: 0.7099 - val_acc: 0.6533\n",
      "Epoch 9/150\n",
      "225/225 [==============================] - 0s - loss: 0.2980 - acc: 0.9200 - val_loss: 0.7287 - val_acc: 0.7200\n",
      "Epoch 10/150\n",
      "225/225 [==============================] - 0s - loss: 0.2561 - acc: 0.9378 - val_loss: 0.9285 - val_acc: 0.7333\n",
      "Epoch 11/150\n",
      "225/225 [==============================] - 0s - loss: 0.2950 - acc: 0.9156 - val_loss: 0.7537 - val_acc: 0.6933\n",
      "Epoch 12/150\n",
      "225/225 [==============================] - 0s - loss: 0.2184 - acc: 0.9467 - val_loss: 0.7418 - val_acc: 0.7600\n",
      "Epoch 13/150\n",
      "225/225 [==============================] - 0s - loss: 0.1508 - acc: 0.9867 - val_loss: 0.7582 - val_acc: 0.8000\n",
      "Epoch 14/150\n",
      "225/225 [==============================] - 0s - loss: 0.1409 - acc: 0.9867 - val_loss: 0.7414 - val_acc: 0.7333\n",
      "Epoch 15/150\n",
      "225/225 [==============================] - 0s - loss: 0.1482 - acc: 0.9733 - val_loss: 0.6157 - val_acc: 0.8000\n",
      "Epoch 16/150\n",
      "225/225 [==============================] - 0s - loss: 0.1155 - acc: 0.9911 - val_loss: 0.6764 - val_acc: 0.8000\n",
      "Epoch 17/150\n",
      "225/225 [==============================] - 0s - loss: 0.0786 - acc: 0.9956 - val_loss: 0.8594 - val_acc: 0.8133\n",
      "Epoch 18/150\n",
      "225/225 [==============================] - 0s - loss: 0.0657 - acc: 1.0000 - val_loss: 1.0021 - val_acc: 0.8133\n",
      "Epoch 19/150\n",
      "225/225 [==============================] - 0s - loss: 0.0563 - acc: 0.9956 - val_loss: 1.1573 - val_acc: 0.8000\n",
      "Epoch 20/150\n",
      "225/225 [==============================] - 0s - loss: 0.0618 - acc: 0.9956 - val_loss: 1.1893 - val_acc: 0.7867\n",
      "Epoch 21/150\n",
      "225/225 [==============================] - 0s - loss: 0.0863 - acc: 0.9778 - val_loss: 1.2230 - val_acc: 0.6000\n",
      "Epoch 22/150\n",
      "225/225 [==============================] - 0s - loss: 0.2490 - acc: 0.8978 - val_loss: 0.8630 - val_acc: 0.7733\n",
      "Epoch 23/150\n",
      "225/225 [==============================] - 0s - loss: 0.1659 - acc: 0.9600 - val_loss: 0.8973 - val_acc: 0.8133\n",
      "Epoch 24/150\n",
      "225/225 [==============================] - 0s - loss: 0.0509 - acc: 0.9956 - val_loss: 0.7508 - val_acc: 0.8133\n",
      "Epoch 25/150\n",
      "225/225 [==============================] - 0s - loss: 0.0357 - acc: 1.0000 - val_loss: 1.0250 - val_acc: 0.8400\n",
      "Epoch 26/150\n",
      "225/225 [==============================] - 0s - loss: 0.0271 - acc: 1.0000 - val_loss: 1.1572 - val_acc: 0.8267\n",
      "Epoch 27/150\n",
      "225/225 [==============================] - 0s - loss: 0.0221 - acc: 1.0000 - val_loss: 0.9774 - val_acc: 0.8267\n",
      "Epoch 28/150\n",
      "225/225 [==============================] - 0s - loss: 0.0187 - acc: 1.0000 - val_loss: 0.9281 - val_acc: 0.8133\n",
      "Epoch 29/150\n",
      "225/225 [==============================] - 0s - loss: 0.0169 - acc: 1.0000 - val_loss: 1.0112 - val_acc: 0.8267\n",
      "Epoch 30/150\n",
      "225/225 [==============================] - 0s - loss: 0.0142 - acc: 1.0000 - val_loss: 1.3775 - val_acc: 0.8400\n",
      "Epoch 31/150\n",
      "225/225 [==============================] - 0s - loss: 0.0143 - acc: 1.0000 - val_loss: 1.1154 - val_acc: 0.8133\n",
      "Epoch 32/150\n",
      "225/225 [==============================] - 0s - loss: 0.0115 - acc: 1.0000 - val_loss: 1.2476 - val_acc: 0.8267\n",
      "Epoch 33/150\n",
      "225/225 [==============================] - 0s - loss: 0.0103 - acc: 1.0000 - val_loss: 1.1887 - val_acc: 0.8267\n",
      "Epoch 34/150\n",
      "225/225 [==============================] - 0s - loss: 0.0097 - acc: 1.0000 - val_loss: 1.3696 - val_acc: 0.8400\n",
      "Epoch 35/150\n",
      "225/225 [==============================] - 0s - loss: 0.0083 - acc: 1.0000 - val_loss: 1.2882 - val_acc: 0.8400\n",
      "Epoch 36/150\n",
      "225/225 [==============================] - 0s - loss: 0.0079 - acc: 1.0000 - val_loss: 1.4414 - val_acc: 0.8400\n",
      "Epoch 37/150\n",
      "225/225 [==============================] - 0s - loss: 0.0070 - acc: 1.0000 - val_loss: 1.3875 - val_acc: 0.8533\n",
      "Epoch 38/150\n",
      "225/225 [==============================] - 0s - loss: 0.0066 - acc: 1.0000 - val_loss: 1.4144 - val_acc: 0.8400\n",
      "Epoch 39/150\n",
      "225/225 [==============================] - 0s - loss: 0.0060 - acc: 1.0000 - val_loss: 1.4111 - val_acc: 0.8400\n",
      "Epoch 40/150\n",
      "225/225 [==============================] - 0s - loss: 0.0054 - acc: 1.0000 - val_loss: 1.3851 - val_acc: 0.8400\n",
      "Epoch 41/150\n",
      "225/225 [==============================] - 0s - loss: 0.0052 - acc: 1.0000 - val_loss: 1.4036 - val_acc: 0.8400\n",
      "Epoch 42/150\n",
      "225/225 [==============================] - 0s - loss: 0.0047 - acc: 1.0000 - val_loss: 1.4714 - val_acc: 0.8533\n",
      "Epoch 43/150\n",
      "225/225 [==============================] - 0s - loss: 0.0043 - acc: 1.0000 - val_loss: 1.5556 - val_acc: 0.8400\n",
      "Epoch 44/150\n",
      "225/225 [==============================] - 0s - loss: 0.0041 - acc: 1.0000 - val_loss: 1.5119 - val_acc: 0.8533\n",
      "Epoch 45/150\n",
      "225/225 [==============================] - 0s - loss: 0.0039 - acc: 1.0000 - val_loss: 1.4587 - val_acc: 0.8533\n",
      "Epoch 46/150\n",
      "225/225 [==============================] - 0s - loss: 0.0035 - acc: 1.0000 - val_loss: 1.5828 - val_acc: 0.8400\n",
      "Epoch 47/150\n",
      "225/225 [==============================] - 0s - loss: 0.0033 - acc: 1.0000 - val_loss: 1.5611 - val_acc: 0.8533\n",
      "Epoch 48/150\n",
      "225/225 [==============================] - 0s - loss: 0.0030 - acc: 1.0000 - val_loss: 1.5268 - val_acc: 0.8533\n",
      "Epoch 49/150\n",
      "225/225 [==============================] - 0s - loss: 0.0028 - acc: 1.0000 - val_loss: 1.5873 - val_acc: 0.8400\n",
      "Epoch 50/150\n",
      "225/225 [==============================] - 0s - loss: 0.0027 - acc: 1.0000 - val_loss: 1.5536 - val_acc: 0.8400\n",
      "Epoch 51/150\n",
      "225/225 [==============================] - 0s - loss: 0.0026 - acc: 1.0000 - val_loss: 1.4668 - val_acc: 0.8533\n",
      "Epoch 52/150\n",
      "225/225 [==============================] - 0s - loss: 0.0023 - acc: 1.0000 - val_loss: 1.5542 - val_acc: 0.8533\n",
      "Epoch 53/150\n",
      "225/225 [==============================] - 0s - loss: 0.0021 - acc: 1.0000 - val_loss: 1.5946 - val_acc: 0.8400\n",
      "Epoch 54/150\n",
      "225/225 [==============================] - 0s - loss: 0.0021 - acc: 1.0000 - val_loss: 1.5131 - val_acc: 0.8533\n",
      "Epoch 55/150\n",
      "225/225 [==============================] - 0s - loss: 0.0019 - acc: 1.0000 - val_loss: 1.5988 - val_acc: 0.8400\n",
      "Epoch 56/150\n",
      "225/225 [==============================] - 0s - loss: 0.0018 - acc: 1.0000 - val_loss: 1.5976 - val_acc: 0.8400\n",
      "Epoch 57/150\n",
      "225/225 [==============================] - 0s - loss: 0.0017 - acc: 1.0000 - val_loss: 1.6045 - val_acc: 0.8400\n",
      "Epoch 58/150\n",
      "225/225 [==============================] - 0s - loss: 0.0016 - acc: 1.0000 - val_loss: 1.5879 - val_acc: 0.8533\n",
      "Epoch 59/150\n",
      "225/225 [==============================] - 0s - loss: 0.0015 - acc: 1.0000 - val_loss: 1.5256 - val_acc: 0.8533\n",
      "Epoch 60/150\n",
      "225/225 [==============================] - 0s - loss: 0.0014 - acc: 1.0000 - val_loss: 1.6195 - val_acc: 0.8533\n",
      "Epoch 61/150\n",
      "225/225 [==============================] - 0s - loss: 0.0013 - acc: 1.0000 - val_loss: 1.6036 - val_acc: 0.8533\n",
      "Epoch 62/150\n",
      "225/225 [==============================] - 0s - loss: 0.0013 - acc: 1.0000 - val_loss: 1.6021 - val_acc: 0.8533\n",
      "Epoch 63/150\n",
      "225/225 [==============================] - 0s - loss: 0.0012 - acc: 1.0000 - val_loss: 1.6384 - val_acc: 0.8400\n",
      "Epoch 64/150\n",
      "225/225 [==============================] - 0s - loss: 0.0011 - acc: 1.0000 - val_loss: 1.6462 - val_acc: 0.8400\n",
      "Epoch 65/150\n",
      "225/225 [==============================] - 0s - loss: 0.0011 - acc: 1.0000 - val_loss: 1.6305 - val_acc: 0.8400\n",
      "Epoch 66/150\n"
     ]
    },
    {
     "name": "stdout",
     "output_type": "stream",
     "text": [
      "225/225 [==============================] - 0s - loss: 0.0010 - acc: 1.0000 - val_loss: 1.6416 - val_acc: 0.8400\n",
      "Epoch 67/150\n",
      "225/225 [==============================] - 0s - loss: 9.4958e-04 - acc: 1.0000 - val_loss: 1.5659 - val_acc: 0.8533\n",
      "Epoch 68/150\n",
      "225/225 [==============================] - 0s - loss: 9.0715e-04 - acc: 1.0000 - val_loss: 1.6514 - val_acc: 0.8400\n",
      "Epoch 69/150\n",
      "225/225 [==============================] - 0s - loss: 8.4217e-04 - acc: 1.0000 - val_loss: 1.6392 - val_acc: 0.8533\n",
      "Epoch 70/150\n",
      "225/225 [==============================] - 0s - loss: 8.0114e-04 - acc: 1.0000 - val_loss: 1.6566 - val_acc: 0.8400\n",
      "Epoch 71/150\n",
      "225/225 [==============================] - 0s - loss: 7.5534e-04 - acc: 1.0000 - val_loss: 1.6418 - val_acc: 0.8400\n",
      "Epoch 72/150\n",
      "225/225 [==============================] - 0s - loss: 7.1807e-04 - acc: 1.0000 - val_loss: 1.6586 - val_acc: 0.8400\n",
      "Epoch 73/150\n",
      "225/225 [==============================] - 0s - loss: 6.8466e-04 - acc: 1.0000 - val_loss: 1.6377 - val_acc: 0.8533\n",
      "Epoch 74/150\n",
      "225/225 [==============================] - 0s - loss: 6.6135e-04 - acc: 1.0000 - val_loss: 1.6545 - val_acc: 0.8400\n",
      "Epoch 75/150\n",
      "225/225 [==============================] - 0s - loss: 6.1081e-04 - acc: 1.0000 - val_loss: 1.6818 - val_acc: 0.8400\n",
      "Epoch 76/150\n",
      "225/225 [==============================] - 0s - loss: 5.7849e-04 - acc: 1.0000 - val_loss: 1.6800 - val_acc: 0.8400\n",
      "Epoch 77/150\n",
      "225/225 [==============================] - 0s - loss: 5.4698e-04 - acc: 1.0000 - val_loss: 1.6837 - val_acc: 0.8400\n",
      "Epoch 78/150\n",
      "225/225 [==============================] - 0s - loss: 5.1822e-04 - acc: 1.0000 - val_loss: 1.6570 - val_acc: 0.8400\n",
      "Epoch 79/150\n",
      "225/225 [==============================] - 0s - loss: 4.9028e-04 - acc: 1.0000 - val_loss: 1.6783 - val_acc: 0.8400\n",
      "Epoch 80/150\n",
      "225/225 [==============================] - 0s - loss: 4.6949e-04 - acc: 1.0000 - val_loss: 1.7004 - val_acc: 0.8533\n",
      "Epoch 81/150\n",
      "225/225 [==============================] - 0s - loss: 4.4979e-04 - acc: 1.0000 - val_loss: 1.7182 - val_acc: 0.8533\n",
      "Epoch 82/150\n",
      "225/225 [==============================] - 0s - loss: 4.2829e-04 - acc: 1.0000 - val_loss: 1.6898 - val_acc: 0.8533\n",
      "Epoch 83/150\n",
      "225/225 [==============================] - 0s - loss: 4.0169e-04 - acc: 1.0000 - val_loss: 1.6821 - val_acc: 0.8400\n",
      "Epoch 84/150\n",
      "225/225 [==============================] - 0s - loss: 3.8361e-04 - acc: 1.0000 - val_loss: 1.6951 - val_acc: 0.8533\n",
      "Epoch 85/150\n",
      "225/225 [==============================] - 0s - loss: 3.7380e-04 - acc: 1.0000 - val_loss: 1.6816 - val_acc: 0.8400\n",
      "Epoch 86/150\n",
      "225/225 [==============================] - 0s - loss: 3.4968e-04 - acc: 1.0000 - val_loss: 1.6949 - val_acc: 0.8533\n",
      "Epoch 87/150\n",
      "225/225 [==============================] - 0s - loss: 3.1868e-04 - acc: 1.0000 - val_loss: 1.7207 - val_acc: 0.8533\n",
      "Epoch 88/150\n",
      "225/225 [==============================] - 0s - loss: 3.0834e-04 - acc: 1.0000 - val_loss: 1.7029 - val_acc: 0.8533\n",
      "Epoch 89/150\n",
      "225/225 [==============================] - 0s - loss: 2.9015e-04 - acc: 1.0000 - val_loss: 1.7146 - val_acc: 0.8533\n",
      "Epoch 90/150\n",
      "225/225 [==============================] - 0s - loss: 2.8239e-04 - acc: 1.0000 - val_loss: 1.6502 - val_acc: 0.8533\n",
      "Epoch 91/150\n",
      "225/225 [==============================] - 0s - loss: 2.6460e-04 - acc: 1.0000 - val_loss: 1.7065 - val_acc: 0.8533\n",
      "Epoch 92/150\n",
      "225/225 [==============================] - 0s - loss: 2.5246e-04 - acc: 1.0000 - val_loss: 1.6926 - val_acc: 0.8533\n",
      "Epoch 93/150\n",
      "225/225 [==============================] - 0s - loss: 2.4251e-04 - acc: 1.0000 - val_loss: 1.6817 - val_acc: 0.8533\n",
      "Epoch 94/150\n",
      "225/225 [==============================] - 0s - loss: 2.2473e-04 - acc: 1.0000 - val_loss: 1.7145 - val_acc: 0.8533cc: \n",
      "Epoch 95/150\n",
      "225/225 [==============================] - 0s - loss: 2.1600e-04 - acc: 1.0000 - val_loss: 1.7417 - val_acc: 0.8533\n",
      "Epoch 96/150\n",
      "225/225 [==============================] - 0s - loss: 2.0676e-04 - acc: 1.0000 - val_loss: 1.6908 - val_acc: 0.8533\n",
      "Epoch 97/150\n",
      "225/225 [==============================] - 0s - loss: 1.9455e-04 - acc: 1.0000 - val_loss: 1.7359 - val_acc: 0.8533\n",
      "Epoch 98/150\n",
      "225/225 [==============================] - 0s - loss: 1.8436e-04 - acc: 1.0000 - val_loss: 1.7141 - val_acc: 0.8533\n",
      "Epoch 99/150\n",
      "225/225 [==============================] - 0s - loss: 1.7526e-04 - acc: 1.0000 - val_loss: 1.7246 - val_acc: 0.8533\n",
      "Epoch 100/150\n",
      "225/225 [==============================] - 0s - loss: 1.6783e-04 - acc: 1.0000 - val_loss: 1.7279 - val_acc: 0.8533\n",
      "Epoch 101/150\n",
      "225/225 [==============================] - 0s - loss: 1.6057e-04 - acc: 1.0000 - val_loss: 1.7522 - val_acc: 0.8533\n",
      "Epoch 102/150\n",
      "225/225 [==============================] - 0s - loss: 1.5172e-04 - acc: 1.0000 - val_loss: 1.7273 - val_acc: 0.8533\n",
      "Epoch 103/150\n",
      "225/225 [==============================] - 0s - loss: 1.4616e-04 - acc: 1.0000 - val_loss: 1.7422 - val_acc: 0.8533\n",
      "Epoch 104/150\n",
      "225/225 [==============================] - 0s - loss: 1.3887e-04 - acc: 1.0000 - val_loss: 1.7517 - val_acc: 0.8533\n",
      "Epoch 105/150\n",
      "225/225 [==============================] - ETA: 0s - loss: 1.3427e-04 - acc: 1.000 - 0s - loss: 1.3271e-04 - acc: 1.0000 - val_loss: 1.7260 - val_acc: 0.8533\n",
      "Epoch 106/150\n",
      "225/225 [==============================] - 0s - loss: 1.2666e-04 - acc: 1.0000 - val_loss: 1.7434 - val_acc: 0.8533\n",
      "Epoch 107/150\n",
      "225/225 [==============================] - 0s - loss: 1.2112e-04 - acc: 1.0000 - val_loss: 1.7386 - val_acc: 0.8533\n",
      "Epoch 108/150\n",
      "225/225 [==============================] - 0s - loss: 1.1461e-04 - acc: 1.0000 - val_loss: 1.7363 - val_acc: 0.8533\n",
      "Epoch 109/150\n",
      "225/225 [==============================] - 0s - loss: 1.0881e-04 - acc: 1.0000 - val_loss: 1.7460 - val_acc: 0.8533\n",
      "Epoch 110/150\n",
      "225/225 [==============================] - 0s - loss: 1.0513e-04 - acc: 1.0000 - val_loss: 1.7605 - val_acc: 0.8533\n",
      "Epoch 111/150\n",
      "225/225 [==============================] - 0s - loss: 1.0002e-04 - acc: 1.0000 - val_loss: 1.7435 - val_acc: 0.8533\n",
      "Epoch 112/150\n",
      "225/225 [==============================] - 0s - loss: 9.4920e-05 - acc: 1.0000 - val_loss: 1.7336 - val_acc: 0.8533\n",
      "Epoch 113/150\n",
      "225/225 [==============================] - 0s - loss: 9.0862e-05 - acc: 1.0000 - val_loss: 1.7487 - val_acc: 0.8533\n",
      "Epoch 114/150\n",
      "225/225 [==============================] - 0s - loss: 8.5691e-05 - acc: 1.0000 - val_loss: 1.7633 - val_acc: 0.8533\n",
      "Epoch 115/150\n",
      "225/225 [==============================] - 0s - loss: 8.2364e-05 - acc: 1.0000 - val_loss: 1.7390 - val_acc: 0.8533\n",
      "Epoch 116/150\n",
      "225/225 [==============================] - 0s - loss: 7.8863e-05 - acc: 1.0000 - val_loss: 1.7548 - val_acc: 0.8533\n",
      "Epoch 117/150\n",
      "225/225 [==============================] - 0s - loss: 7.5569e-05 - acc: 1.0000 - val_loss: 1.7579 - val_acc: 0.8533\n",
      "Epoch 118/150\n",
      "225/225 [==============================] - 0s - loss: 7.2828e-05 - acc: 1.0000 - val_loss: 1.7555 - val_acc: 0.8667\n",
      "Epoch 119/150\n",
      "225/225 [==============================] - 0s - loss: 6.8476e-05 - acc: 1.0000 - val_loss: 1.7732 - val_acc: 0.8667\n",
      "Epoch 120/150\n",
      "225/225 [==============================] - 0s - loss: 6.5675e-05 - acc: 1.0000 - val_loss: 1.7618 - val_acc: 0.8667\n",
      "Epoch 121/150\n",
      "225/225 [==============================] - 0s - loss: 6.2805e-05 - acc: 1.0000 - val_loss: 1.7606 - val_acc: 0.8667\n",
      "Epoch 122/150\n",
      "225/225 [==============================] - 0s - loss: 6.0177e-05 - acc: 1.0000 - val_loss: 1.7788 - val_acc: 0.8667\n",
      "Epoch 123/150\n",
      "225/225 [==============================] - 0s - loss: 5.6851e-05 - acc: 1.0000 - val_loss: 1.7706 - val_acc: 0.8667\n",
      "Epoch 124/150\n",
      "225/225 [==============================] - 0s - loss: 5.4854e-05 - acc: 1.0000 - val_loss: 1.7828 - val_acc: 0.8533\n",
      "Epoch 125/150\n",
      "225/225 [==============================] - 0s - loss: 5.3391e-05 - acc: 1.0000 - val_loss: 1.7623 - val_acc: 0.8533\n",
      "Epoch 126/150\n",
      "225/225 [==============================] - 0s - loss: 4.9949e-05 - acc: 1.0000 - val_loss: 1.7775 - val_acc: 0.8667\n",
      "Epoch 127/150\n",
      "225/225 [==============================] - 0s - loss: 4.7759e-05 - acc: 1.0000 - val_loss: 1.7760 - val_acc: 0.8667\n",
      "Epoch 128/150\n",
      "225/225 [==============================] - 0s - loss: 4.5208e-05 - acc: 1.0000 - val_loss: 1.7861 - val_acc: 0.8667\n",
      "Epoch 129/150\n"
     ]
    },
    {
     "name": "stdout",
     "output_type": "stream",
     "text": [
      "225/225 [==============================] - 0s - loss: 4.3490e-05 - acc: 1.0000 - val_loss: 1.7979 - val_acc: 0.8667\n",
      "Epoch 130/150\n",
      "225/225 [==============================] - 0s - loss: 4.1603e-05 - acc: 1.0000 - val_loss: 1.8104 - val_acc: 0.8667cc: \n",
      "Epoch 131/150\n",
      "225/225 [==============================] - 0s - loss: 3.9629e-05 - acc: 1.0000 - val_loss: 1.8044 - val_acc: 0.8667\n",
      "Epoch 132/150\n",
      "225/225 [==============================] - 0s - loss: 3.7929e-05 - acc: 1.0000 - val_loss: 1.7810 - val_acc: 0.8667\n",
      "Epoch 133/150\n",
      "225/225 [==============================] - 0s - loss: 3.6409e-05 - acc: 1.0000 - val_loss: 1.7941 - val_acc: 0.8667\n",
      "Epoch 134/150\n",
      "225/225 [==============================] - 0s - loss: 3.5262e-05 - acc: 1.0000 - val_loss: 1.8001 - val_acc: 0.8667\n",
      "Epoch 135/150\n",
      "225/225 [==============================] - 0s - loss: 3.3163e-05 - acc: 1.0000 - val_loss: 1.8289 - val_acc: 0.8667\n",
      "Epoch 136/150\n",
      "225/225 [==============================] - 0s - loss: 3.2056e-05 - acc: 1.0000 - val_loss: 1.8498 - val_acc: 0.8667\n",
      "Epoch 137/150\n",
      "225/225 [==============================] - 0s - loss: 3.2333e-05 - acc: 1.0000 - val_loss: 1.7858 - val_acc: 0.8667\n",
      "Epoch 138/150\n",
      "225/225 [==============================] - 0s - loss: 2.9005e-05 - acc: 1.0000 - val_loss: 1.8020 - val_acc: 0.8667\n",
      "Epoch 139/150\n",
      "225/225 [==============================] - ETA: 0s - loss: 2.7922e-05 - acc: 1.000 - 0s - loss: 2.8029e-05 - acc: 1.0000 - val_loss: 1.8214 - val_acc: 0.8667\n",
      "Epoch 140/150\n",
      "225/225 [==============================] - 0s - loss: 2.7504e-05 - acc: 1.0000 - val_loss: 1.7517 - val_acc: 0.8667\n",
      "Epoch 141/150\n",
      "225/225 [==============================] - 0s - loss: 2.5329e-05 - acc: 1.0000 - val_loss: 1.8291 - val_acc: 0.8667\n",
      "Epoch 142/150\n",
      "225/225 [==============================] - 0s - loss: 2.4266e-05 - acc: 1.0000 - val_loss: 1.8348 - val_acc: 0.8667\n",
      "Epoch 143/150\n",
      "225/225 [==============================] - 0s - loss: 2.3228e-05 - acc: 1.0000 - val_loss: 1.8502 - val_acc: 0.8667\n",
      "Epoch 144/150\n",
      "225/225 [==============================] - 0s - loss: 2.2380e-05 - acc: 1.0000 - val_loss: 1.8475 - val_acc: 0.8667\n",
      "Epoch 145/150\n",
      "225/225 [==============================] - 0s - loss: 2.1208e-05 - acc: 1.0000 - val_loss: 1.8470 - val_acc: 0.8667\n",
      "Epoch 146/150\n",
      "225/225 [==============================] - 0s - loss: 2.0424e-05 - acc: 1.0000 - val_loss: 1.8511 - val_acc: 0.8667\n",
      "Epoch 147/150\n",
      "225/225 [==============================] - 0s - loss: 1.9837e-05 - acc: 1.0000 - val_loss: 1.8521 - val_acc: 0.8667\n",
      "Epoch 148/150\n",
      "225/225 [==============================] - 0s - loss: 1.8514e-05 - acc: 1.0000 - val_loss: 1.8552 - val_acc: 0.8667\n",
      "Epoch 149/150\n",
      "225/225 [==============================] - 0s - loss: 1.7925e-05 - acc: 1.0000 - val_loss: 1.8248 - val_acc: 0.8667\n",
      "Epoch 150/150\n",
      "225/225 [==============================] - 0s - loss: 1.7421e-05 - acc: 1.0000 - val_loss: 1.8527 - val_acc: 0.8667\n"
     ]
    }
   ],
   "source": [
    "history = model.fit(x_train,y_train, batch_size=3, epochs=150,validation_data=(x_val,y_val) )"
   ]
  },
  {
   "cell_type": "code",
   "execution_count": 16,
   "metadata": {},
   "outputs": [
    {
     "data": {
      "image/png": "[encoded data removed]",
      "text/plain": [
       "<matplotlib.figure.Figure at 0x7f2330d692e8>"
      ]
     },
     "metadata": {},
     "output_type": "display_data"
    },
    {
     "data": {
      "image/png": "[encoded data removed]",
      "text/plain": [
       "<matplotlib.figure.Figure at 0x7f22d0191198>"
      ]
     },
     "metadata": {},
     "output_type": "display_data"
    }
   ],
   "source": [
    "import matplotlib.pyplot as plt\n",
    "%matplotlib inline\n",
    "\n",
    "acc = history.history['acc']\n",
    "val_acc = history.history['val_acc']\n",
    "loss = history.history['loss']\n",
    "val_loss = history.history['val_loss']\n",
    "\n",
    "epochs = range(1, len(acc) + 1)\n",
    "\n",
    "plt.plot(epochs, acc, 'bo', label='Training acc')\n",
    "plt.plot(epochs, val_acc, 'b', label='Validation acc')\n",
    "plt.title('Training and Validation accuracy')\n",
    "plt.legend()\n",
    "\n",
    "plt.figure()\n",
    "\n",
    "plt.plot(epochs, loss, 'bo', label='Training loss')\n",
    "plt.plot(epochs, val_loss, 'b', label='Validation loss')\n",
    "plt.title('Training and Validation loss')\n",
    "plt.legend()\n",
    "plt.show()"
   ]
  },
  {
   "cell_type": "code",
   "execution_count": null,
   "metadata": {
    "collapsed": true
   },
   "outputs": [],
   "source": []
  },
  {
   "cell_type": "code",
   "execution_count": null,
   "metadata": {
    "collapsed": true
   },
   "outputs": [],
   "source": []
  },
  {
   "cell_type": "code",
   "execution_count": null,
   "metadata": {
    "collapsed": true
   },
   "outputs": [],
   "source": []
  },
  {
   "cell_type": "code",
   "execution_count": null,
   "metadata": {
    "collapsed": true
   },
   "outputs": [],
   "source": []
  },
  {
   "cell_type": "code",
   "execution_count": null,
   "metadata": {
    "collapsed": true
   },
   "outputs": [],
   "source": []
  }
 ],
 "metadata": {
  "kernelspec": {
   "display_name": "Python 3",
   "language": "python",
   "name": "python3"
  },
  "language_info": {
   "codemirror_mode": {
    "name": "ipython",
    "version": 3
   },
   "file_extension": ".py",
   "mimetype": "text/x-python",
   "name": "python",
   "nbconvert_exporter": "python",
   "pygments_lexer": "ipython3",
   "version": "3.6.1"
  }
 },
 "nbformat": 4,
 "nbformat_minor": 2
}
