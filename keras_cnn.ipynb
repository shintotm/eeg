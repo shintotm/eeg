{
 "cells": [
  {
   "cell_type": "markdown",
   "metadata": {},
   "source": [
    "Keras implementaion of 'Deep convolutional neural network for the automated detection and diagnosis of seizure using EEG signals', U. Rajendra Acharya, Shu Lih Oh, Yuki Hagiwara, Jen Hong Tan, Hojjat Adeli.  https://www.ncbi.nlm.nih.gov/pubmed/28974302"
   ]
  },
  {
   "cell_type": "code",
   "execution_count": 1,
   "metadata": {
    "collapsed": true
   },
   "outputs": [],
   "source": [
    "import glob\n",
    "import numpy as np"
   ]
  },
  {
   "cell_type": "code",
   "execution_count": 2,
   "metadata": {
    "collapsed": true
   },
   "outputs": [],
   "source": [
    "file_sets = ['O', 'N', 'S'] # O-> Set B (Normal ), N-> Set C (Pre-ictal) S-> Set E (Seizure)\n",
    "label_sets = [1, 2, 3] # 1->Normal, 2->Preictal,  3-> Seizure"
   ]
  },
  {
   "cell_type": "code",
   "execution_count": 3,
   "metadata": {
    "collapsed": true
   },
   "outputs": [],
   "source": [
    "# data is in folders 'input/O, input/S' etc.\n",
    "data=[]\n",
    "labels = []\n",
    "for file_set, label in zip(file_sets, label_sets):\n",
    "\n",
    "    for file in glob.glob('input/'+ file_set +'/*.*'):\n",
    "        with open(file) as f:\n",
    "            int_list = [int(x) for x in f]\n",
    "            data.append(int_list)\n",
    "            labels.append(label)"
   ]
  },
  {
   "cell_type": "code",
   "execution_count": 4,
   "metadata": {},
   "outputs": [
    {
     "data": {
      "text/plain": [
       "(300, 4097)"
      ]
     },
     "execution_count": 4,
     "metadata": {},
     "output_type": "execute_result"
    }
   ],
   "source": [
    "data = np.asarray(data)\n",
    "data.shape"
   ]
  },
  {
   "cell_type": "code",
   "execution_count": 5,
   "metadata": {
    "collapsed": true
   },
   "outputs": [],
   "source": [
    "data = data.reshape(300, 4097, 1)"
   ]
  },
  {
   "cell_type": "code",
   "execution_count": 6,
   "metadata": {},
   "outputs": [
    {
     "name": "stdout",
     "output_type": "stream",
     "text": [
      "(300,)\n"
     ]
    }
   ],
   "source": [
    "labels = np.asarray(labels)\n",
    "print(labels.shape)"
   ]
  },
  {
   "cell_type": "code",
   "execution_count": 7,
   "metadata": {
    "collapsed": true
   },
   "outputs": [],
   "source": [
    "# randomize the data\n",
    "indices = np.arange(data.shape[0])\n",
    "np.random.shuffle(indices)\n",
    "data = data[indices]\n",
    "labels = labels[indices]"
   ]
  },
  {
   "cell_type": "code",
   "execution_count": 8,
   "metadata": {
    "collapsed": true
   },
   "outputs": [],
   "source": [
    "from sklearn.model_selection import train_test_split"
   ]
  },
  {
   "cell_type": "code",
   "execution_count": 9,
   "metadata": {
    "collapsed": true
   },
   "outputs": [],
   "source": [
    "x_train, x_val, y_train, y_val = train_test_split(data, labels, \n",
    "                                                stratify = labels, random_state = 123)"
   ]
  },
  {
   "cell_type": "code",
   "execution_count": 10,
   "metadata": {},
   "outputs": [
    {
     "name": "stdout",
     "output_type": "stream",
     "text": [
      "x_train shape: (225, 4097, 1)\n",
      "x_val shape: (75, 4097, 1)\n"
     ]
    }
   ],
   "source": [
    "print('x_train shape:', x_train.shape)\n",
    "print('x_val shape:', x_val.shape)"
   ]
  },
  {
   "cell_type": "code",
   "execution_count": 11,
   "metadata": {
    "collapsed": true
   },
   "outputs": [],
   "source": [
    "def one_hot(labels, n_class = 3):\n",
    "\t\"\"\" One-hot encoding \"\"\"\n",
    "\texpansion = np.eye(n_class)\n",
    "\ty = expansion[:, labels-1].T\n",
    "\tassert y.shape[1] == n_class, \"Wrong number of labels!\"\n",
    "\n",
    "\treturn y"
   ]
  },
  {
   "cell_type": "code",
   "execution_count": 12,
   "metadata": {
    "collapsed": true
   },
   "outputs": [],
   "source": [
    "y_train = one_hot(y_train)\n",
    "y_val = one_hot(y_val)"
   ]
  },
  {
   "cell_type": "code",
   "execution_count": 13,
   "metadata": {},
   "outputs": [
    {
     "name": "stderr",
     "output_type": "stream",
     "text": [
      "Using TensorFlow backend.\n"
     ]
    }
   ],
   "source": [
    "from keras.layers.convolutional import Conv1D, MaxPooling1D\n",
    "from keras.models import Sequential\n",
    "from keras.layers import Dense, Flatten\n",
    "from keras.optimizers import Adam\n",
    "from keras.layers.advanced_activations import LeakyReLU"
   ]
  },
  {
   "cell_type": "code",
   "execution_count": 14,
   "metadata": {},
   "outputs": [
    {
     "name": "stdout",
     "output_type": "stream",
     "text": [
      "_________________________________________________________________\n",
      "Layer (type)                 Output Shape              Param #   \n",
      "=================================================================\n",
      "conv1d_1 (Conv1D)            (None, 4092, 4)           28        \n",
      "_________________________________________________________________\n",
      "max_pooling1d_1 (MaxPooling1 (None, 2046, 4)           0         \n",
      "_________________________________________________________________\n",
      "conv1d_2 (Conv1D)            (None, 2042, 4)           84        \n",
      "_________________________________________________________________\n",
      "leaky_re_lu_1 (LeakyReLU)    (None, 2042, 4)           0         \n",
      "_________________________________________________________________\n",
      "max_pooling1d_2 (MaxPooling1 (None, 1021, 4)           0         \n",
      "_________________________________________________________________\n",
      "conv1d_3 (Conv1D)            (None, 1018, 10)          170       \n",
      "_________________________________________________________________\n",
      "leaky_re_lu_2 (LeakyReLU)    (None, 1018, 10)          0         \n",
      "_________________________________________________________________\n",
      "max_pooling1d_3 (MaxPooling1 (None, 509, 10)           0         \n",
      "_________________________________________________________________\n",
      "conv1d_4 (Conv1D)            (None, 506, 10)           410       \n",
      "_________________________________________________________________\n",
      "leaky_re_lu_3 (LeakyReLU)    (None, 506, 10)           0         \n",
      "_________________________________________________________________\n",
      "max_pooling1d_4 (MaxPooling1 (None, 253, 10)           0         \n",
      "_________________________________________________________________\n",
      "conv1d_5 (Conv1D)            (None, 250, 15)           615       \n",
      "_________________________________________________________________\n",
      "leaky_re_lu_4 (LeakyReLU)    (None, 250, 15)           0         \n",
      "_________________________________________________________________\n",
      "max_pooling1d_5 (MaxPooling1 (None, 125, 15)           0         \n",
      "_________________________________________________________________\n",
      "flatten_1 (Flatten)          (None, 1875)              0         \n",
      "_________________________________________________________________\n",
      "dense_1 (Dense)              (None, 50)                93800     \n",
      "_________________________________________________________________\n",
      "dense_2 (Dense)              (None, 20)                1020      \n",
      "_________________________________________________________________\n",
      "dense_3 (Dense)              (None, 3)                 63        \n",
      "=================================================================\n",
      "Total params: 96,190\n",
      "Trainable params: 96,190\n",
      "Non-trainable params: 0\n",
      "_________________________________________________________________\n"
     ]
    }
   ],
   "source": [
    "model = Sequential()\n",
    "model.add(Conv1D(filters=4, kernel_size=6, input_shape=x_train.shape[1:3],\n",
    "                activation='relu'))\n",
    "model.add(MaxPooling1D(2))\n",
    "\n",
    "model.add(Conv1D(filters=4, kernel_size=5, activation='linear'))\n",
    "model.add(LeakyReLU(alpha=.001))\n",
    "model.add(MaxPooling1D(2))\n",
    "\n",
    "model.add(Conv1D(filters=10, kernel_size=4, activation='linear'))\n",
    "model.add(LeakyReLU(alpha=.001))\n",
    "model.add(MaxPooling1D(2))\n",
    "\n",
    "model.add(Conv1D(filters=10, kernel_size=4, activation='linear'))\n",
    "model.add(LeakyReLU(alpha=.001))\n",
    "model.add(MaxPooling1D(2))\n",
    "\n",
    "model.add(Conv1D(filters=15, kernel_size=4, activation='linear'))\n",
    "model.add(LeakyReLU(alpha=.001))\n",
    "model.add(MaxPooling1D(2))\n",
    "\n",
    "model.add(Flatten())\n",
    "model.add(Dense(50, activation='relu'))\n",
    "model.add(Dense(20, activation='relu'))\n",
    "\n",
    "model.add(Dense(3, activation='softmax'))\n",
    "\n",
    "model.compile(loss='categorical_crossentropy', optimizer=Adam(lr=0.0001),\n",
    "            metrics=['accuracy'])\n",
    "model.summary()"
   ]
  },
  {
   "cell_type": "code",
   "execution_count": 15,
   "metadata": {},
   "outputs": [
    {
     "name": "stdout",
     "output_type": "stream",
     "text": [
      "Train on 225 samples, validate on 75 samples\n",
      "Epoch 1/150\n",
      "225/225 [==============================] - 1s - loss: 3.9691 - acc: 0.3556 - val_loss: 1.6146 - val_acc: 0.3867\n",
      "Epoch 2/150\n",
      "225/225 [==============================] - 0s - loss: 1.6290 - acc: 0.4089 - val_loss: 1.8792 - val_acc: 0.3333\n",
      "Epoch 3/150\n",
      "225/225 [==============================] - 0s - loss: 1.2413 - acc: 0.4978 - val_loss: 1.1198 - val_acc: 0.4400\n",
      "Epoch 4/150\n",
      "225/225 [==============================] - 0s - loss: 0.7209 - acc: 0.6489 - val_loss: 0.8552 - val_acc: 0.6133\n",
      "Epoch 5/150\n",
      "225/225 [==============================] - 0s - loss: 0.6376 - acc: 0.6933 - val_loss: 0.8837 - val_acc: 0.6533\n",
      "Epoch 6/150\n",
      "225/225 [==============================] - 0s - loss: 0.4715 - acc: 0.8000 - val_loss: 0.8866 - val_acc: 0.6400\n",
      "Epoch 7/150\n",
      "225/225 [==============================] - 0s - loss: 0.4115 - acc: 0.8622 - val_loss: 1.0019 - val_acc: 0.6933\n",
      "Epoch 8/150\n",
      "225/225 [==============================] - 0s - loss: 0.3374 - acc: 0.9022 - val_loss: 0.8666 - val_acc: 0.6533\n",
      "Epoch 9/150\n",
      "225/225 [==============================] - 0s - loss: 0.3043 - acc: 0.8933 - val_loss: 1.0836 - val_acc: 0.7200\n",
      "Epoch 10/150\n",
      "225/225 [==============================] - 0s - loss: 0.2698 - acc: 0.9289 - val_loss: 0.8174 - val_acc: 0.7067\n",
      "Epoch 11/150\n",
      "225/225 [==============================] - 0s - loss: 0.2204 - acc: 0.9556 - val_loss: 1.2831 - val_acc: 0.7467\n",
      "Epoch 12/150\n",
      "225/225 [==============================] - 0s - loss: 0.1717 - acc: 0.9778 - val_loss: 1.3400 - val_acc: 0.7333\n",
      "Epoch 13/150\n",
      "225/225 [==============================] - 0s - loss: 0.1385 - acc: 0.9867 - val_loss: 1.0633 - val_acc: 0.7733\n",
      "Epoch 14/150\n",
      "225/225 [==============================] - 0s - loss: 0.1701 - acc: 0.9689 - val_loss: 0.8070 - val_acc: 0.6667\n",
      "Epoch 15/150\n",
      "225/225 [==============================] - 0s - loss: 0.4043 - acc: 0.8089 - val_loss: 1.3824 - val_acc: 0.6800\n",
      "Epoch 16/150\n",
      "225/225 [==============================] - 0s - loss: 0.2813 - acc: 0.8800 - val_loss: 1.4385 - val_acc: 0.7867\n",
      "Epoch 17/150\n",
      "225/225 [==============================] - 0s - loss: 0.1089 - acc: 0.9689 - val_loss: 0.5383 - val_acc: 0.8267\n",
      "Epoch 18/150\n",
      "225/225 [==============================] - 0s - loss: 0.1145 - acc: 0.9600 - val_loss: 1.2070 - val_acc: 0.8133\n",
      "Epoch 19/150\n",
      "225/225 [==============================] - 0s - loss: 0.1053 - acc: 0.9778 - val_loss: 0.7120 - val_acc: 0.8400\n",
      "Epoch 20/150\n",
      "225/225 [==============================] - 0s - loss: 0.0806 - acc: 0.9867 - val_loss: 0.4841 - val_acc: 0.8000\n",
      "Epoch 21/150\n",
      "225/225 [==============================] - 0s - loss: 0.0581 - acc: 0.9911 - val_loss: 1.0590 - val_acc: 0.8267\n",
      "Epoch 22/150\n",
      "225/225 [==============================] - 0s - loss: 0.0338 - acc: 1.0000 - val_loss: 1.1309 - val_acc: 0.8267\n",
      "Epoch 23/150\n",
      "225/225 [==============================] - 0s - loss: 0.0257 - acc: 1.0000 - val_loss: 1.2035 - val_acc: 0.8267\n",
      "Epoch 24/150\n",
      "225/225 [==============================] - 0s - loss: 0.0200 - acc: 1.0000 - val_loss: 1.3218 - val_acc: 0.8267\n",
      "Epoch 25/150\n",
      "225/225 [==============================] - 0s - loss: 0.0164 - acc: 1.0000 - val_loss: 1.3907 - val_acc: 0.8267\n",
      "Epoch 26/150\n",
      "225/225 [==============================] - 0s - loss: 0.0138 - acc: 1.0000 - val_loss: 1.3484 - val_acc: 0.8267\n",
      "Epoch 27/150\n",
      "225/225 [==============================] - 0s - loss: 0.0119 - acc: 1.0000 - val_loss: 1.3459 - val_acc: 0.8267\n",
      "Epoch 28/150\n",
      "225/225 [==============================] - 0s - loss: 0.0104 - acc: 1.0000 - val_loss: 1.3992 - val_acc: 0.8133\n",
      "Epoch 29/150\n",
      "225/225 [==============================] - 0s - loss: 0.0091 - acc: 1.0000 - val_loss: 1.4481 - val_acc: 0.8267\n",
      "Epoch 30/150\n",
      "225/225 [==============================] - 0s - loss: 0.0081 - acc: 1.0000 - val_loss: 1.4956 - val_acc: 0.8000\n",
      "Epoch 31/150\n",
      "225/225 [==============================] - 0s - loss: 0.0073 - acc: 1.0000 - val_loss: 1.5026 - val_acc: 0.8133\n",
      "Epoch 32/150\n",
      "225/225 [==============================] - 0s - loss: 0.0065 - acc: 1.0000 - val_loss: 1.4902 - val_acc: 0.8267\n",
      "Epoch 33/150\n",
      "225/225 [==============================] - 0s - loss: 0.0060 - acc: 1.0000 - val_loss: 1.4395 - val_acc: 0.8400\n",
      "Epoch 34/150\n",
      "225/225 [==============================] - 0s - loss: 0.0053 - acc: 1.0000 - val_loss: 1.5434 - val_acc: 0.8267\n",
      "Epoch 35/150\n",
      "225/225 [==============================] - 0s - loss: 0.0048 - acc: 1.0000 - val_loss: 1.5680 - val_acc: 0.8133\n",
      "Epoch 36/150\n",
      "225/225 [==============================] - 0s - loss: 0.0044 - acc: 1.0000 - val_loss: 1.6077 - val_acc: 0.8133\n",
      "Epoch 37/150\n",
      "225/225 [==============================] - 0s - loss: 0.0039 - acc: 1.0000 - val_loss: 1.5698 - val_acc: 0.8267\n",
      "Epoch 38/150\n",
      "225/225 [==============================] - 0s - loss: 0.0036 - acc: 1.0000 - val_loss: 1.6105 - val_acc: 0.8133\n",
      "Epoch 39/150\n",
      "225/225 [==============================] - 0s - loss: 0.0033 - acc: 1.0000 - val_loss: 1.6175 - val_acc: 0.8000\n",
      "Epoch 40/150\n",
      "225/225 [==============================] - 0s - loss: 0.0030 - acc: 1.0000 - val_loss: 1.6665 - val_acc: 0.8133\n",
      "Epoch 41/150\n",
      "225/225 [==============================] - 0s - loss: 0.0027 - acc: 1.0000 - val_loss: 1.6414 - val_acc: 0.8133\n",
      "Epoch 42/150\n",
      "225/225 [==============================] - 0s - loss: 0.0025 - acc: 1.0000 - val_loss: 1.7144 - val_acc: 0.8000\n",
      "Epoch 43/150\n",
      "225/225 [==============================] - 0s - loss: 0.0023 - acc: 1.0000 - val_loss: 1.6842 - val_acc: 0.8000\n",
      "Epoch 44/150\n",
      "225/225 [==============================] - 0s - loss: 0.0021 - acc: 1.0000 - val_loss: 1.6947 - val_acc: 0.8000\n",
      "Epoch 45/150\n",
      "225/225 [==============================] - 0s - loss: 0.0020 - acc: 1.0000 - val_loss: 1.7244 - val_acc: 0.8000\n",
      "Epoch 46/150\n",
      "225/225 [==============================] - 0s - loss: 0.0018 - acc: 1.0000 - val_loss: 1.7546 - val_acc: 0.8000\n",
      "Epoch 47/150\n",
      "225/225 [==============================] - 0s - loss: 0.0017 - acc: 1.0000 - val_loss: 1.7301 - val_acc: 0.8000\n",
      "Epoch 48/150\n",
      "225/225 [==============================] - 0s - loss: 0.0016 - acc: 1.0000 - val_loss: 1.7507 - val_acc: 0.7867\n",
      "Epoch 49/150\n",
      "225/225 [==============================] - 0s - loss: 0.0015 - acc: 1.0000 - val_loss: 1.7717 - val_acc: 0.8000\n",
      "Epoch 50/150\n",
      "225/225 [==============================] - 0s - loss: 0.0014 - acc: 1.0000 - val_loss: 1.7830 - val_acc: 0.8000\n",
      "Epoch 51/150\n",
      "225/225 [==============================] - 0s - loss: 0.0013 - acc: 1.0000 - val_loss: 1.7878 - val_acc: 0.8000\n",
      "Epoch 52/150\n",
      "225/225 [==============================] - 0s - loss: 0.0012 - acc: 1.0000 - val_loss: 1.7835 - val_acc: 0.8000\n",
      "Epoch 53/150\n",
      "225/225 [==============================] - 0s - loss: 0.0011 - acc: 1.0000 - val_loss: 1.8098 - val_acc: 0.8000\n",
      "Epoch 54/150\n",
      "225/225 [==============================] - 0s - loss: 0.0013 - acc: 1.0000 - val_loss: 1.6346 - val_acc: 0.8400\n",
      "Epoch 55/150\n",
      "225/225 [==============================] - 0s - loss: 0.0010 - acc: 1.0000 - val_loss: 1.7536 - val_acc: 0.8133\n",
      "Epoch 56/150\n",
      "225/225 [==============================] - 0s - loss: 9.4331e-04 - acc: 1.0000 - val_loss: 1.7939 - val_acc: 0.8000\n",
      "Epoch 57/150\n",
      "225/225 [==============================] - 0s - loss: 8.7686e-04 - acc: 1.0000 - val_loss: 1.8259 - val_acc: 0.8000\n",
      "Epoch 58/150\n",
      "225/225 [==============================] - 0s - loss: 8.1348e-04 - acc: 1.0000 - val_loss: 1.8455 - val_acc: 0.8000\n",
      "Epoch 59/150\n",
      "225/225 [==============================] - 0s - loss: 7.6930e-04 - acc: 1.0000 - val_loss: 1.8577 - val_acc: 0.8000\n",
      "Epoch 60/150\n",
      "225/225 [==============================] - 0s - loss: 7.1609e-04 - acc: 1.0000 - val_loss: 1.8334 - val_acc: 0.8000\n",
      "Epoch 61/150\n",
      "225/225 [==============================] - 0s - loss: 6.8107e-04 - acc: 1.0000 - val_loss: 1.8357 - val_acc: 0.8000\n",
      "Epoch 62/150\n",
      "225/225 [==============================] - 0s - loss: 6.3769e-04 - acc: 1.0000 - val_loss: 1.8588 - val_acc: 0.8000\n",
      "Epoch 63/150\n",
      "225/225 [==============================] - 0s - loss: 6.0129e-04 - acc: 1.0000 - val_loss: 1.8719 - val_acc: 0.8000\n",
      "Epoch 64/150\n",
      "225/225 [==============================] - 0s - loss: 5.6720e-04 - acc: 1.0000 - val_loss: 1.8869 - val_acc: 0.8000\n",
      "Epoch 65/150\n"
     ]
    },
    {
     "name": "stdout",
     "output_type": "stream",
     "text": [
      "225/225 [==============================] - 0s - loss: 5.3655e-04 - acc: 1.0000 - val_loss: 1.8762 - val_acc: 0.8000\n",
      "Epoch 66/150\n",
      "225/225 [==============================] - 0s - loss: 5.0710e-04 - acc: 1.0000 - val_loss: 1.8890 - val_acc: 0.8000\n",
      "Epoch 67/150\n",
      "225/225 [==============================] - 0s - loss: 4.7721e-04 - acc: 1.0000 - val_loss: 1.8633 - val_acc: 0.8000\n",
      "Epoch 68/150\n",
      "225/225 [==============================] - 0s - loss: 4.5057e-04 - acc: 1.0000 - val_loss: 1.8729 - val_acc: 0.8000cc: \n",
      "Epoch 69/150\n",
      "225/225 [==============================] - 0s - loss: 4.2502e-04 - acc: 1.0000 - val_loss: 1.8746 - val_acc: 0.8000\n",
      "Epoch 70/150\n",
      "225/225 [==============================] - 0s - loss: 4.0214e-04 - acc: 1.0000 - val_loss: 1.8796 - val_acc: 0.8000\n",
      "Epoch 71/150\n",
      "225/225 [==============================] - 0s - loss: 3.7995e-04 - acc: 1.0000 - val_loss: 1.8811 - val_acc: 0.8000\n",
      "Epoch 72/150\n",
      "225/225 [==============================] - 0s - loss: 3.5946e-04 - acc: 1.0000 - val_loss: 1.8944 - val_acc: 0.8000\n",
      "Epoch 73/150\n",
      "225/225 [==============================] - 0s - loss: 3.4129e-04 - acc: 1.0000 - val_loss: 1.8820 - val_acc: 0.8000\n",
      "Epoch 74/150\n",
      "225/225 [==============================] - 0s - loss: 3.2222e-04 - acc: 1.0000 - val_loss: 1.8798 - val_acc: 0.8000\n",
      "Epoch 75/150\n",
      "225/225 [==============================] - 0s - loss: 3.0590e-04 - acc: 1.0000 - val_loss: 1.8781 - val_acc: 0.8000\n",
      "Epoch 76/150\n",
      "225/225 [==============================] - 0s - loss: 2.9004e-04 - acc: 1.0000 - val_loss: 1.8911 - val_acc: 0.8000\n",
      "Epoch 77/150\n",
      "225/225 [==============================] - 0s - loss: 2.7682e-04 - acc: 1.0000 - val_loss: 1.9074 - val_acc: 0.8000\n",
      "Epoch 78/150\n",
      "225/225 [==============================] - 0s - loss: 2.6132e-04 - acc: 1.0000 - val_loss: 1.8917 - val_acc: 0.8000\n",
      "Epoch 79/150\n",
      "225/225 [==============================] - 0s - loss: 2.4684e-04 - acc: 1.0000 - val_loss: 1.8913 - val_acc: 0.8133\n",
      "Epoch 80/150\n",
      "225/225 [==============================] - 0s - loss: 2.3407e-04 - acc: 1.0000 - val_loss: 1.8740 - val_acc: 0.8133\n",
      "Epoch 81/150\n",
      "225/225 [==============================] - 0s - loss: 2.2423e-04 - acc: 1.0000 - val_loss: 1.8759 - val_acc: 0.8133\n",
      "Epoch 82/150\n",
      "225/225 [==============================] - 0s - loss: 2.1125e-04 - acc: 1.0000 - val_loss: 1.8807 - val_acc: 0.8133\n",
      "Epoch 83/150\n",
      "225/225 [==============================] - 0s - loss: 2.0122e-04 - acc: 1.0000 - val_loss: 1.8667 - val_acc: 0.8133\n",
      "Epoch 84/150\n",
      "225/225 [==============================] - 0s - loss: 1.9076e-04 - acc: 1.0000 - val_loss: 1.8938 - val_acc: 0.8133\n",
      "Epoch 85/150\n",
      "225/225 [==============================] - 0s - loss: 1.8140e-04 - acc: 1.0000 - val_loss: 1.8684 - val_acc: 0.8133\n",
      "Epoch 86/150\n",
      "225/225 [==============================] - 0s - loss: 1.7161e-04 - acc: 1.0000 - val_loss: 1.8952 - val_acc: 0.8133\n",
      "Epoch 87/150\n",
      "225/225 [==============================] - 0s - loss: 1.6280e-04 - acc: 1.0000 - val_loss: 1.8925 - val_acc: 0.8133\n",
      "Epoch 88/150\n",
      "225/225 [==============================] - 0s - loss: 1.5524e-04 - acc: 1.0000 - val_loss: 1.8943 - val_acc: 0.8133\n",
      "Epoch 89/150\n",
      "225/225 [==============================] - 0s - loss: 1.4766e-04 - acc: 1.0000 - val_loss: 1.8738 - val_acc: 0.8133\n",
      "Epoch 90/150\n",
      "225/225 [==============================] - 0s - loss: 1.4068e-04 - acc: 1.0000 - val_loss: 1.8852 - val_acc: 0.8133\n",
      "Epoch 91/150\n",
      "225/225 [==============================] - 0s - loss: 1.3335e-04 - acc: 1.0000 - val_loss: 1.8868 - val_acc: 0.8133\n",
      "Epoch 92/150\n",
      "225/225 [==============================] - 0s - loss: 1.2701e-04 - acc: 1.0000 - val_loss: 1.8865 - val_acc: 0.8133\n",
      "Epoch 93/150\n",
      "225/225 [==============================] - 0s - loss: 1.2046e-04 - acc: 1.0000 - val_loss: 1.9006 - val_acc: 0.8133\n",
      "Epoch 94/150\n",
      "225/225 [==============================] - 0s - loss: 1.1451e-04 - acc: 1.0000 - val_loss: 1.8785 - val_acc: 0.8133\n",
      "Epoch 95/150\n",
      "225/225 [==============================] - 0s - loss: 1.0960e-04 - acc: 1.0000 - val_loss: 1.8952 - val_acc: 0.8133\n",
      "Epoch 96/150\n",
      "225/225 [==============================] - 0s - loss: 1.0422e-04 - acc: 1.0000 - val_loss: 1.8777 - val_acc: 0.8133\n",
      "Epoch 97/150\n",
      "225/225 [==============================] - 0s - loss: 9.8646e-05 - acc: 1.0000 - val_loss: 1.8732 - val_acc: 0.8133\n",
      "Epoch 98/150\n",
      "225/225 [==============================] - 0s - loss: 9.3781e-05 - acc: 1.0000 - val_loss: 1.8892 - val_acc: 0.8133\n",
      "Epoch 99/150\n",
      "225/225 [==============================] - 0s - loss: 8.9764e-05 - acc: 1.0000 - val_loss: 1.8963 - val_acc: 0.8133\n",
      "Epoch 100/150\n",
      "225/225 [==============================] - 0s - loss: 8.4801e-05 - acc: 1.0000 - val_loss: 1.8705 - val_acc: 0.8133\n",
      "Epoch 101/150\n",
      "225/225 [==============================] - 0s - loss: 8.0991e-05 - acc: 1.0000 - val_loss: 1.8815 - val_acc: 0.8133\n",
      "Epoch 102/150\n",
      "225/225 [==============================] - 0s - loss: 7.7182e-05 - acc: 1.0000 - val_loss: 1.8848 - val_acc: 0.8133\n",
      "Epoch 103/150\n",
      "225/225 [==============================] - 0s - loss: 7.3686e-05 - acc: 1.0000 - val_loss: 1.8742 - val_acc: 0.8133\n",
      "Epoch 104/150\n",
      "225/225 [==============================] - 0s - loss: 6.9975e-05 - acc: 1.0000 - val_loss: 1.8706 - val_acc: 0.8133\n",
      "Epoch 105/150\n",
      "225/225 [==============================] - 0s - loss: 6.6577e-05 - acc: 1.0000 - val_loss: 1.8806 - val_acc: 0.8133\n",
      "Epoch 106/150\n",
      "225/225 [==============================] - 0s - loss: 6.3764e-05 - acc: 1.0000 - val_loss: 1.8608 - val_acc: 0.8133\n",
      "Epoch 107/150\n",
      "225/225 [==============================] - 0s - loss: 6.0560e-05 - acc: 1.0000 - val_loss: 1.8813 - val_acc: 0.8133\n",
      "Epoch 108/150\n",
      "225/225 [==============================] - 0s - loss: 5.7667e-05 - acc: 1.0000 - val_loss: 1.8698 - val_acc: 0.8133\n",
      "Epoch 109/150\n",
      "225/225 [==============================] - 0s - loss: 5.4921e-05 - acc: 1.0000 - val_loss: 1.8776 - val_acc: 0.8133\n",
      "Epoch 110/150\n",
      "225/225 [==============================] - 0s - loss: 5.2376e-05 - acc: 1.0000 - val_loss: 1.8851 - val_acc: 0.8267\n",
      "Epoch 111/150\n",
      "225/225 [==============================] - 0s - loss: 4.9994e-05 - acc: 1.0000 - val_loss: 1.8741 - val_acc: 0.8133\n",
      "Epoch 112/150\n",
      "225/225 [==============================] - 0s - loss: 4.7736e-05 - acc: 1.0000 - val_loss: 1.8861 - val_acc: 0.8267\n",
      "Epoch 113/150\n",
      "225/225 [==============================] - 0s - loss: 4.5328e-05 - acc: 1.0000 - val_loss: 1.8820 - val_acc: 0.8267\n",
      "Epoch 114/150\n",
      "225/225 [==============================] - 0s - loss: 4.3346e-05 - acc: 1.0000 - val_loss: 1.8574 - val_acc: 0.8133\n",
      "Epoch 115/150\n",
      "225/225 [==============================] - 0s - loss: 4.1424e-05 - acc: 1.0000 - val_loss: 1.8855 - val_acc: 0.8267\n",
      "Epoch 116/150\n",
      "225/225 [==============================] - 0s - loss: 3.9542e-05 - acc: 1.0000 - val_loss: 1.8692 - val_acc: 0.8267\n",
      "Epoch 117/150\n",
      "225/225 [==============================] - 0s - loss: 3.7483e-05 - acc: 1.0000 - val_loss: 1.8794 - val_acc: 0.8267\n",
      "Epoch 118/150\n",
      "225/225 [==============================] - 0s - loss: 3.6005e-05 - acc: 1.0000 - val_loss: 1.8662 - val_acc: 0.8133\n",
      "Epoch 119/150\n",
      "225/225 [==============================] - 0s - loss: 3.4411e-05 - acc: 1.0000 - val_loss: 1.8695 - val_acc: 0.8267\n",
      "Epoch 120/150\n",
      "225/225 [==============================] - 0s - loss: 3.2737e-05 - acc: 1.0000 - val_loss: 1.8829 - val_acc: 0.8267\n",
      "Epoch 121/150\n",
      "225/225 [==============================] - 0s - loss: 3.1157e-05 - acc: 1.0000 - val_loss: 1.8884 - val_acc: 0.8267\n",
      "Epoch 122/150\n",
      "225/225 [==============================] - 0s - loss: 2.9730e-05 - acc: 1.0000 - val_loss: 1.9014 - val_acc: 0.8267\n",
      "Epoch 123/150\n",
      "225/225 [==============================] - 0s - loss: 2.8409e-05 - acc: 1.0000 - val_loss: 1.8818 - val_acc: 0.8267\n",
      "Epoch 124/150\n",
      "225/225 [==============================] - 0s - loss: 2.7084e-05 - acc: 1.0000 - val_loss: 1.8816 - val_acc: 0.8267cc: \n",
      "Epoch 125/150\n",
      "225/225 [==============================] - 0s - loss: 2.5888e-05 - acc: 1.0000 - val_loss: 1.8935 - val_acc: 0.8267\n",
      "Epoch 126/150\n",
      "225/225 [==============================] - 0s - loss: 2.4735e-05 - acc: 1.0000 - val_loss: 1.8711 - val_acc: 0.8267\n",
      "Epoch 127/150\n",
      "225/225 [==============================] - 0s - loss: 2.3616e-05 - acc: 1.0000 - val_loss: 1.8805 - val_acc: 0.8267\n",
      "Epoch 128/150\n"
     ]
    },
    {
     "name": "stdout",
     "output_type": "stream",
     "text": [
      "225/225 [==============================] - 0s - loss: 2.2477e-05 - acc: 1.0000 - val_loss: 1.8884 - val_acc: 0.8267\n",
      "Epoch 129/150\n",
      "225/225 [==============================] - 0s - loss: 2.1483e-05 - acc: 1.0000 - val_loss: 1.8963 - val_acc: 0.8267\n",
      "Epoch 130/150\n",
      "225/225 [==============================] - 0s - loss: 2.0596e-05 - acc: 1.0000 - val_loss: 1.8818 - val_acc: 0.8267\n",
      "Epoch 131/150\n",
      "225/225 [==============================] - 0s - loss: 1.9647e-05 - acc: 1.0000 - val_loss: 1.8849 - val_acc: 0.8267\n",
      "Epoch 132/150\n",
      "225/225 [==============================] - 0s - loss: 1.8677e-05 - acc: 1.0000 - val_loss: 1.8716 - val_acc: 0.8267\n",
      "Epoch 133/150\n",
      "225/225 [==============================] - 0s - loss: 1.7858e-05 - acc: 1.0000 - val_loss: 1.8717 - val_acc: 0.8267\n",
      "Epoch 134/150\n",
      "225/225 [==============================] - 0s - loss: 1.7101e-05 - acc: 1.0000 - val_loss: 1.8946 - val_acc: 0.8267\n",
      "Epoch 135/150\n",
      "225/225 [==============================] - 0s - loss: 1.6329e-05 - acc: 1.0000 - val_loss: 1.8902 - val_acc: 0.8267\n",
      "Epoch 136/150\n",
      "225/225 [==============================] - 0s - loss: 1.5513e-05 - acc: 1.0000 - val_loss: 1.8863 - val_acc: 0.8267\n",
      "Epoch 137/150\n",
      "225/225 [==============================] - 0s - loss: 1.4810e-05 - acc: 1.0000 - val_loss: 1.8858 - val_acc: 0.8267\n",
      "Epoch 138/150\n",
      "225/225 [==============================] - 0s - loss: 1.4214e-05 - acc: 1.0000 - val_loss: 1.8947 - val_acc: 0.8267\n",
      "Epoch 139/150\n",
      "225/225 [==============================] - 0s - loss: 1.3467e-05 - acc: 1.0000 - val_loss: 1.8817 - val_acc: 0.8267\n",
      "Epoch 140/150\n",
      "225/225 [==============================] - 0s - loss: 1.2866e-05 - acc: 1.0000 - val_loss: 1.8863 - val_acc: 0.8267\n",
      "Epoch 141/150\n",
      "225/225 [==============================] - 0s - loss: 1.2260e-05 - acc: 1.0000 - val_loss: 1.8841 - val_acc: 0.8267\n",
      "Epoch 142/150\n",
      "225/225 [==============================] - 0s - loss: 1.1742e-05 - acc: 1.0000 - val_loss: 1.8988 - val_acc: 0.8267\n",
      "Epoch 143/150\n",
      "225/225 [==============================] - 0s - loss: 1.1205e-05 - acc: 1.0000 - val_loss: 1.8919 - val_acc: 0.8267\n",
      "Epoch 144/150\n",
      "225/225 [==============================] - 0s - loss: 1.0750e-05 - acc: 1.0000 - val_loss: 1.8574 - val_acc: 0.8400\n",
      "Epoch 145/150\n",
      "225/225 [==============================] - 0s - loss: 1.0243e-05 - acc: 1.0000 - val_loss: 1.8871 - val_acc: 0.8267\n",
      "Epoch 146/150\n",
      "225/225 [==============================] - 0s - loss: 9.7458e-06 - acc: 1.0000 - val_loss: 1.8858 - val_acc: 0.8267\n",
      "Epoch 147/150\n",
      "225/225 [==============================] - 0s - loss: 9.3028e-06 - acc: 1.0000 - val_loss: 1.8824 - val_acc: 0.8400\n",
      "Epoch 148/150\n",
      "225/225 [==============================] - 0s - loss: 8.8771e-06 - acc: 1.0000 - val_loss: 1.8891 - val_acc: 0.8267\n",
      "Epoch 149/150\n",
      "225/225 [==============================] - 0s - loss: 8.4749e-06 - acc: 1.0000 - val_loss: 1.8846 - val_acc: 0.8400\n",
      "Epoch 150/150\n",
      "225/225 [==============================] - 0s - loss: 8.0884e-06 - acc: 1.0000 - val_loss: 1.8882 - val_acc: 0.8400\n"
     ]
    }
   ],
   "source": [
    "history = model.fit(x_train,y_train, batch_size=3, epochs=150,validation_data=(x_val,y_val) )"
   ]
  },
  {
   "cell_type": "code",
   "execution_count": 16,
   "metadata": {},
   "outputs": [
    {
     "data": {
      "image/png": "[encoded data removed]",
      "text/plain": [
       "<matplotlib.figure.Figure at 0x7f8f46ce32e8>"
      ]
     },
     "metadata": {},
     "output_type": "display_data"
    },
    {
     "data": {
      "image/png": "[encoded data removed]",
      "text/plain": [
       "<matplotlib.figure.Figure at 0x7f8ee1ebb3c8>"
      ]
     },
     "metadata": {},
     "output_type": "display_data"
    }
   ],
   "source": [
    "import matplotlib.pyplot as plt\n",
    "%matplotlib inline\n",
    "\n",
    "acc = history.history['acc']\n",
    "val_acc = history.history['val_acc']\n",
    "loss = history.history['loss']\n",
    "val_loss = history.history['val_loss']\n",
    "\n",
    "epochs = range(1, len(acc) + 1)\n",
    "\n",
    "plt.plot(epochs, acc, 'bo', label='Training acc')\n",
    "plt.plot(epochs, val_acc, 'b', label='Validation acc')\n",
    "plt.title('Training and Validation accuracy')\n",
    "plt.legend()\n",
    "\n",
    "plt.figure()\n",
    "\n",
    "plt.plot(epochs, loss, 'bo', label='Training loss')\n",
    "plt.plot(epochs, val_loss, 'b', label='Validation loss')\n",
    "plt.title('Training and Validation loss')\n",
    "plt.legend()\n",
    "plt.show()"
   ]
  },
  {
   "cell_type": "code",
   "execution_count": 17,
   "metadata": {
    "collapsed": true
   },
   "outputs": [],
   "source": [
    "#http://scikit-learn.org/stable/auto_examples/model_selection/plot_roc.html\n",
    "\n",
    "from sklearn.metrics import roc_curve, auc\n",
    "from itertools import cycle\n",
    "from scipy import interp\n",
    "\n",
    "n_classes = y_val.shape[1]\n",
    "y_score = model.predict(x_val)\n",
    "\n",
    "# Compute ROC curve and ROC area for each class\n",
    "fpr = dict()\n",
    "tpr = dict()\n",
    "roc_auc = dict()\n",
    "for i in range(n_classes):\n",
    "    fpr[i], tpr[i], _ = roc_curve(y_val[:, i], y_score[:, i])\n",
    "    roc_auc[i] = auc(fpr[i], tpr[i])\n",
    "\n",
    "# Compute micro-average ROC curve and ROC area\n",
    "fpr[\"micro\"], tpr[\"micro\"], _ = roc_curve(y_val.ravel(), y_score.ravel())\n",
    "roc_auc[\"micro\"] = auc(fpr[\"micro\"], tpr[\"micro\"])"
   ]
  },
  {
   "cell_type": "code",
   "execution_count": 18,
   "metadata": {},
   "outputs": [
    {
     "data": {
      "image/png": "[encoded data removed]",
      "text/plain": [
       "<matplotlib.figure.Figure at 0x7f8ee1d0f9e8>"
      ]
     },
     "metadata": {},
     "output_type": "display_data"
    }
   ],
   "source": [
    "\n",
    "lw = 2\n",
    "# Compute macro-average ROC curve and ROC area\n",
    "\n",
    "# First aggregate all false positive rates\n",
    "all_fpr = np.unique(np.concatenate([fpr[i] for i in range(n_classes)]))\n",
    "\n",
    "# Then interpolate all ROC curves at this points\n",
    "mean_tpr = np.zeros_like(all_fpr)\n",
    "for i in range(n_classes):\n",
    "    mean_tpr += interp(all_fpr, fpr[i], tpr[i])\n",
    "\n",
    "# Finally average it and compute AUC\n",
    "mean_tpr /= n_classes\n",
    "\n",
    "fpr[\"macro\"] = all_fpr\n",
    "tpr[\"macro\"] = mean_tpr\n",
    "roc_auc[\"macro\"] = auc(fpr[\"macro\"], tpr[\"macro\"])\n",
    "\n",
    "# Plot all ROC curves\n",
    "plt.figure()\n",
    "plt.plot(fpr[\"micro\"], tpr[\"micro\"],\n",
    "         label='micro-average ROC curve (area = {0:0.2f})'\n",
    "               ''.format(roc_auc[\"micro\"]),\n",
    "         color='deeppink', linestyle=':', linewidth=4)\n",
    "\n",
    "plt.plot(fpr[\"macro\"], tpr[\"macro\"],\n",
    "         label='macro-average ROC curve (area = {0:0.2f})'\n",
    "               ''.format(roc_auc[\"macro\"]),\n",
    "         color='navy', linestyle=':', linewidth=4)\n",
    "\n",
    "colors = cycle(['aqua', 'darkorange', 'cornflowerblue'])\n",
    "for i, color in zip(range(n_classes), colors):\n",
    "    plt.plot(fpr[i], tpr[i], color=color, lw=lw,\n",
    "             label='ROC curve of class {0} (area = {1:0.2f})'\n",
    "             ''.format(i, roc_auc[i]))\n",
    "\n",
    "plt.plot([0, 1], [0, 1], 'k--', lw=lw)\n",
    "plt.xlim([0.0, 1.0])\n",
    "plt.ylim([0.0, 1.05])\n",
    "plt.xlabel('False Positive Rate')\n",
    "plt.ylabel('True Positive Rate')\n",
    "plt.title('Some extension of Receiver operating characteristic to multi-class')\n",
    "plt.legend(loc=\"lower right\")\n",
    "plt.show()"
   ]
  },
  {
   "cell_type": "code",
   "execution_count": null,
   "metadata": {
    "collapsed": true
   },
   "outputs": [],
   "source": []
  },
  {
   "cell_type": "code",
   "execution_count": null,
   "metadata": {
    "collapsed": true
   },
   "outputs": [],
   "source": []
  },
  {
   "cell_type": "code",
   "execution_count": null,
   "metadata": {
    "collapsed": true
   },
   "outputs": [],
   "source": []
  }
 ],
 "metadata": {
  "kernelspec": {
   "display_name": "Python 3",
   "language": "python",
   "name": "python3"
  },
  "language_info": {
   "codemirror_mode": {
    "name": "ipython",
    "version": 3
   },
   "file_extension": ".py",
   "mimetype": "text/x-python",
   "name": "python",
   "nbconvert_exporter": "python",
   "pygments_lexer": "ipython3",
   "version": "3.6.1"
  }
 },
 "nbformat": 4,
 "nbformat_minor": 2
}
