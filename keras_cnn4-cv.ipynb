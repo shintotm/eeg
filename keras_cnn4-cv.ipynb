{
 "cells": [
  {
   "cell_type": "markdown",
   "metadata": {},
   "source": [
    "Keras implementaion of 'Deep convolutional neural network for the automated detection and diagnosis of seizure using EEG signals', U. Rajendra Acharya, Shu Lih Oh, Yuki Hagiwara, Jen Hong Tan, Hojjat Adeli.  https://www.ncbi.nlm.nih.gov/pubmed/28974302"
   ]
  },
  {
   "cell_type": "code",
   "execution_count": 1,
   "metadata": {
    "collapsed": true
   },
   "outputs": [],
   "source": [
    "import glob\n",
    "import numpy as np"
   ]
  },
  {
   "cell_type": "markdown",
   "metadata": {},
   "source": [
    "input files:\n",
    "\n",
    "* 'a (1)' to 'a (200)' (Normal )\n",
    "* 'b (1)' to 'b (200)' (Pre-ictal)\n",
    "* 'c (1)' to 'c (100)' (Seizure)\n",
    "\n",
    "sample file listing:\n",
    "\n",
    "a (100).txt,  a (177).txt,  a (71).txt,   b (148).TXT,  b (42).txt,\t c (28).txt\n",
    "\n",
    "a (101).txt,  a (178).txt,  a (72).txt,   b (149).TXT,  b (43).txt,\t c (29).txt\n",
    "\n",
    "a (102).txt,  a (179).txt,  a (73).txt,  b (14).txt,   b (44).txt,\t c (2).txt"
   ]
  },
  {
   "cell_type": "code",
   "execution_count": 2,
   "metadata": {
    "collapsed": true
   },
   "outputs": [],
   "source": [
    "file_sets = ['a', 'b', 'c']\n",
    "label_sets = [1, 2, 3] # 1->Normal, 2->Preictal,  3-> Seizure"
   ]
  },
  {
   "cell_type": "code",
   "execution_count": 3,
   "metadata": {},
   "outputs": [
    {
     "name": "stdout",
     "output_type": "stream",
     "text": [
      "shape of data: (500, 4097)\n",
      "shape of labels: (500,)\n"
     ]
    }
   ],
   "source": [
    "import os\n",
    "\n",
    "data=[]\n",
    "labels = []\n",
    "for file_set, label in zip(file_sets, label_sets):\n",
    "\n",
    "    for file in glob.glob(\"input/all/\" + file_set + \"*.*\"):\n",
    "        with open(file) as f:\n",
    "            int_list = [int(x) for x in f]\n",
    "            data.append(int_list)\n",
    "            labels.append(label)\n",
    "            \n",
    "data = np.asarray(data).astype('float32')\n",
    "labels = np.asarray(labels)\n",
    "print('shape of data:', data.shape)\n",
    "print('shape of labels:', labels.shape)"
   ]
  },
  {
   "cell_type": "code",
   "execution_count": 4,
   "metadata": {},
   "outputs": [
    {
     "data": {
      "text/plain": [
       "(array([1, 2, 3]), array([200, 200, 100]))"
      ]
     },
     "execution_count": 4,
     "metadata": {},
     "output_type": "execute_result"
    }
   ],
   "source": [
    "np.unique(labels, return_counts=True)"
   ]
  },
  {
   "cell_type": "code",
   "execution_count": 5,
   "metadata": {},
   "outputs": [
    {
     "name": "stdout",
     "output_type": "stream",
     "text": [
      "(500, 4097, 1)\n"
     ]
    }
   ],
   "source": [
    "# reshape the data\n",
    "data = data[:,:,np.newaxis]\n",
    "print(data.shape)"
   ]
  },
  {
   "cell_type": "code",
   "execution_count": 6,
   "metadata": {
    "collapsed": true
   },
   "outputs": [],
   "source": [
    "# randomize the data\n",
    "indices = np.arange(data.shape[0])\n",
    "np.random.shuffle(indices)\n",
    "data = data[indices]\n",
    "labels = labels[indices]"
   ]
  },
  {
   "cell_type": "markdown",
   "metadata": {},
   "source": [
    "### Train test split"
   ]
  },
  {
   "cell_type": "code",
   "execution_count": 7,
   "metadata": {},
   "outputs": [
    {
     "name": "stdout",
     "output_type": "stream",
     "text": [
      "x_train shape: (375, 4097, 1)\n",
      "x_val shape: (125, 4097, 1)\n"
     ]
    }
   ],
   "source": [
    "from sklearn.model_selection import train_test_split\n",
    "\n",
    "x_train, x_val, y_train, y_val = train_test_split(data, labels, \n",
    "                                                stratify = labels, random_state = 123)\n",
    "\n",
    "print('x_train shape:', x_train.shape)\n",
    "print('x_val shape:', x_val.shape)"
   ]
  },
  {
   "cell_type": "markdown",
   "metadata": {},
   "source": [
    "### Normalize data"
   ]
  },
  {
   "cell_type": "code",
   "execution_count": 8,
   "metadata": {
    "collapsed": true
   },
   "outputs": [],
   "source": [
    "mean = x_train.mean()\n",
    "x_train -= mean\n",
    "std = x_train.std()\n",
    "x_train /= std\n",
    "\n",
    "x_val -= mean\n",
    "x_val /= std"
   ]
  },
  {
   "cell_type": "code",
   "execution_count": null,
   "metadata": {
    "collapsed": true
   },
   "outputs": [],
   "source": []
  },
  {
   "cell_type": "markdown",
   "metadata": {},
   "source": [
    "### one-hot encode targets"
   ]
  },
  {
   "cell_type": "code",
   "execution_count": 9,
   "metadata": {
    "collapsed": true
   },
   "outputs": [],
   "source": [
    "def one_hot(labels, n_class = 3):\n",
    "    \"\"\" One-hot encoding \"\"\"\n",
    "    expansion = np.eye(n_class)\n",
    "    y = expansion[:, labels-1].T\n",
    "    assert y.shape[1] == n_class, \"Wrong number of labels!\"\n",
    "\n",
    "    return y"
   ]
  },
  {
   "cell_type": "code",
   "execution_count": 10,
   "metadata": {
    "collapsed": true
   },
   "outputs": [],
   "source": [
    "y_train = one_hot(y_train)\n",
    "y_val = one_hot(y_val)"
   ]
  },
  {
   "cell_type": "code",
   "execution_count": 11,
   "metadata": {},
   "outputs": [
    {
     "name": "stderr",
     "output_type": "stream",
     "text": [
      "Using TensorFlow backend.\n"
     ]
    }
   ],
   "source": [
    "from keras.layers.convolutional import Conv1D, MaxPooling1D\n",
    "from keras.models import Sequential\n",
    "from keras.layers import Dense, Flatten\n",
    "from keras.optimizers import Adam\n",
    "from keras.layers.advanced_activations import LeakyReLU"
   ]
  },
  {
   "cell_type": "code",
   "execution_count": 12,
   "metadata": {},
   "outputs": [],
   "source": [
    "def build_model():\n",
    "    model = Sequential()\n",
    "    model.add(Conv1D(filters=4, kernel_size=6, input_shape=x_train.shape[1:3],\n",
    "                    activation='relu'))\n",
    "    model.add(MaxPooling1D(2))\n",
    "\n",
    "    model.add(Conv1D(filters=4, kernel_size=5, activation='linear'))\n",
    "    model.add(LeakyReLU(alpha=.001))\n",
    "    model.add(MaxPooling1D(2))\n",
    "\n",
    "    model.add(Conv1D(filters=10, kernel_size=4, activation='linear'))\n",
    "    model.add(LeakyReLU(alpha=.001))\n",
    "    model.add(MaxPooling1D(2))\n",
    "\n",
    "    model.add(Conv1D(filters=10, kernel_size=4, activation='linear'))\n",
    "    model.add(LeakyReLU(alpha=.001))\n",
    "    model.add(MaxPooling1D(2))\n",
    "\n",
    "    model.add(Conv1D(filters=15, kernel_size=4, activation='linear'))\n",
    "    model.add(LeakyReLU(alpha=.001))\n",
    "    model.add(MaxPooling1D(2))\n",
    "\n",
    "    model.add(Flatten())\n",
    "    model.add(Dense(50, activation='relu'))\n",
    "    model.add(Dense(20, activation='relu'))\n",
    "\n",
    "    model.add(Dense(3, activation='softmax'))\n",
    "\n",
    "    model.compile(loss='categorical_crossentropy', optimizer=Adam(lr=0.0001),\n",
    "                metrics=['accuracy'])\n",
    "    return model\n"
   ]
  },
  {
   "cell_type": "code",
   "execution_count": 13,
   "metadata": {},
   "outputs": [
    {
     "name": "stdout",
     "output_type": "stream",
     "text": [
      "processing fold # 0\n",
      "processing fold # 1\n",
      "processing fold # 2\n",
      "processing fold # 3\n"
     ]
    }
   ],
   "source": [
    "import numpy as np\n",
    "\n",
    "k = 4\n",
    "num_val_samples = len(x_train) // 4\n",
    "num_epochs = 20\n",
    "all_scores = []\n",
    "for i in range(k):\n",
    "    print('processing fold #', i)\n",
    "    # Prepare the validation data: data from partition # k\n",
    "    val_data = x_train[i * num_val_samples: (i+1) * num_val_samples]\n",
    "    val_targets = y_train[i * num_val_samples: (i+1) * num_val_samples]\n",
    "    \n",
    "    # Prepare the training data: data from all other partitions\n",
    "    partial_train_data = np.concatenate(\n",
    "        [x_train[:i * num_val_samples],\n",
    "         x_train[(i+1) * num_val_samples:]], axis=0)\n",
    "    partial_train_targets = np.concatenate(\n",
    "        [y_train[:i * num_val_samples],\n",
    "        y_train[(i+1) * num_val_samples:]], axis= 0)\n",
    "    # Build Keras model (already compiled)\n",
    "    model = build_model()\n",
    "    # Train the model (in silent mode, verbose=0)\n",
    "    model.fit(partial_train_data, partial_train_targets,\n",
    "                       epochs=num_epochs, batch_size=1, verbose=0)\n",
    "    # Evluate the model on the validaton data\n",
    "    val_loss, val_acc = model.evaluate(val_data, val_targets, verbose=0)\n",
    "    all_scores.append((val_loss, val_acc))"
   ]
  },
  {
   "cell_type": "markdown",
   "metadata": {},
   "source": [
    "### Train with all data"
   ]
  },
  {
   "cell_type": "code",
   "execution_count": 14,
   "metadata": {
    "scrolled": true
   },
   "outputs": [
    {
     "data": {
      "text/plain": [
       "array([ 0.14788482,  0.95430107])"
      ]
     },
     "execution_count": 14,
     "metadata": {},
     "output_type": "execute_result"
    }
   ],
   "source": [
    "np.mean(all_scores, axis=0)"
   ]
  },
  {
   "cell_type": "code",
   "execution_count": 15,
   "metadata": {},
   "outputs": [
    {
     "name": "stdout",
     "output_type": "stream",
     "text": [
      "_________________________________________________________________\n",
      "Layer (type)                 Output Shape              Param #   \n",
      "=================================================================\n",
      "conv1d_21 (Conv1D)           (None, 4092, 4)           28        \n",
      "_________________________________________________________________\n",
      "max_pooling1d_21 (MaxPooling (None, 2046, 4)           0         \n",
      "_________________________________________________________________\n",
      "conv1d_22 (Conv1D)           (None, 2042, 4)           84        \n",
      "_________________________________________________________________\n",
      "leaky_re_lu_17 (LeakyReLU)   (None, 2042, 4)           0         \n",
      "_________________________________________________________________\n",
      "max_pooling1d_22 (MaxPooling (None, 1021, 4)           0         \n",
      "_________________________________________________________________\n",
      "conv1d_23 (Conv1D)           (None, 1018, 10)          170       \n",
      "_________________________________________________________________\n",
      "leaky_re_lu_18 (LeakyReLU)   (None, 1018, 10)          0         \n",
      "_________________________________________________________________\n",
      "max_pooling1d_23 (MaxPooling (None, 509, 10)           0         \n",
      "_________________________________________________________________\n",
      "conv1d_24 (Conv1D)           (None, 506, 10)           410       \n",
      "_________________________________________________________________\n",
      "leaky_re_lu_19 (LeakyReLU)   (None, 506, 10)           0         \n",
      "_________________________________________________________________\n",
      "max_pooling1d_24 (MaxPooling (None, 253, 10)           0         \n",
      "_________________________________________________________________\n",
      "conv1d_25 (Conv1D)           (None, 250, 15)           615       \n",
      "_________________________________________________________________\n",
      "leaky_re_lu_20 (LeakyReLU)   (None, 250, 15)           0         \n",
      "_________________________________________________________________\n",
      "max_pooling1d_25 (MaxPooling (None, 125, 15)           0         \n",
      "_________________________________________________________________\n",
      "flatten_5 (Flatten)          (None, 1875)              0         \n",
      "_________________________________________________________________\n",
      "dense_13 (Dense)             (None, 50)                93800     \n",
      "_________________________________________________________________\n",
      "dense_14 (Dense)             (None, 20)                1020      \n",
      "_________________________________________________________________\n",
      "dense_15 (Dense)             (None, 3)                 63        \n",
      "=================================================================\n",
      "Total params: 96,190\n",
      "Trainable params: 96,190\n",
      "Non-trainable params: 0\n",
      "_________________________________________________________________\n"
     ]
    }
   ],
   "source": [
    "model = build_model()\n",
    "model.summary()"
   ]
  },
  {
   "cell_type": "code",
   "execution_count": 16,
   "metadata": {},
   "outputs": [
    {
     "name": "stdout",
     "output_type": "stream",
     "text": [
      "Train on 375 samples, validate on 125 samples\n",
      "Epoch 1/20\n",
      "375/375 [==============================] - 0s - loss: 1.0438 - acc: 0.2480 - val_loss: 1.0234 - val_acc: 0.4080\n",
      "Epoch 2/20\n",
      "375/375 [==============================] - 0s - loss: 0.9154 - acc: 0.6133 - val_loss: 0.8590 - val_acc: 0.6560\n",
      "Epoch 3/20\n",
      "375/375 [==============================] - 0s - loss: 0.7109 - acc: 0.7227 - val_loss: 0.6752 - val_acc: 0.7520\n",
      "Epoch 4/20\n",
      "375/375 [==============================] - 0s - loss: 0.5601 - acc: 0.7360 - val_loss: 0.5879 - val_acc: 0.7680\n",
      "Epoch 5/20\n",
      "375/375 [==============================] - 0s - loss: 0.4631 - acc: 0.8160 - val_loss: 0.4937 - val_acc: 0.8000\n",
      "Epoch 6/20\n",
      "375/375 [==============================] - 0s - loss: 0.3826 - acc: 0.8533 - val_loss: 0.4278 - val_acc: 0.8480\n",
      "Epoch 7/20\n",
      "375/375 [==============================] - 0s - loss: 0.3072 - acc: 0.8800 - val_loss: 0.3584 - val_acc: 0.8800\n",
      "Epoch 8/20\n",
      "375/375 [==============================] - 0s - loss: 0.2485 - acc: 0.9200 - val_loss: 0.2753 - val_acc: 0.8880\n",
      "Epoch 9/20\n",
      "375/375 [==============================] - 0s - loss: 0.2010 - acc: 0.9387 - val_loss: 0.2466 - val_acc: 0.9040\n",
      "Epoch 10/20\n",
      "375/375 [==============================] - 0s - loss: 0.1563 - acc: 0.9547 - val_loss: 0.2238 - val_acc: 0.8960\n",
      "Epoch 11/20\n",
      "375/375 [==============================] - 0s - loss: 0.1316 - acc: 0.9600 - val_loss: 0.1851 - val_acc: 0.9200\n",
      "Epoch 12/20\n",
      "375/375 [==============================] - 0s - loss: 0.1101 - acc: 0.9653 - val_loss: 0.2098 - val_acc: 0.9040\n",
      "Epoch 13/20\n",
      "375/375 [==============================] - 0s - loss: 0.1054 - acc: 0.9787 - val_loss: 0.2241 - val_acc: 0.9120\n",
      "Epoch 14/20\n",
      "375/375 [==============================] - 0s - loss: 0.0885 - acc: 0.9787 - val_loss: 0.1657 - val_acc: 0.9200\n",
      "Epoch 15/20\n",
      "375/375 [==============================] - 0s - loss: 0.0775 - acc: 0.9760 - val_loss: 0.1464 - val_acc: 0.9520\n",
      "Epoch 16/20\n",
      "375/375 [==============================] - 0s - loss: 0.0677 - acc: 0.9840 - val_loss: 0.1388 - val_acc: 0.9520\n",
      "Epoch 17/20\n",
      "375/375 [==============================] - 0s - loss: 0.0631 - acc: 0.9813 - val_loss: 0.1295 - val_acc: 0.9280\n",
      "Epoch 18/20\n",
      "375/375 [==============================] - 0s - loss: 0.0607 - acc: 0.9787 - val_loss: 0.1189 - val_acc: 0.9520\n",
      "Epoch 19/20\n",
      "375/375 [==============================] - 0s - loss: 0.0494 - acc: 0.9893 - val_loss: 0.1184 - val_acc: 0.9520\n",
      "Epoch 20/20\n",
      "375/375 [==============================] - 0s - loss: 0.0549 - acc: 0.9787 - val_loss: 0.1143 - val_acc: 0.9600\n"
     ]
    }
   ],
   "source": [
    "history = model.fit(x_train,y_train, batch_size=3, epochs=20,validation_data=(x_val,y_val) )"
   ]
  },
  {
   "cell_type": "code",
   "execution_count": 17,
   "metadata": {},
   "outputs": [
    {
     "name": "stdout",
     "output_type": "stream",
     "text": [
      "\r",
      " 32/125 [======>.......................] - ETA: 0s"
     ]
    },
    {
     "data": {
      "text/plain": [
       "[0.11430570149421691, 0.95999999570846561]"
      ]
     },
     "execution_count": 17,
     "metadata": {},
     "output_type": "execute_result"
    }
   ],
   "source": [
    "model.evaluate(x_val, y_val)"
   ]
  },
  {
   "cell_type": "code",
   "execution_count": null,
   "metadata": {
    "collapsed": true
   },
   "outputs": [],
   "source": []
  },
  {
   "cell_type": "code",
   "execution_count": 18,
   "metadata": {},
   "outputs": [
    {
     "data": {
      "image/png": "[encoded data removed]",
      "text/plain": [
       "<matplotlib.figure.Figure at 0x7fc7ac971d30>"
      ]
     },
     "metadata": {},
     "output_type": "display_data"
    },
    {
     "data": {
      "image/png": "[encoded data removed]",
      "text/plain": [
       "<matplotlib.figure.Figure at 0x7fc7a4c9e828>"
      ]
     },
     "metadata": {},
     "output_type": "display_data"
    }
   ],
   "source": [
    "import matplotlib.pyplot as plt\n",
    "%matplotlib inline\n",
    "\n",
    "acc = history.history['acc']\n",
    "val_acc = history.history['val_acc']\n",
    "loss = history.history['loss']\n",
    "val_loss = history.history['val_loss']\n",
    "\n",
    "epochs = range(1, len(acc) + 1)\n",
    "\n",
    "plt.plot(epochs, acc, 'bo', label='Training acc')\n",
    "plt.plot(epochs, val_acc, 'b', label='Validation acc')\n",
    "plt.title('Training and Validation accuracy')\n",
    "plt.legend()\n",
    "\n",
    "plt.figure()\n",
    "\n",
    "plt.plot(epochs, loss, 'bo', label='Training loss')\n",
    "plt.plot(epochs, val_loss, 'b', label='Validation loss')\n",
    "plt.title('Training and Validation loss')\n",
    "plt.legend()\n",
    "plt.show()"
   ]
  },
  {
   "cell_type": "code",
   "execution_count": 19,
   "metadata": {
    "collapsed": true
   },
   "outputs": [],
   "source": [
    "#http://scikit-learn.org/stable/auto_examples/model_selection/plot_roc.html\n",
    "\n",
    "from sklearn.metrics import roc_curve, auc\n",
    "from itertools import cycle\n",
    "from scipy import interp\n",
    "\n",
    "n_classes = y_val.shape[1]\n",
    "y_score = model.predict(x_val)\n",
    "\n",
    "# Compute ROC curve and ROC area for each class\n",
    "fpr = dict()\n",
    "tpr = dict()\n",
    "roc_auc = dict()\n",
    "for i in range(n_classes):\n",
    "    fpr[i], tpr[i], _ = roc_curve(y_val[:, i], y_score[:, i])\n",
    "    roc_auc[i] = auc(fpr[i], tpr[i])\n",
    "\n",
    "# Compute micro-average ROC curve and ROC area\n",
    "fpr[\"micro\"], tpr[\"micro\"], _ = roc_curve(y_val.ravel(), y_score.ravel())\n",
    "roc_auc[\"micro\"] = auc(fpr[\"micro\"], tpr[\"micro\"])"
   ]
  },
  {
   "cell_type": "code",
   "execution_count": 21,
   "metadata": {},
   "outputs": [
    {
     "data": {
      "image/png": "[encoded data removed]",
      "text/plain": [
       "<matplotlib.figure.Figure at 0x7fc7a4ac5ac8>"
      ]
     },
     "metadata": {},
     "output_type": "display_data"
    }
   ],
   "source": [
    "\n",
    "lw = 2\n",
    "# Compute macro-average ROC curve and ROC area\n",
    "\n",
    "# First aggregate all false positive rates\n",
    "all_fpr = np.unique(np.concatenate([fpr[i] for i in range(n_classes)]))\n",
    "\n",
    "# Then interpolate all ROC curves at this points\n",
    "mean_tpr = np.zeros_like(all_fpr)\n",
    "for i in range(n_classes):\n",
    "    mean_tpr += interp(all_fpr, fpr[i], tpr[i])\n",
    "\n",
    "# Finally average it and compute AUC\n",
    "mean_tpr /= n_classes\n",
    "\n",
    "fpr[\"macro\"] = all_fpr\n",
    "tpr[\"macro\"] = mean_tpr\n",
    "roc_auc[\"macro\"] = auc(fpr[\"macro\"], tpr[\"macro\"])\n",
    "\n",
    "# Plot all ROC curves\n",
    "plt.figure()\n",
    "plt.plot(fpr[\"micro\"], tpr[\"micro\"],\n",
    "         label='micro-average ROC curve (area = {0:0.2f})'\n",
    "               ''.format(roc_auc[\"micro\"]),\n",
    "         color='deeppink', linestyle=':', linewidth=4)\n",
    "\n",
    "plt.plot(fpr[\"macro\"], tpr[\"macro\"],\n",
    "         label='macro-average ROC curve (area = {0:0.2f})'\n",
    "               ''.format(roc_auc[\"macro\"]),\n",
    "         color='navy', linestyle=':', linewidth=4)\n",
    "\n",
    "colors = cycle(['aqua', 'darkorange', 'cornflowerblue'])\n",
    "for i, color in zip(range(n_classes), colors):\n",
    "    plt.plot(fpr[i], tpr[i], color=color, lw=lw,\n",
    "             label='ROC curve of class {0} (area = {1:0.2f})'\n",
    "             ''.format(i+1, roc_auc[i]))\n",
    "\n",
    "plt.plot([0, 1], [0, 1], 'k--', lw=lw)\n",
    "plt.xlim([0.0, 1.0])\n",
    "plt.ylim([0.0, 1.05])\n",
    "plt.xlabel('False Positive Rate')\n",
    "plt.ylabel('True Positive Rate')\n",
    "plt.title('roc')\n",
    "plt.legend(loc=\"lower right\")\n",
    "plt.show()"
   ]
  },
  {
   "cell_type": "code",
   "execution_count": null,
   "metadata": {
    "collapsed": true
   },
   "outputs": [],
   "source": []
  },
  {
   "cell_type": "code",
   "execution_count": null,
   "metadata": {
    "collapsed": true
   },
   "outputs": [],
   "source": []
  },
  {
   "cell_type": "code",
   "execution_count": null,
   "metadata": {
    "collapsed": true
   },
   "outputs": [],
   "source": []
  }
 ],
 "metadata": {
  "kernelspec": {
   "display_name": "Python 3",
   "language": "python",
   "name": "python3"
  },
  "language_info": {
   "codemirror_mode": {
    "name": "ipython",
    "version": 3
   },
   "file_extension": ".py",
   "mimetype": "text/x-python",
   "name": "python",
   "nbconvert_exporter": "python",
   "pygments_lexer": "ipython3",
   "version": "3.6.1"
  }
 },
 "nbformat": 4,
 "nbformat_minor": 2
}
